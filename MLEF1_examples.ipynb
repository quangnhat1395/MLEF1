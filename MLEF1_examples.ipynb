{
  "nbformat": 4,
  "nbformat_minor": 0,
  "metadata": {
    "colab": {
      "name": "MLEF1_examples.ipynb",
      "provenance": [],
      "collapsed_sections": [],
      "include_colab_link": true
    },
    "kernelspec": {
      "name": "python3",
      "display_name": "Python 3"
    }
  },
  "cells": [
    {
      "cell_type": "markdown",
      "metadata": {
        "id": "view-in-github",
        "colab_type": "text"
      },
      "source": [
        "<a href=\"https://colab.research.google.com/github/quangnhat1395/MLEF1/blob/master/MLEF1_examples.ipynb\" target=\"_parent\"><img src=\"https://colab.research.google.com/assets/colab-badge.svg\" alt=\"Open In Colab\"/></a>"
      ]
    },
    {
      "cell_type": "markdown",
      "metadata": {
        "id": "MPSZhPuX_Iwy",
        "colab_type": "text"
      },
      "source": [
        "# IRR, PV, FV"
      ]
    },
    {
      "cell_type": "code",
      "metadata": {
        "id": "-xvgIF_S0x23",
        "colab_type": "code",
        "colab": {}
      },
      "source": [
        "import numpy as np\n"
      ],
      "execution_count": null,
      "outputs": []
    },
    {
      "cell_type": "code",
      "metadata": {
        "id": "41ScNkap2Agp",
        "colab_type": "code",
        "colab": {
          "base_uri": "https://localhost:8080/",
          "height": 87
        },
        "outputId": "78b98da7-0c3a-4c27-c649-023d8e76ab6e"
      },
      "source": [
        "# From https://pythontic.com/finance/numpy/irr\n",
        "\n",
        "initialInvestment   = -100; # Negative, since it results in an outflow of cash\n",
        "cashFlows           = [initialInvestment, 20, 30, 40, 50];\n",
        "\n",
        "# Calculate the IRR\n",
        "\n",
        "irr = round(np.irr(cashFlows),4);\n",
        "print(\"Internal rate of return: %3.4f\" % irr);"
      ],
      "execution_count": null,
      "outputs": [
        {
          "output_type": "stream",
          "text": [
            "Internal rate of return:0.1283\n"
          ],
          "name": "stdout"
        },
        {
          "output_type": "stream",
          "text": [
            "/usr/local/lib/python3.6/dist-packages/ipykernel_launcher.py:6: DeprecationWarning: numpy.irr is deprecated and will be removed from NumPy 1.20. Use numpy_financial.irr instead (https://pypi.org/project/numpy-financial/).\n",
            "  \n"
          ],
          "name": "stderr"
        }
      ]
    },
    {
      "cell_type": "code",
      "metadata": {
        "id": "RzRCi4G52CqI",
        "colab_type": "code",
        "colab": {
          "base_uri": "https://localhost:8080/",
          "height": 138
        },
        "outputId": "9fe8d1e6-bce9-490d-d463-008462e5e976"
      },
      "source": [
        "# https://pythontic.com/finance/numpy/present%20value\n",
        "\n",
        "interestRate            = 0.06;  # Annual interest rate\n",
        "compoundingFrequency    = 2;     # Twice an year\n",
        "futureLumpSum           = 10000;\n",
        "presentValue            = np.pv(interestRate/compoundingFrequency,\n",
        "                                compoundingFrequency,\n",
        "                                0,\n",
        "                                futureLumpSum,\n",
        "                                when='end');\n",
        "\n",
        "print(\"Interest rate:%2.2f\"%interestRate);\n",
        "\n",
        "print(\"Compounding Frequency:%d\"%compoundingFrequency);\n",
        "\n",
        "print(\"Future value:%5.2f\"%futureLumpSum);\n",
        "\n",
        "print(\"Present value:%5.2f\"%presentValue);"
      ],
      "execution_count": null,
      "outputs": [
        {
          "output_type": "stream",
          "text": [
            "Interest rate:0.06\n",
            "Compounding Frequency:2\n",
            "Future value:10000.00\n",
            "Present value:-9425.96\n"
          ],
          "name": "stdout"
        },
        {
          "output_type": "stream",
          "text": [
            "/usr/local/lib/python3.6/dist-packages/ipykernel_launcher.py:8: DeprecationWarning: numpy.pv is deprecated and will be removed from NumPy 1.20. Use numpy_financial.pv instead (https://pypi.org/project/numpy-financial/).\n",
            "  \n"
          ],
          "name": "stderr"
        }
      ]
    },
    {
      "cell_type": "code",
      "metadata": {
        "id": "mTQEPgTd3BxP",
        "colab_type": "code",
        "colab": {
          "base_uri": "https://localhost:8080/",
          "height": 154
        },
        "outputId": "fd8bfa6e-190b-40c8-d3ff-45f01667c881"
      },
      "source": [
        "# From https://pythontic.com/finance/numpy/present%20value\n",
        "\n",
        "\n",
        "interestRate            = 0.045;  # Annual interest rate\n",
        "compoundingFrequency    = 4;      # Compounded every quarter\n",
        "periodicCashFlow        = 100;    # Periodic future cash flows \n",
        "futureValue             = 15000;\n",
        "numberOfYears           = 5;\n",
        "\n",
        "presentValue            = np.pv(interestRate/compoundingFrequency,\n",
        "                                compoundingFrequency*numberOfYears,\n",
        "                                periodicCashFlow,\n",
        "                                futureValue,\n",
        "                                when='end');\n",
        "\n",
        "print(\"Interest rate:%2.2f\"%interestRate);\n",
        "print(\"Compounding frequency:%d\"%compoundingFrequency);\n",
        "print(\"Periodic cash flow value:%5.2f\"%periodicCashFlow);\n",
        "print(\"Future value:%5.2f\"%futureValue);\n",
        "print(\"Present value:%5.2f\"%presentValue);"
      ],
      "execution_count": null,
      "outputs": [
        {
          "output_type": "stream",
          "text": [
            "Interest rate:0.04\n",
            "Compounding frequency:4\n",
            "Periodic cash flow value:100.00\n",
            "Future value:15000.00\n",
            "Present value:-13774.84\n"
          ],
          "name": "stdout"
        },
        {
          "output_type": "stream",
          "text": [
            "/usr/local/lib/python3.6/dist-packages/ipykernel_launcher.py:14: DeprecationWarning: numpy.pv is deprecated and will be removed from NumPy 1.20. Use numpy_financial.pv instead (https://pypi.org/project/numpy-financial/).\n",
            "  \n"
          ],
          "name": "stderr"
        }
      ]
    },
    {
      "cell_type": "code",
      "metadata": {
        "id": "EwDc7KyL6WM7",
        "colab_type": "code",
        "colab": {}
      },
      "source": [
        ""
      ],
      "execution_count": null,
      "outputs": []
    },
    {
      "cell_type": "markdown",
      "metadata": {
        "id": "gR1hmXaL_B3n",
        "colab_type": "text"
      },
      "source": [
        "# GDP Data from World Bank"
      ]
    },
    {
      "cell_type": "code",
      "metadata": {
        "id": "OlRbakzS_Hlf",
        "colab_type": "code",
        "colab": {
          "base_uri": "https://localhost:8080/",
          "height": 34
        },
        "outputId": "5c8df630-78e9-4d3a-8139-f1155617ae17"
      },
      "source": [
        "!ls "
      ],
      "execution_count": null,
      "outputs": [
        {
          "output_type": "stream",
          "text": [
            "API_NY.GDP.MKTP.CD_DS2_en_csv_v2_1217511.csv  sample_data\n"
          ],
          "name": "stdout"
        }
      ]
    },
    {
      "cell_type": "code",
      "metadata": {
        "id": "VhdlDEptBYNK",
        "colab_type": "code",
        "colab": {}
      },
      "source": [
        "!cd .."
      ],
      "execution_count": null,
      "outputs": []
    },
    {
      "cell_type": "code",
      "metadata": {
        "id": "tsl-4Qxv_4ti",
        "colab_type": "code",
        "colab": {}
      },
      "source": [
        "import pandas as pd\n",
        "import matplotlib.pyplot as plt\n"
      ],
      "execution_count": null,
      "outputs": []
    },
    {
      "cell_type": "code",
      "metadata": {
        "id": "gjuYXPcWAsv6",
        "colab_type": "code",
        "colab": {}
      },
      "source": [
        "df_gdp = pd.read_csv(\"./API_NY.GDP.MKTP.CD_DS2_en_csv_v2_1217511.csv\")"
      ],
      "execution_count": null,
      "outputs": []
    },
    {
      "cell_type": "code",
      "metadata": {
        "id": "fK2rL5puA1X4",
        "colab_type": "code",
        "colab": {
          "base_uri": "https://localhost:8080/",
          "height": 232
        },
        "outputId": "fbfe2535-bc1e-4b6c-d501-a6c264694ca8"
      },
      "source": [
        "df_gdp.head()"
      ],
      "execution_count": null,
      "outputs": [
        {
          "output_type": "execute_result",
          "data": {
            "text/html": [
              "<div>\n",
              "<style scoped>\n",
              "    .dataframe tbody tr th:only-of-type {\n",
              "        vertical-align: middle;\n",
              "    }\n",
              "\n",
              "    .dataframe tbody tr th {\n",
              "        vertical-align: top;\n",
              "    }\n",
              "\n",
              "    .dataframe thead th {\n",
              "        text-align: right;\n",
              "    }\n",
              "</style>\n",
              "<table border=\"1\" class=\"dataframe\">\n",
              "  <thead>\n",
              "    <tr style=\"text-align: right;\">\n",
              "      <th></th>\n",
              "      <th>Country_Name</th>\n",
              "      <th>Country_Code</th>\n",
              "      <th>Indicator_Name</th>\n",
              "      <th>Indicator_Code</th>\n",
              "      <th>1960</th>\n",
              "      <th>1961</th>\n",
              "      <th>1962</th>\n",
              "      <th>1963</th>\n",
              "      <th>1964</th>\n",
              "      <th>1965</th>\n",
              "      <th>1966</th>\n",
              "      <th>1967</th>\n",
              "      <th>1968</th>\n",
              "      <th>1969</th>\n",
              "      <th>1970</th>\n",
              "      <th>1971</th>\n",
              "      <th>1972</th>\n",
              "      <th>1973</th>\n",
              "      <th>1974</th>\n",
              "      <th>1975</th>\n",
              "      <th>1976</th>\n",
              "      <th>1977</th>\n",
              "      <th>1978</th>\n",
              "      <th>1979</th>\n",
              "      <th>1980</th>\n",
              "      <th>1981</th>\n",
              "      <th>1982</th>\n",
              "      <th>1983</th>\n",
              "      <th>1984</th>\n",
              "      <th>1985</th>\n",
              "      <th>1986</th>\n",
              "      <th>1987</th>\n",
              "      <th>1988</th>\n",
              "      <th>1989</th>\n",
              "      <th>1990</th>\n",
              "      <th>1991</th>\n",
              "      <th>1992</th>\n",
              "      <th>1993</th>\n",
              "      <th>1994</th>\n",
              "      <th>1995</th>\n",
              "      <th>1996</th>\n",
              "      <th>1997</th>\n",
              "      <th>1998</th>\n",
              "      <th>1999</th>\n",
              "      <th>2000</th>\n",
              "      <th>2001</th>\n",
              "      <th>2002</th>\n",
              "      <th>2003</th>\n",
              "      <th>2004</th>\n",
              "      <th>2005</th>\n",
              "      <th>2006</th>\n",
              "      <th>2007</th>\n",
              "      <th>2008</th>\n",
              "      <th>2009</th>\n",
              "      <th>2010</th>\n",
              "      <th>2011</th>\n",
              "      <th>2012</th>\n",
              "      <th>2013</th>\n",
              "      <th>2014</th>\n",
              "      <th>2015</th>\n",
              "      <th>2016</th>\n",
              "      <th>2017</th>\n",
              "      <th>2018</th>\n",
              "      <th>2019</th>\n",
              "      <th>Unnamed: 64</th>\n",
              "    </tr>\n",
              "  </thead>\n",
              "  <tbody>\n",
              "    <tr>\n",
              "      <th>0</th>\n",
              "      <td>Aruba</td>\n",
              "      <td>ABW</td>\n",
              "      <td>GDP (current US$)</td>\n",
              "      <td>NY.GDP.MKTP.CD</td>\n",
              "      <td>NaN</td>\n",
              "      <td>NaN</td>\n",
              "      <td>NaN</td>\n",
              "      <td>NaN</td>\n",
              "      <td>NaN</td>\n",
              "      <td>NaN</td>\n",
              "      <td>NaN</td>\n",
              "      <td>NaN</td>\n",
              "      <td>NaN</td>\n",
              "      <td>NaN</td>\n",
              "      <td>NaN</td>\n",
              "      <td>NaN</td>\n",
              "      <td>NaN</td>\n",
              "      <td>NaN</td>\n",
              "      <td>NaN</td>\n",
              "      <td>NaN</td>\n",
              "      <td>NaN</td>\n",
              "      <td>NaN</td>\n",
              "      <td>NaN</td>\n",
              "      <td>NaN</td>\n",
              "      <td>NaN</td>\n",
              "      <td>NaN</td>\n",
              "      <td>NaN</td>\n",
              "      <td>NaN</td>\n",
              "      <td>NaN</td>\n",
              "      <td>NaN</td>\n",
              "      <td>4.054634e+08</td>\n",
              "      <td>4.876025e+08</td>\n",
              "      <td>5.964236e+08</td>\n",
              "      <td>6.953044e+08</td>\n",
              "      <td>7.648871e+08</td>\n",
              "      <td>8.721387e+08</td>\n",
              "      <td>9.584632e+08</td>\n",
              "      <td>1.082980e+09</td>\n",
              "      <td>1.245688e+09</td>\n",
              "      <td>1.320475e+09</td>\n",
              "      <td>1.379961e+09</td>\n",
              "      <td>1.531944e+09</td>\n",
              "      <td>1.665101e+09</td>\n",
              "      <td>1.722799e+09</td>\n",
              "      <td>1.873453e+09</td>\n",
              "      <td>1.920112e+09</td>\n",
              "      <td>1.941341e+09</td>\n",
              "      <td>2.021229e+09</td>\n",
              "      <td>2.228492e+09</td>\n",
              "      <td>2.330726e+09</td>\n",
              "      <td>2.424581e+09</td>\n",
              "      <td>2.615084e+09</td>\n",
              "      <td>2.745251e+09</td>\n",
              "      <td>2.498883e+09</td>\n",
              "      <td>2.390503e+09</td>\n",
              "      <td>2.549721e+09</td>\n",
              "      <td>2.534637e+09</td>\n",
              "      <td>2.701676e+09</td>\n",
              "      <td>2.765363e+09</td>\n",
              "      <td>2.919553e+09</td>\n",
              "      <td>2.965922e+09</td>\n",
              "      <td>3.056425e+09</td>\n",
              "      <td>NaN</td>\n",
              "      <td>NaN</td>\n",
              "      <td>NaN</td>\n",
              "    </tr>\n",
              "    <tr>\n",
              "      <th>1</th>\n",
              "      <td>Afghanistan</td>\n",
              "      <td>AFG</td>\n",
              "      <td>GDP (current US$)</td>\n",
              "      <td>NY.GDP.MKTP.CD</td>\n",
              "      <td>5.377778e+08</td>\n",
              "      <td>5.488889e+08</td>\n",
              "      <td>5.466667e+08</td>\n",
              "      <td>7.511112e+08</td>\n",
              "      <td>8.000000e+08</td>\n",
              "      <td>1.006667e+09</td>\n",
              "      <td>1.400000e+09</td>\n",
              "      <td>1.673333e+09</td>\n",
              "      <td>1.373333e+09</td>\n",
              "      <td>1.408889e+09</td>\n",
              "      <td>1.748887e+09</td>\n",
              "      <td>1.831109e+09</td>\n",
              "      <td>1.595555e+09</td>\n",
              "      <td>1.733333e+09</td>\n",
              "      <td>2.155555e+09</td>\n",
              "      <td>2.366667e+09</td>\n",
              "      <td>2.555556e+09</td>\n",
              "      <td>2.953333e+09</td>\n",
              "      <td>3.300000e+09</td>\n",
              "      <td>3.697940e+09</td>\n",
              "      <td>3.641723e+09</td>\n",
              "      <td>3.478788e+09</td>\n",
              "      <td>NaN</td>\n",
              "      <td>NaN</td>\n",
              "      <td>NaN</td>\n",
              "      <td>NaN</td>\n",
              "      <td>NaN</td>\n",
              "      <td>NaN</td>\n",
              "      <td>NaN</td>\n",
              "      <td>NaN</td>\n",
              "      <td>NaN</td>\n",
              "      <td>NaN</td>\n",
              "      <td>NaN</td>\n",
              "      <td>NaN</td>\n",
              "      <td>NaN</td>\n",
              "      <td>NaN</td>\n",
              "      <td>NaN</td>\n",
              "      <td>NaN</td>\n",
              "      <td>NaN</td>\n",
              "      <td>NaN</td>\n",
              "      <td>NaN</td>\n",
              "      <td>NaN</td>\n",
              "      <td>4.055180e+09</td>\n",
              "      <td>4.515559e+09</td>\n",
              "      <td>5.226779e+09</td>\n",
              "      <td>6.209138e+09</td>\n",
              "      <td>6.971286e+09</td>\n",
              "      <td>9.747880e+09</td>\n",
              "      <td>1.010923e+10</td>\n",
              "      <td>1.243909e+10</td>\n",
              "      <td>1.585657e+10</td>\n",
              "      <td>1.780429e+10</td>\n",
              "      <td>2.000160e+10</td>\n",
              "      <td>2.056107e+10</td>\n",
              "      <td>2.048489e+10</td>\n",
              "      <td>1.990711e+10</td>\n",
              "      <td>1.936264e+10</td>\n",
              "      <td>2.019176e+10</td>\n",
              "      <td>1.948438e+10</td>\n",
              "      <td>1.910135e+10</td>\n",
              "      <td>NaN</td>\n",
              "    </tr>\n",
              "    <tr>\n",
              "      <th>2</th>\n",
              "      <td>Angola</td>\n",
              "      <td>AGO</td>\n",
              "      <td>GDP (current US$)</td>\n",
              "      <td>NY.GDP.MKTP.CD</td>\n",
              "      <td>NaN</td>\n",
              "      <td>NaN</td>\n",
              "      <td>NaN</td>\n",
              "      <td>NaN</td>\n",
              "      <td>NaN</td>\n",
              "      <td>NaN</td>\n",
              "      <td>NaN</td>\n",
              "      <td>NaN</td>\n",
              "      <td>NaN</td>\n",
              "      <td>NaN</td>\n",
              "      <td>NaN</td>\n",
              "      <td>NaN</td>\n",
              "      <td>NaN</td>\n",
              "      <td>NaN</td>\n",
              "      <td>NaN</td>\n",
              "      <td>NaN</td>\n",
              "      <td>NaN</td>\n",
              "      <td>NaN</td>\n",
              "      <td>NaN</td>\n",
              "      <td>NaN</td>\n",
              "      <td>5.930503e+09</td>\n",
              "      <td>5.550483e+09</td>\n",
              "      <td>5.550483e+09</td>\n",
              "      <td>5.784342e+09</td>\n",
              "      <td>6.131475e+09</td>\n",
              "      <td>7.553560e+09</td>\n",
              "      <td>7.072063e+09</td>\n",
              "      <td>8.083872e+09</td>\n",
              "      <td>8.769251e+09</td>\n",
              "      <td>1.020110e+10</td>\n",
              "      <td>1.122876e+10</td>\n",
              "      <td>1.060378e+10</td>\n",
              "      <td>8.307811e+09</td>\n",
              "      <td>5.768720e+09</td>\n",
              "      <td>4.438321e+09</td>\n",
              "      <td>5.538749e+09</td>\n",
              "      <td>7.526447e+09</td>\n",
              "      <td>7.648377e+09</td>\n",
              "      <td>6.506230e+09</td>\n",
              "      <td>6.152923e+09</td>\n",
              "      <td>9.129595e+09</td>\n",
              "      <td>8.936064e+09</td>\n",
              "      <td>1.528559e+10</td>\n",
              "      <td>1.781271e+10</td>\n",
              "      <td>2.355205e+10</td>\n",
              "      <td>3.697092e+10</td>\n",
              "      <td>5.238101e+10</td>\n",
              "      <td>6.526645e+10</td>\n",
              "      <td>8.853861e+10</td>\n",
              "      <td>7.030716e+10</td>\n",
              "      <td>8.379950e+10</td>\n",
              "      <td>1.117897e+11</td>\n",
              "      <td>1.280529e+11</td>\n",
              "      <td>1.367099e+11</td>\n",
              "      <td>1.457122e+11</td>\n",
              "      <td>1.161936e+11</td>\n",
              "      <td>1.011239e+11</td>\n",
              "      <td>1.221238e+11</td>\n",
              "      <td>1.013532e+11</td>\n",
              "      <td>9.463542e+10</td>\n",
              "      <td>NaN</td>\n",
              "    </tr>\n",
              "    <tr>\n",
              "      <th>3</th>\n",
              "      <td>Albania</td>\n",
              "      <td>ALB</td>\n",
              "      <td>GDP (current US$)</td>\n",
              "      <td>NY.GDP.MKTP.CD</td>\n",
              "      <td>NaN</td>\n",
              "      <td>NaN</td>\n",
              "      <td>NaN</td>\n",
              "      <td>NaN</td>\n",
              "      <td>NaN</td>\n",
              "      <td>NaN</td>\n",
              "      <td>NaN</td>\n",
              "      <td>NaN</td>\n",
              "      <td>NaN</td>\n",
              "      <td>NaN</td>\n",
              "      <td>NaN</td>\n",
              "      <td>NaN</td>\n",
              "      <td>NaN</td>\n",
              "      <td>NaN</td>\n",
              "      <td>NaN</td>\n",
              "      <td>NaN</td>\n",
              "      <td>NaN</td>\n",
              "      <td>NaN</td>\n",
              "      <td>NaN</td>\n",
              "      <td>NaN</td>\n",
              "      <td>NaN</td>\n",
              "      <td>NaN</td>\n",
              "      <td>NaN</td>\n",
              "      <td>NaN</td>\n",
              "      <td>1.857338e+09</td>\n",
              "      <td>1.897050e+09</td>\n",
              "      <td>2.097326e+09</td>\n",
              "      <td>2.080796e+09</td>\n",
              "      <td>2.051236e+09</td>\n",
              "      <td>2.253090e+09</td>\n",
              "      <td>2.028554e+09</td>\n",
              "      <td>1.099559e+09</td>\n",
              "      <td>6.521750e+08</td>\n",
              "      <td>1.185315e+09</td>\n",
              "      <td>1.880952e+09</td>\n",
              "      <td>2.392765e+09</td>\n",
              "      <td>3.199643e+09</td>\n",
              "      <td>2.258516e+09</td>\n",
              "      <td>2.545967e+09</td>\n",
              "      <td>3.212119e+09</td>\n",
              "      <td>3.480355e+09</td>\n",
              "      <td>3.922099e+09</td>\n",
              "      <td>4.348070e+09</td>\n",
              "      <td>5.611492e+09</td>\n",
              "      <td>7.184681e+09</td>\n",
              "      <td>8.052076e+09</td>\n",
              "      <td>8.896074e+09</td>\n",
              "      <td>1.067732e+10</td>\n",
              "      <td>1.288135e+10</td>\n",
              "      <td>1.204422e+10</td>\n",
              "      <td>1.192693e+10</td>\n",
              "      <td>1.289077e+10</td>\n",
              "      <td>1.231983e+10</td>\n",
              "      <td>1.277622e+10</td>\n",
              "      <td>1.322814e+10</td>\n",
              "      <td>1.138685e+10</td>\n",
              "      <td>1.186120e+10</td>\n",
              "      <td>1.301969e+10</td>\n",
              "      <td>1.514702e+10</td>\n",
              "      <td>1.527808e+10</td>\n",
              "      <td>NaN</td>\n",
              "    </tr>\n",
              "    <tr>\n",
              "      <th>4</th>\n",
              "      <td>Andorra</td>\n",
              "      <td>AND</td>\n",
              "      <td>GDP (current US$)</td>\n",
              "      <td>NY.GDP.MKTP.CD</td>\n",
              "      <td>NaN</td>\n",
              "      <td>NaN</td>\n",
              "      <td>NaN</td>\n",
              "      <td>NaN</td>\n",
              "      <td>NaN</td>\n",
              "      <td>NaN</td>\n",
              "      <td>NaN</td>\n",
              "      <td>NaN</td>\n",
              "      <td>NaN</td>\n",
              "      <td>NaN</td>\n",
              "      <td>7.861921e+07</td>\n",
              "      <td>8.940982e+07</td>\n",
              "      <td>1.134082e+08</td>\n",
              "      <td>1.508201e+08</td>\n",
              "      <td>1.865587e+08</td>\n",
              "      <td>2.201272e+08</td>\n",
              "      <td>2.272810e+08</td>\n",
              "      <td>2.540202e+08</td>\n",
              "      <td>3.080089e+08</td>\n",
              "      <td>4.115783e+08</td>\n",
              "      <td>4.464161e+08</td>\n",
              "      <td>3.889587e+08</td>\n",
              "      <td>3.758960e+08</td>\n",
              "      <td>3.278618e+08</td>\n",
              "      <td>3.300707e+08</td>\n",
              "      <td>3.467380e+08</td>\n",
              "      <td>4.820006e+08</td>\n",
              "      <td>6.113164e+08</td>\n",
              "      <td>7.214259e+08</td>\n",
              "      <td>7.954493e+08</td>\n",
              "      <td>1.029048e+09</td>\n",
              "      <td>1.106929e+09</td>\n",
              "      <td>1.210014e+09</td>\n",
              "      <td>1.007026e+09</td>\n",
              "      <td>1.017549e+09</td>\n",
              "      <td>1.178739e+09</td>\n",
              "      <td>1.223945e+09</td>\n",
              "      <td>1.180597e+09</td>\n",
              "      <td>1.211932e+09</td>\n",
              "      <td>1.239876e+09</td>\n",
              "      <td>1.429049e+09</td>\n",
              "      <td>1.546926e+09</td>\n",
              "      <td>1.755910e+09</td>\n",
              "      <td>2.361727e+09</td>\n",
              "      <td>2.894922e+09</td>\n",
              "      <td>3.159905e+09</td>\n",
              "      <td>3.456442e+09</td>\n",
              "      <td>3.952601e+09</td>\n",
              "      <td>4.085631e+09</td>\n",
              "      <td>3.674410e+09</td>\n",
              "      <td>3.449967e+09</td>\n",
              "      <td>3.629204e+09</td>\n",
              "      <td>3.188809e+09</td>\n",
              "      <td>3.193704e+09</td>\n",
              "      <td>3.271808e+09</td>\n",
              "      <td>2.789870e+09</td>\n",
              "      <td>2.896679e+09</td>\n",
              "      <td>3.000181e+09</td>\n",
              "      <td>3.218316e+09</td>\n",
              "      <td>3.154058e+09</td>\n",
              "      <td>NaN</td>\n",
              "    </tr>\n",
              "  </tbody>\n",
              "</table>\n",
              "</div>"
            ],
            "text/plain": [
              "  Country_Name Country_Code  ...          2019 Unnamed: 64\n",
              "0        Aruba          ABW  ...           NaN         NaN\n",
              "1  Afghanistan          AFG  ...  1.910135e+10         NaN\n",
              "2       Angola          AGO  ...  9.463542e+10         NaN\n",
              "3      Albania          ALB  ...  1.527808e+10         NaN\n",
              "4      Andorra          AND  ...  3.154058e+09         NaN\n",
              "\n",
              "[5 rows x 65 columns]"
            ]
          },
          "metadata": {
            "tags": []
          },
          "execution_count": 22
        }
      ]
    },
    {
      "cell_type": "code",
      "metadata": {
        "id": "fo_026IDByHI",
        "colab_type": "code",
        "colab": {
          "base_uri": "https://localhost:8080/",
          "height": 114
        },
        "outputId": "bfeba2a3-7fc4-4c73-8abf-540175b13ebb"
      },
      "source": [
        "df_gdp.query(\"Country_Name == 'Vietnam'\")"
      ],
      "execution_count": null,
      "outputs": [
        {
          "output_type": "execute_result",
          "data": {
            "text/html": [
              "<div>\n",
              "<style scoped>\n",
              "    .dataframe tbody tr th:only-of-type {\n",
              "        vertical-align: middle;\n",
              "    }\n",
              "\n",
              "    .dataframe tbody tr th {\n",
              "        vertical-align: top;\n",
              "    }\n",
              "\n",
              "    .dataframe thead th {\n",
              "        text-align: right;\n",
              "    }\n",
              "</style>\n",
              "<table border=\"1\" class=\"dataframe\">\n",
              "  <thead>\n",
              "    <tr style=\"text-align: right;\">\n",
              "      <th></th>\n",
              "      <th>Country_Name</th>\n",
              "      <th>Country_Code</th>\n",
              "      <th>Indicator_Name</th>\n",
              "      <th>Indicator_Code</th>\n",
              "      <th>1960</th>\n",
              "      <th>1961</th>\n",
              "      <th>1962</th>\n",
              "      <th>1963</th>\n",
              "      <th>1964</th>\n",
              "      <th>1965</th>\n",
              "      <th>1966</th>\n",
              "      <th>1967</th>\n",
              "      <th>1968</th>\n",
              "      <th>1969</th>\n",
              "      <th>1970</th>\n",
              "      <th>1971</th>\n",
              "      <th>1972</th>\n",
              "      <th>1973</th>\n",
              "      <th>1974</th>\n",
              "      <th>1975</th>\n",
              "      <th>1976</th>\n",
              "      <th>1977</th>\n",
              "      <th>1978</th>\n",
              "      <th>1979</th>\n",
              "      <th>1980</th>\n",
              "      <th>1981</th>\n",
              "      <th>1982</th>\n",
              "      <th>1983</th>\n",
              "      <th>1984</th>\n",
              "      <th>1985</th>\n",
              "      <th>1986</th>\n",
              "      <th>1987</th>\n",
              "      <th>1988</th>\n",
              "      <th>1989</th>\n",
              "      <th>1990</th>\n",
              "      <th>1991</th>\n",
              "      <th>1992</th>\n",
              "      <th>1993</th>\n",
              "      <th>1994</th>\n",
              "      <th>1995</th>\n",
              "      <th>1996</th>\n",
              "      <th>1997</th>\n",
              "      <th>1998</th>\n",
              "      <th>1999</th>\n",
              "      <th>2000</th>\n",
              "      <th>2001</th>\n",
              "      <th>2002</th>\n",
              "      <th>2003</th>\n",
              "      <th>2004</th>\n",
              "      <th>2005</th>\n",
              "      <th>2006</th>\n",
              "      <th>2007</th>\n",
              "      <th>2008</th>\n",
              "      <th>2009</th>\n",
              "      <th>2010</th>\n",
              "      <th>2011</th>\n",
              "      <th>2012</th>\n",
              "      <th>2013</th>\n",
              "      <th>2014</th>\n",
              "      <th>2015</th>\n",
              "      <th>2016</th>\n",
              "      <th>2017</th>\n",
              "      <th>2018</th>\n",
              "      <th>2019</th>\n",
              "      <th>Unnamed: 64</th>\n",
              "    </tr>\n",
              "  </thead>\n",
              "  <tbody>\n",
              "    <tr>\n",
              "      <th>255</th>\n",
              "      <td>Vietnam</td>\n",
              "      <td>VNM</td>\n",
              "      <td>GDP (current US$)</td>\n",
              "      <td>NY.GDP.MKTP.CD</td>\n",
              "      <td>NaN</td>\n",
              "      <td>NaN</td>\n",
              "      <td>NaN</td>\n",
              "      <td>NaN</td>\n",
              "      <td>NaN</td>\n",
              "      <td>NaN</td>\n",
              "      <td>NaN</td>\n",
              "      <td>NaN</td>\n",
              "      <td>NaN</td>\n",
              "      <td>NaN</td>\n",
              "      <td>NaN</td>\n",
              "      <td>NaN</td>\n",
              "      <td>NaN</td>\n",
              "      <td>NaN</td>\n",
              "      <td>NaN</td>\n",
              "      <td>NaN</td>\n",
              "      <td>NaN</td>\n",
              "      <td>NaN</td>\n",
              "      <td>NaN</td>\n",
              "      <td>NaN</td>\n",
              "      <td>NaN</td>\n",
              "      <td>NaN</td>\n",
              "      <td>NaN</td>\n",
              "      <td>NaN</td>\n",
              "      <td>NaN</td>\n",
              "      <td>1.409469e+10</td>\n",
              "      <td>2.633662e+10</td>\n",
              "      <td>3.665811e+10</td>\n",
              "      <td>2.542381e+10</td>\n",
              "      <td>6.293305e+09</td>\n",
              "      <td>6.471741e+09</td>\n",
              "      <td>9.613370e+09</td>\n",
              "      <td>9.866990e+09</td>\n",
              "      <td>1.318095e+10</td>\n",
              "      <td>1.628643e+10</td>\n",
              "      <td>2.073616e+10</td>\n",
              "      <td>2.465747e+10</td>\n",
              "      <td>2.684370e+10</td>\n",
              "      <td>2.720960e+10</td>\n",
              "      <td>2.868366e+10</td>\n",
              "      <td>3.117252e+10</td>\n",
              "      <td>3.268520e+10</td>\n",
              "      <td>3.506411e+10</td>\n",
              "      <td>3.955251e+10</td>\n",
              "      <td>4.542785e+10</td>\n",
              "      <td>5.763326e+10</td>\n",
              "      <td>6.637166e+10</td>\n",
              "      <td>7.741443e+10</td>\n",
              "      <td>9.913030e+10</td>\n",
              "      <td>1.060147e+11</td>\n",
              "      <td>1.159317e+11</td>\n",
              "      <td>1.355394e+11</td>\n",
              "      <td>1.558200e+11</td>\n",
              "      <td>1.712220e+11</td>\n",
              "      <td>1.862047e+11</td>\n",
              "      <td>1.932411e+11</td>\n",
              "      <td>2.052762e+11</td>\n",
              "      <td>2.237799e+11</td>\n",
              "      <td>2.452137e+11</td>\n",
              "      <td>2.619212e+11</td>\n",
              "      <td>NaN</td>\n",
              "    </tr>\n",
              "  </tbody>\n",
              "</table>\n",
              "</div>"
            ],
            "text/plain": [
              "    Country_Name Country_Code  ...          2019 Unnamed: 64\n",
              "255      Vietnam          VNM  ...  2.619212e+11         NaN\n",
              "\n",
              "[1 rows x 65 columns]"
            ]
          },
          "metadata": {
            "tags": []
          },
          "execution_count": 27
        }
      ]
    },
    {
      "cell_type": "code",
      "metadata": {
        "id": "8fTDK375K37n",
        "colab_type": "code",
        "colab": {}
      },
      "source": [
        "columns_1985_2019 = df_gdp.columns[29:64]"
      ],
      "execution_count": null,
      "outputs": []
    },
    {
      "cell_type": "code",
      "metadata": {
        "id": "wcV8L8ZgCdWE",
        "colab_type": "code",
        "colab": {}
      },
      "source": [
        "vn_gdp_1985_2019 = df_gdp.loc[df_gdp['Country_Name'] == 'Vietnam'].iloc[:, 29:64].values.tolist()[0]"
      ],
      "execution_count": null,
      "outputs": []
    },
    {
      "cell_type": "code",
      "metadata": {
        "id": "CGyUPc7MLQJx",
        "colab_type": "code",
        "colab": {}
      },
      "source": [
        "vn_gdp_1985_2019 = df_gdp.iloc[[255], 29:64].values.tolist()[0]"
      ],
      "execution_count": null,
      "outputs": []
    },
    {
      "cell_type": "code",
      "metadata": {
        "id": "TPEvQsvIHl_-",
        "colab_type": "code",
        "colab": {
          "base_uri": "https://localhost:8080/",
          "height": 34
        },
        "outputId": "05380a4b-87bf-485d-f881-3a8e3b65fa8d"
      },
      "source": [
        "len(x)"
      ],
      "execution_count": null,
      "outputs": [
        {
          "output_type": "execute_result",
          "data": {
            "text/plain": [
              "35"
            ]
          },
          "metadata": {
            "tags": []
          },
          "execution_count": 54
        }
      ]
    },
    {
      "cell_type": "code",
      "metadata": {
        "id": "mrkazD1GImKM",
        "colab_type": "code",
        "colab": {
          "base_uri": "https://localhost:8080/",
          "height": 588
        },
        "outputId": "1c602680-6317-4d37-a679-d313f394f9d8"
      },
      "source": [
        "x"
      ],
      "execution_count": null,
      "outputs": [
        {
          "output_type": "execute_result",
          "data": {
            "text/plain": [
              "[[14094687820.7445,\n",
              "  26336616250.4397,\n",
              "  36658108850.3149,\n",
              "  25423812648.5941,\n",
              "  6293304974.594029,\n",
              "  6471740805.5698395,\n",
              "  9613369520.41885,\n",
              "  9866990236.435871,\n",
              "  13180953598.1716,\n",
              "  16286433533.3228,\n",
              "  20736164458.9505,\n",
              "  24657470574.7501,\n",
              "  26843700441.5482,\n",
              "  27209602050.0452,\n",
              "  28683659006.7752,\n",
              "  31172518403.3162,\n",
              "  32685198735.3053,\n",
              "  35064105500.8345,\n",
              "  39552513316.0734,\n",
              "  45427854693.2554,\n",
              "  57633255618.2731,\n",
              "  66371664817.0436,\n",
              "  77414425532.2452,\n",
              "  99130304099.1274,\n",
              "  106014659770.22198,\n",
              "  115931749697.241,\n",
              "  135539438559.709,\n",
              "  155820001920.492,\n",
              "  171222025117.38098,\n",
              "  186204652922.262,\n",
              "  193241108709.536,\n",
              "  205276172134.901,\n",
              "  223779865815.183,\n",
              "  245213686369.15698]]"
            ]
          },
          "metadata": {
            "tags": []
          },
          "execution_count": 50
        }
      ]
    },
    {
      "cell_type": "code",
      "metadata": {
        "id": "LeurciEKJ34-",
        "colab_type": "code",
        "colab": {
          "base_uri": "https://localhost:8080/",
          "height": 50
        },
        "outputId": "557c3ac9-c55c-42c6-ea38-3ee3e2e2c31a"
      },
      "source": [
        ""
      ],
      "execution_count": null,
      "outputs": [
        {
          "output_type": "execute_result",
          "data": {
            "text/plain": [
              "<Figure size 3600x1440 with 0 Axes>"
            ]
          },
          "metadata": {
            "tags": []
          },
          "execution_count": 58
        },
        {
          "output_type": "display_data",
          "data": {
            "text/plain": [
              "<Figure size 3600x1440 with 0 Axes>"
            ]
          },
          "metadata": {
            "tags": []
          }
        }
      ]
    },
    {
      "cell_type": "code",
      "metadata": {
        "id": "VzQxH3haJfRP",
        "colab_type": "code",
        "colab": {
          "base_uri": "https://localhost:8080/",
          "height": 509
        },
        "outputId": "326f155f-4721-4f90-9fe7-7e1d0d71376d"
      },
      "source": [
        "df_gdp.loc[df_gdp['Country_Name'] == 'Vietnam'].iloc[:, 29:64].plot.bar(figsize=(15,10))"
      ],
      "execution_count": null,
      "outputs": [
        {
          "output_type": "execute_result",
          "data": {
            "text/plain": [
              "<matplotlib.axes._subplots.AxesSubplot at 0x7fa442261470>"
            ]
          },
          "metadata": {
            "tags": []
          },
          "execution_count": 63
        },
        {
          "output_type": "display_data",
          "data": {
            "image/png": "[encoded data removed]",
            "text/plain": [
              "<Figure size 1080x720 with 1 Axes>"
            ]
          },
          "metadata": {
            "tags": [],
            "needs_background": "light"
          }
        }
      ]
    },
    {
      "cell_type": "code",
      "metadata": {
        "id": "1qfZfkxBLDXE",
        "colab_type": "code",
        "colab": {}
      },
      "source": [
        ""
      ],
      "execution_count": null,
      "outputs": []
    },
    {
      "cell_type": "code",
      "metadata": {
        "id": "oWgJakeoDGLh",
        "colab_type": "code",
        "colab": {
          "base_uri": "https://localhost:8080/",
          "height": 143
        },
        "outputId": "0a04e78a-3950-4010-bb67-3677e5033488"
      },
      "source": [
        "df_gdp[(df_gdp['Country_Name'] == 'Vietnam')| (df_gdp['Country_Name'] == 'United States')]"
      ],
      "execution_count": null,
      "outputs": [
        {
          "output_type": "execute_result",
          "data": {
            "text/html": [
              "<div>\n",
              "<style scoped>\n",
              "    .dataframe tbody tr th:only-of-type {\n",
              "        vertical-align: middle;\n",
              "    }\n",
              "\n",
              "    .dataframe tbody tr th {\n",
              "        vertical-align: top;\n",
              "    }\n",
              "\n",
              "    .dataframe thead th {\n",
              "        text-align: right;\n",
              "    }\n",
              "</style>\n",
              "<table border=\"1\" class=\"dataframe\">\n",
              "  <thead>\n",
              "    <tr style=\"text-align: right;\">\n",
              "      <th></th>\n",
              "      <th>Country_Name</th>\n",
              "      <th>Country_Code</th>\n",
              "      <th>Indicator_Name</th>\n",
              "      <th>Indicator_Code</th>\n",
              "      <th>1960</th>\n",
              "      <th>1961</th>\n",
              "      <th>1962</th>\n",
              "      <th>1963</th>\n",
              "      <th>1964</th>\n",
              "      <th>1965</th>\n",
              "      <th>1966</th>\n",
              "      <th>1967</th>\n",
              "      <th>1968</th>\n",
              "      <th>1969</th>\n",
              "      <th>1970</th>\n",
              "      <th>1971</th>\n",
              "      <th>1972</th>\n",
              "      <th>1973</th>\n",
              "      <th>1974</th>\n",
              "      <th>1975</th>\n",
              "      <th>1976</th>\n",
              "      <th>1977</th>\n",
              "      <th>1978</th>\n",
              "      <th>1979</th>\n",
              "      <th>1980</th>\n",
              "      <th>1981</th>\n",
              "      <th>1982</th>\n",
              "      <th>1983</th>\n",
              "      <th>1984</th>\n",
              "      <th>1985</th>\n",
              "      <th>1986</th>\n",
              "      <th>1987</th>\n",
              "      <th>1988</th>\n",
              "      <th>1989</th>\n",
              "      <th>1990</th>\n",
              "      <th>1991</th>\n",
              "      <th>1992</th>\n",
              "      <th>1993</th>\n",
              "      <th>1994</th>\n",
              "      <th>1995</th>\n",
              "      <th>1996</th>\n",
              "      <th>1997</th>\n",
              "      <th>1998</th>\n",
              "      <th>1999</th>\n",
              "      <th>2000</th>\n",
              "      <th>2001</th>\n",
              "      <th>2002</th>\n",
              "      <th>2003</th>\n",
              "      <th>2004</th>\n",
              "      <th>2005</th>\n",
              "      <th>2006</th>\n",
              "      <th>2007</th>\n",
              "      <th>2008</th>\n",
              "      <th>2009</th>\n",
              "      <th>2010</th>\n",
              "      <th>2011</th>\n",
              "      <th>2012</th>\n",
              "      <th>2013</th>\n",
              "      <th>2014</th>\n",
              "      <th>2015</th>\n",
              "      <th>2016</th>\n",
              "      <th>2017</th>\n",
              "      <th>2018</th>\n",
              "      <th>2019</th>\n",
              "      <th>Unnamed: 64</th>\n",
              "    </tr>\n",
              "  </thead>\n",
              "  <tbody>\n",
              "    <tr>\n",
              "      <th>249</th>\n",
              "      <td>United States</td>\n",
              "      <td>USA</td>\n",
              "      <td>GDP (current US$)</td>\n",
              "      <td>NY.GDP.MKTP.CD</td>\n",
              "      <td>5.433000e+11</td>\n",
              "      <td>5.633000e+11</td>\n",
              "      <td>6.051000e+11</td>\n",
              "      <td>6.386000e+11</td>\n",
              "      <td>6.858000e+11</td>\n",
              "      <td>7.437000e+11</td>\n",
              "      <td>8.150000e+11</td>\n",
              "      <td>8.617000e+11</td>\n",
              "      <td>9.425000e+11</td>\n",
              "      <td>1.019900e+12</td>\n",
              "      <td>1.073303e+12</td>\n",
              "      <td>1.164850e+12</td>\n",
              "      <td>1.279110e+12</td>\n",
              "      <td>1.425376e+12</td>\n",
              "      <td>1.545243e+12</td>\n",
              "      <td>1.684904e+12</td>\n",
              "      <td>1.873412e+12</td>\n",
              "      <td>2.081826e+12</td>\n",
              "      <td>2.351599e+12</td>\n",
              "      <td>2.627334e+12</td>\n",
              "      <td>2.857307e+12</td>\n",
              "      <td>3.207042e+12</td>\n",
              "      <td>3.343789e+12</td>\n",
              "      <td>3.634038e+12</td>\n",
              "      <td>4.037613e+12</td>\n",
              "      <td>4.338979e+12</td>\n",
              "      <td>4.579631e+12</td>\n",
              "      <td>4.855215e+12</td>\n",
              "      <td>5.236438e+12</td>\n",
              "      <td>5.641580e+12</td>\n",
              "      <td>5.963144e+12</td>\n",
              "      <td>6.158129e+12</td>\n",
              "      <td>6.520327e+12</td>\n",
              "      <td>6.858559e+12</td>\n",
              "      <td>7.287236e+12</td>\n",
              "      <td>7.639749e+12</td>\n",
              "      <td>8.073122e+12</td>\n",
              "      <td>8.577554e+12</td>\n",
              "      <td>9.062818e+12</td>\n",
              "      <td>9.630664e+12</td>\n",
              "      <td>1.025235e+13</td>\n",
              "      <td>1.058182e+13</td>\n",
              "      <td>1.093642e+13</td>\n",
              "      <td>1.145824e+13</td>\n",
              "      <td>1.221373e+13</td>\n",
              "      <td>1.303664e+13</td>\n",
              "      <td>1.381461e+13</td>\n",
              "      <td>1.445186e+13</td>\n",
              "      <td>1.471284e+13</td>\n",
              "      <td>1.444893e+13</td>\n",
              "      <td>1.499205e+13</td>\n",
              "      <td>1.554258e+13</td>\n",
              "      <td>1.619701e+13</td>\n",
              "      <td>1.678485e+13</td>\n",
              "      <td>1.752175e+13</td>\n",
              "      <td>1.821930e+13</td>\n",
              "      <td>1.870719e+13</td>\n",
              "      <td>1.948539e+13</td>\n",
              "      <td>2.058022e+13</td>\n",
              "      <td>2.142770e+13</td>\n",
              "      <td>NaN</td>\n",
              "    </tr>\n",
              "    <tr>\n",
              "      <th>255</th>\n",
              "      <td>Vietnam</td>\n",
              "      <td>VNM</td>\n",
              "      <td>GDP (current US$)</td>\n",
              "      <td>NY.GDP.MKTP.CD</td>\n",
              "      <td>NaN</td>\n",
              "      <td>NaN</td>\n",
              "      <td>NaN</td>\n",
              "      <td>NaN</td>\n",
              "      <td>NaN</td>\n",
              "      <td>NaN</td>\n",
              "      <td>NaN</td>\n",
              "      <td>NaN</td>\n",
              "      <td>NaN</td>\n",
              "      <td>NaN</td>\n",
              "      <td>NaN</td>\n",
              "      <td>NaN</td>\n",
              "      <td>NaN</td>\n",
              "      <td>NaN</td>\n",
              "      <td>NaN</td>\n",
              "      <td>NaN</td>\n",
              "      <td>NaN</td>\n",
              "      <td>NaN</td>\n",
              "      <td>NaN</td>\n",
              "      <td>NaN</td>\n",
              "      <td>NaN</td>\n",
              "      <td>NaN</td>\n",
              "      <td>NaN</td>\n",
              "      <td>NaN</td>\n",
              "      <td>NaN</td>\n",
              "      <td>1.409469e+10</td>\n",
              "      <td>2.633662e+10</td>\n",
              "      <td>3.665811e+10</td>\n",
              "      <td>2.542381e+10</td>\n",
              "      <td>6.293305e+09</td>\n",
              "      <td>6.471741e+09</td>\n",
              "      <td>9.613370e+09</td>\n",
              "      <td>9.866990e+09</td>\n",
              "      <td>1.318095e+10</td>\n",
              "      <td>1.628643e+10</td>\n",
              "      <td>2.073616e+10</td>\n",
              "      <td>2.465747e+10</td>\n",
              "      <td>2.684370e+10</td>\n",
              "      <td>2.720960e+10</td>\n",
              "      <td>2.868366e+10</td>\n",
              "      <td>3.117252e+10</td>\n",
              "      <td>3.268520e+10</td>\n",
              "      <td>3.506411e+10</td>\n",
              "      <td>3.955251e+10</td>\n",
              "      <td>4.542785e+10</td>\n",
              "      <td>5.763326e+10</td>\n",
              "      <td>6.637166e+10</td>\n",
              "      <td>7.741443e+10</td>\n",
              "      <td>9.913030e+10</td>\n",
              "      <td>1.060147e+11</td>\n",
              "      <td>1.159317e+11</td>\n",
              "      <td>1.355394e+11</td>\n",
              "      <td>1.558200e+11</td>\n",
              "      <td>1.712220e+11</td>\n",
              "      <td>1.862047e+11</td>\n",
              "      <td>1.932411e+11</td>\n",
              "      <td>2.052762e+11</td>\n",
              "      <td>2.237799e+11</td>\n",
              "      <td>2.452137e+11</td>\n",
              "      <td>2.619212e+11</td>\n",
              "      <td>NaN</td>\n",
              "    </tr>\n",
              "  </tbody>\n",
              "</table>\n",
              "</div>"
            ],
            "text/plain": [
              "      Country_Name Country_Code  ...          2019 Unnamed: 64\n",
              "249  United States          USA  ...  2.142770e+13         NaN\n",
              "255        Vietnam          VNM  ...  2.619212e+11         NaN\n",
              "\n",
              "[2 rows x 65 columns]"
            ]
          },
          "metadata": {
            "tags": []
          },
          "execution_count": 35
        }
      ]
    },
    {
      "cell_type": "code",
      "metadata": {
        "id": "zSzlHoboE1ho",
        "colab_type": "code",
        "colab": {
          "base_uri": "https://localhost:8080/",
          "height": 143
        },
        "outputId": "86f7f298-3d7a-463e-a6c2-d041e1e62f79"
      },
      "source": [
        "df_gdp[df_gdp['Country_Name'].isin(['Vietnam', 'United States'])] "
      ],
      "execution_count": null,
      "outputs": [
        {
          "output_type": "execute_result",
          "data": {
            "text/html": [
              "<div>\n",
              "<style scoped>\n",
              "    .dataframe tbody tr th:only-of-type {\n",
              "        vertical-align: middle;\n",
              "    }\n",
              "\n",
              "    .dataframe tbody tr th {\n",
              "        vertical-align: top;\n",
              "    }\n",
              "\n",
              "    .dataframe thead th {\n",
              "        text-align: right;\n",
              "    }\n",
              "</style>\n",
              "<table border=\"1\" class=\"dataframe\">\n",
              "  <thead>\n",
              "    <tr style=\"text-align: right;\">\n",
              "      <th></th>\n",
              "      <th>Country_Name</th>\n",
              "      <th>Country_Code</th>\n",
              "      <th>Indicator_Name</th>\n",
              "      <th>Indicator_Code</th>\n",
              "      <th>1960</th>\n",
              "      <th>1961</th>\n",
              "      <th>1962</th>\n",
              "      <th>1963</th>\n",
              "      <th>1964</th>\n",
              "      <th>1965</th>\n",
              "      <th>1966</th>\n",
              "      <th>1967</th>\n",
              "      <th>1968</th>\n",
              "      <th>1969</th>\n",
              "      <th>1970</th>\n",
              "      <th>1971</th>\n",
              "      <th>1972</th>\n",
              "      <th>1973</th>\n",
              "      <th>1974</th>\n",
              "      <th>1975</th>\n",
              "      <th>1976</th>\n",
              "      <th>1977</th>\n",
              "      <th>1978</th>\n",
              "      <th>1979</th>\n",
              "      <th>1980</th>\n",
              "      <th>1981</th>\n",
              "      <th>1982</th>\n",
              "      <th>1983</th>\n",
              "      <th>1984</th>\n",
              "      <th>1985</th>\n",
              "      <th>1986</th>\n",
              "      <th>1987</th>\n",
              "      <th>1988</th>\n",
              "      <th>1989</th>\n",
              "      <th>1990</th>\n",
              "      <th>1991</th>\n",
              "      <th>1992</th>\n",
              "      <th>1993</th>\n",
              "      <th>1994</th>\n",
              "      <th>1995</th>\n",
              "      <th>1996</th>\n",
              "      <th>1997</th>\n",
              "      <th>1998</th>\n",
              "      <th>1999</th>\n",
              "      <th>2000</th>\n",
              "      <th>2001</th>\n",
              "      <th>2002</th>\n",
              "      <th>2003</th>\n",
              "      <th>2004</th>\n",
              "      <th>2005</th>\n",
              "      <th>2006</th>\n",
              "      <th>2007</th>\n",
              "      <th>2008</th>\n",
              "      <th>2009</th>\n",
              "      <th>2010</th>\n",
              "      <th>2011</th>\n",
              "      <th>2012</th>\n",
              "      <th>2013</th>\n",
              "      <th>2014</th>\n",
              "      <th>2015</th>\n",
              "      <th>2016</th>\n",
              "      <th>2017</th>\n",
              "      <th>2018</th>\n",
              "      <th>2019</th>\n",
              "      <th>Unnamed: 64</th>\n",
              "    </tr>\n",
              "  </thead>\n",
              "  <tbody>\n",
              "    <tr>\n",
              "      <th>249</th>\n",
              "      <td>United States</td>\n",
              "      <td>USA</td>\n",
              "      <td>GDP (current US$)</td>\n",
              "      <td>NY.GDP.MKTP.CD</td>\n",
              "      <td>5.433000e+11</td>\n",
              "      <td>5.633000e+11</td>\n",
              "      <td>6.051000e+11</td>\n",
              "      <td>6.386000e+11</td>\n",
              "      <td>6.858000e+11</td>\n",
              "      <td>7.437000e+11</td>\n",
              "      <td>8.150000e+11</td>\n",
              "      <td>8.617000e+11</td>\n",
              "      <td>9.425000e+11</td>\n",
              "      <td>1.019900e+12</td>\n",
              "      <td>1.073303e+12</td>\n",
              "      <td>1.164850e+12</td>\n",
              "      <td>1.279110e+12</td>\n",
              "      <td>1.425376e+12</td>\n",
              "      <td>1.545243e+12</td>\n",
              "      <td>1.684904e+12</td>\n",
              "      <td>1.873412e+12</td>\n",
              "      <td>2.081826e+12</td>\n",
              "      <td>2.351599e+12</td>\n",
              "      <td>2.627334e+12</td>\n",
              "      <td>2.857307e+12</td>\n",
              "      <td>3.207042e+12</td>\n",
              "      <td>3.343789e+12</td>\n",
              "      <td>3.634038e+12</td>\n",
              "      <td>4.037613e+12</td>\n",
              "      <td>4.338979e+12</td>\n",
              "      <td>4.579631e+12</td>\n",
              "      <td>4.855215e+12</td>\n",
              "      <td>5.236438e+12</td>\n",
              "      <td>5.641580e+12</td>\n",
              "      <td>5.963144e+12</td>\n",
              "      <td>6.158129e+12</td>\n",
              "      <td>6.520327e+12</td>\n",
              "      <td>6.858559e+12</td>\n",
              "      <td>7.287236e+12</td>\n",
              "      <td>7.639749e+12</td>\n",
              "      <td>8.073122e+12</td>\n",
              "      <td>8.577554e+12</td>\n",
              "      <td>9.062818e+12</td>\n",
              "      <td>9.630664e+12</td>\n",
              "      <td>1.025235e+13</td>\n",
              "      <td>1.058182e+13</td>\n",
              "      <td>1.093642e+13</td>\n",
              "      <td>1.145824e+13</td>\n",
              "      <td>1.221373e+13</td>\n",
              "      <td>1.303664e+13</td>\n",
              "      <td>1.381461e+13</td>\n",
              "      <td>1.445186e+13</td>\n",
              "      <td>1.471284e+13</td>\n",
              "      <td>1.444893e+13</td>\n",
              "      <td>1.499205e+13</td>\n",
              "      <td>1.554258e+13</td>\n",
              "      <td>1.619701e+13</td>\n",
              "      <td>1.678485e+13</td>\n",
              "      <td>1.752175e+13</td>\n",
              "      <td>1.821930e+13</td>\n",
              "      <td>1.870719e+13</td>\n",
              "      <td>1.948539e+13</td>\n",
              "      <td>2.058022e+13</td>\n",
              "      <td>2.142770e+13</td>\n",
              "      <td>NaN</td>\n",
              "    </tr>\n",
              "    <tr>\n",
              "      <th>255</th>\n",
              "      <td>Vietnam</td>\n",
              "      <td>VNM</td>\n",
              "      <td>GDP (current US$)</td>\n",
              "      <td>NY.GDP.MKTP.CD</td>\n",
              "      <td>NaN</td>\n",
              "      <td>NaN</td>\n",
              "      <td>NaN</td>\n",
              "      <td>NaN</td>\n",
              "      <td>NaN</td>\n",
              "      <td>NaN</td>\n",
              "      <td>NaN</td>\n",
              "      <td>NaN</td>\n",
              "      <td>NaN</td>\n",
              "      <td>NaN</td>\n",
              "      <td>NaN</td>\n",
              "      <td>NaN</td>\n",
              "      <td>NaN</td>\n",
              "      <td>NaN</td>\n",
              "      <td>NaN</td>\n",
              "      <td>NaN</td>\n",
              "      <td>NaN</td>\n",
              "      <td>NaN</td>\n",
              "      <td>NaN</td>\n",
              "      <td>NaN</td>\n",
              "      <td>NaN</td>\n",
              "      <td>NaN</td>\n",
              "      <td>NaN</td>\n",
              "      <td>NaN</td>\n",
              "      <td>NaN</td>\n",
              "      <td>1.409469e+10</td>\n",
              "      <td>2.633662e+10</td>\n",
              "      <td>3.665811e+10</td>\n",
              "      <td>2.542381e+10</td>\n",
              "      <td>6.293305e+09</td>\n",
              "      <td>6.471741e+09</td>\n",
              "      <td>9.613370e+09</td>\n",
              "      <td>9.866990e+09</td>\n",
              "      <td>1.318095e+10</td>\n",
              "      <td>1.628643e+10</td>\n",
              "      <td>2.073616e+10</td>\n",
              "      <td>2.465747e+10</td>\n",
              "      <td>2.684370e+10</td>\n",
              "      <td>2.720960e+10</td>\n",
              "      <td>2.868366e+10</td>\n",
              "      <td>3.117252e+10</td>\n",
              "      <td>3.268520e+10</td>\n",
              "      <td>3.506411e+10</td>\n",
              "      <td>3.955251e+10</td>\n",
              "      <td>4.542785e+10</td>\n",
              "      <td>5.763326e+10</td>\n",
              "      <td>6.637166e+10</td>\n",
              "      <td>7.741443e+10</td>\n",
              "      <td>9.913030e+10</td>\n",
              "      <td>1.060147e+11</td>\n",
              "      <td>1.159317e+11</td>\n",
              "      <td>1.355394e+11</td>\n",
              "      <td>1.558200e+11</td>\n",
              "      <td>1.712220e+11</td>\n",
              "      <td>1.862047e+11</td>\n",
              "      <td>1.932411e+11</td>\n",
              "      <td>2.052762e+11</td>\n",
              "      <td>2.237799e+11</td>\n",
              "      <td>2.452137e+11</td>\n",
              "      <td>2.619212e+11</td>\n",
              "      <td>NaN</td>\n",
              "    </tr>\n",
              "  </tbody>\n",
              "</table>\n",
              "</div>"
            ],
            "text/plain": [
              "      Country_Name Country_Code  ...          2019 Unnamed: 64\n",
              "249  United States          USA  ...  2.142770e+13         NaN\n",
              "255        Vietnam          VNM  ...  2.619212e+11         NaN\n",
              "\n",
              "[2 rows x 65 columns]"
            ]
          },
          "metadata": {
            "tags": []
          },
          "execution_count": 37
        }
      ]
    },
    {
      "cell_type": "code",
      "metadata": {
        "id": "811I2XirG12u",
        "colab_type": "code",
        "colab": {
          "base_uri": "https://localhost:8080/",
          "height": 406
        },
        "outputId": "c0603eaf-0445-452a-e6e7-4d8e2c83f9e5"
      },
      "source": [
        "import matplotlib.pyplot as plt\n",
        "\n",
        "plt.figure(figsize=(40,20))\n",
        "\n",
        "plt.xlabel('Year', fontsize=20)\n",
        "plt.ylabel('GDP', fontsize=20)\n",
        "\n",
        "plt.bar(columns_1985_2019, vn_gdp_1985_2019)\n",
        "\n",
        "plt.title(\"Vietnam's GDP from 1985 to 2019\", fontsize=30)\n"
      ],
      "execution_count": null,
      "outputs": [
        {
          "output_type": "stream",
          "text": [
            "No handles with labels found to put in legend.\n"
          ],
          "name": "stderr"
        },
        {
          "output_type": "execute_result",
          "data": {
            "text/plain": [
              "Text(0.5, 1.0, \"Vietnam's GDP from 1985 to 2019\")"
            ]
          },
          "metadata": {
            "tags": []
          },
          "execution_count": 80
        },
        {
          "output_type": "display_data",
          "data": {
            "image/png": "[encoded data removed]",
            "text/plain": [
              "<Figure size 2880x1440 with 1 Axes>"
            ]
          },
          "metadata": {
            "tags": [],
            "needs_background": "light"
          }
        }
      ]
    },
    {
      "cell_type": "code",
      "metadata": {
        "id": "WVMalNA2LtxC",
        "colab_type": "code",
        "colab": {
          "base_uri": "https://localhost:8080/",
          "height": 34
        },
        "outputId": "1cdc638c-d2c8-4f9f-994a-88c08038d803"
      },
      "source": [
        "len(columns_1985_2019)"
      ],
      "execution_count": null,
      "outputs": [
        {
          "output_type": "execute_result",
          "data": {
            "text/plain": [
              "35"
            ]
          },
          "metadata": {
            "tags": []
          },
          "execution_count": 81
        }
      ]
    },
    {
      "cell_type": "code",
      "metadata": {
        "id": "KK166DmILooc",
        "colab_type": "code",
        "colab": {
          "base_uri": "https://localhost:8080/",
          "height": 34
        },
        "outputId": "9b621135-9af5-4ee9-8407-ad9bbef001dc"
      },
      "source": [
        "len(vn_gdp_1985_2019)"
      ],
      "execution_count": null,
      "outputs": [
        {
          "output_type": "execute_result",
          "data": {
            "text/plain": [
              "35"
            ]
          },
          "metadata": {
            "tags": []
          },
          "execution_count": 82
        }
      ]
    },
    {
      "cell_type": "code",
      "metadata": {
        "id": "LCzutwKPLxc8",
        "colab_type": "code",
        "colab": {}
      },
      "source": [
        "us_gdp_1985_2019 = df_gdp.loc[df_gdp['Country_Name'] == 'United States'].iloc[:, 29:64].values.tolist()[0]\n",
        "china_gdp_1985_2019 = df_gdp.loc[df_gdp['Country_Name'] == 'China'].iloc[:, 29:64].values.tolist()[0]"
      ],
      "execution_count": null,
      "outputs": []
    },
    {
      "cell_type": "code",
      "metadata": {
        "id": "V0rgEGVKNoW9",
        "colab_type": "code",
        "colab": {
          "base_uri": "https://localhost:8080/",
          "height": 422
        },
        "outputId": "4e058ede-7a8b-40cd-a8bd-6e91f4630901"
      },
      "source": [
        "\n",
        "plt.figure(figsize=(35,20))\n",
        "\n",
        "plt.xlabel('Year', fontsize=20)\n",
        "plt.ylabel('GDP', fontsize=20)\n",
        "\n",
        "plt.plot(columns_1985_2019, us_gdp_1985_2019, 'go--', linewidth=2, markersize=12, label=\"US\")\n",
        "plt.plot(columns_1985_2019, china_gdp_1985_2019, 'bo--', label=\"China\",  linewidth=2, markersize=12)\n",
        "plt.legend(loc='lower left', fontsize='xx-large')\n",
        "plt.title(\"US GDP vs China's GDP from 1985 to 2019\", fontsize=30)\n",
        "\n",
        "plt.grid()"
      ],
      "execution_count": null,
      "outputs": [
        {
          "output_type": "display_data",
          "data": {
            "image/png": "[encoded data removed]",
            "text/plain": [
              "<Figure size 2520x1440 with 1 Axes>"
            ]
          },
          "metadata": {
            "tags": [],
            "needs_background": "light"
          }
        }
      ]
    },
    {
      "cell_type": "markdown",
      "metadata": {
        "id": "_BE2sliQQpfj",
        "colab_type": "text"
      },
      "source": [
        "# Object Oriented Programming"
      ]
    },
    {
      "cell_type": "code",
      "metadata": {
        "id": "vZGWtfWaQuIx",
        "colab_type": "code",
        "colab": {}
      },
      "source": [
        "class Asset:\n",
        "\n",
        "  def __init__(self, symbol, asset_class):\n",
        "    print(\"I am a constructor\")\n",
        "    self._symbol = symbol\n",
        "    self._assetClass = asset_class\n",
        "    self._price = 0\n",
        "\n",
        "  def get_symbol(self):\n",
        "    return self._symbol\n",
        "\n",
        "  def set_symbol(self, symbol):\n",
        "    self._symbol = symbol \n",
        "\n",
        "  def get_asset_class(self):\n",
        "    return self._assetClass\n",
        "\n",
        "  def set_asset_class(self, asset_class):\n",
        "    self._assetClass = asset_class    \n",
        "\n",
        "  def price(self, discount_rate):\n",
        "    return self._price      "
      ],
      "execution_count": null,
      "outputs": []
    },
    {
      "cell_type": "code",
      "metadata": {
        "id": "mtONWZNER7de",
        "colab_type": "code",
        "colab": {}
      },
      "source": [
        "class Stock(Asset):\n",
        "  def __init__(self, symbol, asset_class, div_0, growth_rate):\n",
        "    super().__init__(symbol, asset_class)\n",
        "    self._div_0 = div_0\n",
        "    self._growthRate = growth_rate\n",
        "\n",
        "  def price(self, discount_rate):\n",
        "    return (self._div_0 * self._growthRate / (discount_rate - self._growthRate))  \n",
        "\n"
      ],
      "execution_count": null,
      "outputs": []
    },
    {
      "cell_type": "code",
      "metadata": {
        "id": "81VL_28LWFvV",
        "colab_type": "code",
        "colab": {}
      },
      "source": [
        "\n",
        "class Bond(Asset):\n",
        "\n",
        "  def __init__(self, symbol, asset_class, \n",
        "               face_value, maturity, cpn_rate, cpn_freq):\n",
        "    super().__init__(symbol, asset_class)\n",
        "    self._faceValue = face_value\n",
        "    self._maturity = maturity\n",
        "    self._cpnRate = cpn_rate\n",
        "    self._cpnFreq = cpn_freq\n",
        "\n",
        "    \n",
        "\n",
        "  # for the sake of simplicity, we assume constant period interest rate\n",
        "  def price(self, discount_rate):\n",
        "    periodicCashFlow_np = np.ones([1, self._maturity*self._cpnFreq])\\\n",
        "                                *self._cpnRate*self._faceValue/self._cpnFreq\n",
        "    periodicCashFlow = periodicCashFlow_np.tolist()[0]                           \n",
        "    periodicCashFlow[-1] += self._faceValue    \n",
        "    periodicCashFlow.insert(0, 0)\n",
        "    return np.npv(discount_rate/self._cpnFreq,                 \n",
        "                   periodicCashFlow);\n",
        "    \n"
      ],
      "execution_count": null,
      "outputs": []
    },
    {
      "cell_type": "code",
      "metadata": {
        "id": "k6o-_VIhZPRr",
        "colab_type": "code",
        "colab": {}
      },
      "source": [
        "import numpy as np\n",
        "periodicCashFlow = np.ones([1, 4])"
      ],
      "execution_count": null,
      "outputs": []
    },
    {
      "cell_type": "code",
      "metadata": {
        "id": "UC7cH9RBZVga",
        "colab_type": "code",
        "colab": {
          "base_uri": "https://localhost:8080/",
          "height": 34
        },
        "outputId": "d54eb975-928f-46a5-c72f-4105b39e5447"
      },
      "source": [
        "periodicCashFlow"
      ],
      "execution_count": null,
      "outputs": [
        {
          "output_type": "execute_result",
          "data": {
            "text/plain": [
              "array([[1., 1., 1., 1.]])"
            ]
          },
          "metadata": {
            "tags": []
          },
          "execution_count": 133
        }
      ]
    },
    {
      "cell_type": "code",
      "metadata": {
        "id": "8v7PwWfFbKxY",
        "colab_type": "code",
        "colab": {
          "base_uri": "https://localhost:8080/",
          "height": 34
        },
        "outputId": "bbc1659e-b582-4120-8a93-94e44e4f66d9"
      },
      "source": [
        "periodicCashFlow.tolist()"
      ],
      "execution_count": null,
      "outputs": [
        {
          "output_type": "execute_result",
          "data": {
            "text/plain": [
              "[[1.0, 1.0, 1.0, 1.0]]"
            ]
          },
          "metadata": {
            "tags": []
          },
          "execution_count": 148
        }
      ]
    },
    {
      "cell_type": "code",
      "metadata": {
        "id": "8U2Q-zHNWItt",
        "colab_type": "code",
        "colab": {}
      },
      "source": [
        "t = 5"
      ],
      "execution_count": null,
      "outputs": []
    },
    {
      "cell_type": "code",
      "metadata": {
        "id": "DBvthXQjWKze",
        "colab_type": "code",
        "colab": {}
      },
      "source": [
        "o = t"
      ],
      "execution_count": null,
      "outputs": []
    },
    {
      "cell_type": "code",
      "metadata": {
        "id": "U1lsGzYLWMeW",
        "colab_type": "code",
        "colab": {
          "base_uri": "https://localhost:8080/",
          "height": 34
        },
        "outputId": "fcfce4a0-dd19-47c1-88eb-058b5ee70c72"
      },
      "source": [
        "o is t"
      ],
      "execution_count": null,
      "outputs": [
        {
          "output_type": "execute_result",
          "data": {
            "text/plain": [
              "True"
            ]
          },
          "metadata": {
            "tags": []
          },
          "execution_count": 6
        }
      ]
    },
    {
      "cell_type": "code",
      "metadata": {
        "id": "M9qvnfbeWPWD",
        "colab_type": "code",
        "colab": {}
      },
      "source": [
        "t =6"
      ],
      "execution_count": null,
      "outputs": []
    },
    {
      "cell_type": "code",
      "metadata": {
        "id": "a_tu6EyCWQsV",
        "colab_type": "code",
        "colab": {
          "base_uri": "https://localhost:8080/",
          "height": 34
        },
        "outputId": "eac1ab7a-b898-4a9e-a418-ab3df9557ba2"
      },
      "source": [
        "o is t"
      ],
      "execution_count": null,
      "outputs": [
        {
          "output_type": "execute_result",
          "data": {
            "text/plain": [
              "False"
            ]
          },
          "metadata": {
            "tags": []
          },
          "execution_count": 8
        }
      ]
    },
    {
      "cell_type": "code",
      "metadata": {
        "id": "BGxWm5qlWcZi",
        "colab_type": "code",
        "colab": {
          "base_uri": "https://localhost:8080/",
          "height": 34
        },
        "outputId": "ce92382e-88a0-4ed8-e049-e579026c989a"
      },
      "source": [
        "t"
      ],
      "execution_count": null,
      "outputs": [
        {
          "output_type": "execute_result",
          "data": {
            "text/plain": [
              "6"
            ]
          },
          "metadata": {
            "tags": []
          },
          "execution_count": 9
        }
      ]
    },
    {
      "cell_type": "code",
      "metadata": {
        "id": "wAKxKYmNTfhw",
        "colab_type": "code",
        "colab": {
          "base_uri": "https://localhost:8080/",
          "height": 34
        },
        "outputId": "7ba51a74-ca23-4979-d7fa-e16b17cc43b7"
      },
      "source": [
        "asset_1 = Asset(\"WTI\", \"CMTD\")"
      ],
      "execution_count": null,
      "outputs": [
        {
          "output_type": "stream",
          "text": [
            "I am a constructor\n"
          ],
          "name": "stdout"
        }
      ]
    },
    {
      "cell_type": "code",
      "metadata": {
        "id": "mxW3KIPBWKMN",
        "colab_type": "code",
        "colab": {}
      },
      "source": [
        ""
      ],
      "execution_count": null,
      "outputs": []
    },
    {
      "cell_type": "code",
      "metadata": {
        "id": "5G8OUJVAT4Vf",
        "colab_type": "code",
        "colab": {
          "base_uri": "https://localhost:8080/",
          "height": 35
        },
        "outputId": "f3ac6877-a22c-433f-e0a7-a3f157e68f54"
      },
      "source": [
        "asset_1.get_symbol()"
      ],
      "execution_count": null,
      "outputs": [
        {
          "output_type": "execute_result",
          "data": {
            "application/vnd.google.colaboratory.intrinsic": {
              "type": "string"
            },
            "text/plain": [
              "'WTI'"
            ]
          },
          "metadata": {
            "tags": []
          },
          "execution_count": 104
        }
      ]
    },
    {
      "cell_type": "code",
      "metadata": {
        "id": "cbz04OEIT8MW",
        "colab_type": "code",
        "colab": {
          "base_uri": "https://localhost:8080/",
          "height": 35
        },
        "outputId": "a00c789c-2838-45ea-b1a8-81bd51051ce0"
      },
      "source": [
        "asset_1.get_asset_class()"
      ],
      "execution_count": null,
      "outputs": [
        {
          "output_type": "execute_result",
          "data": {
            "application/vnd.google.colaboratory.intrinsic": {
              "type": "string"
            },
            "text/plain": [
              "'CMTDY'"
            ]
          },
          "metadata": {
            "tags": []
          },
          "execution_count": 105
        }
      ]
    },
    {
      "cell_type": "code",
      "metadata": {
        "id": "z-BmQgBLT-w1",
        "colab_type": "code",
        "colab": {}
      },
      "source": [
        "asset_1.set_symbol(\"TXO\")"
      ],
      "execution_count": null,
      "outputs": []
    },
    {
      "cell_type": "code",
      "metadata": {
        "id": "AyzaKJkbUvtT",
        "colab_type": "code",
        "colab": {
          "base_uri": "https://localhost:8080/",
          "height": 35
        },
        "outputId": "259508b0-3139-4499-8f1e-29c6447115c3"
      },
      "source": [
        "asset_1.get_symbol()"
      ],
      "execution_count": null,
      "outputs": [
        {
          "output_type": "execute_result",
          "data": {
            "application/vnd.google.colaboratory.intrinsic": {
              "type": "string"
            },
            "text/plain": [
              "'TXO'"
            ]
          },
          "metadata": {
            "tags": []
          },
          "execution_count": 107
        }
      ]
    },
    {
      "cell_type": "code",
      "metadata": {
        "id": "nztSUqNvUxlk",
        "colab_type": "code",
        "colab": {}
      },
      "source": [
        "stock_1 = Stock(\"VNM\", \"EQTY\", 5e3, 0.05)"
      ],
      "execution_count": null,
      "outputs": []
    },
    {
      "cell_type": "code",
      "metadata": {
        "id": "zM7MGClvVTGI",
        "colab_type": "code",
        "colab": {
          "base_uri": "https://localhost:8080/",
          "height": 34
        },
        "outputId": "8152a477-12b2-4d8a-bb1b-cfb7b8b24af8"
      },
      "source": [
        "stock_1.price(0.07)"
      ],
      "execution_count": null,
      "outputs": [
        {
          "output_type": "execute_result",
          "data": {
            "text/plain": [
              "12499.999999999998"
            ]
          },
          "metadata": {
            "tags": []
          },
          "execution_count": 129
        }
      ]
    },
    {
      "cell_type": "code",
      "metadata": {
        "id": "WfmOhQZSVXzH",
        "colab_type": "code",
        "colab": {}
      },
      "source": [
        "t10y = Bond(\"T10\", \"BOND\", 1e6, 10, 0.05, 2)"
      ],
      "execution_count": null,
      "outputs": []
    },
    {
      "cell_type": "code",
      "metadata": {
        "id": "VecWgPksaQRn",
        "colab_type": "code",
        "colab": {
          "base_uri": "https://localhost:8080/",
          "height": 87
        },
        "outputId": "751d2829-b13f-4a9d-8d8b-02ec61844db7"
      },
      "source": [
        "print(round(t10y.price(0.07)))"
      ],
      "execution_count": null,
      "outputs": [
        {
          "output_type": "stream",
          "text": [
            "[0, 25000.0, 25000.0, 25000.0, 25000.0, 25000.0, 25000.0, 25000.0, 25000.0, 25000.0, 25000.0, 25000.0, 25000.0, 25000.0, 25000.0, 25000.0, 25000.0, 25000.0, 25000.0, 25000.0, 1025000.0]\n",
            "857876.0\n"
          ],
          "name": "stdout"
        },
        {
          "output_type": "stream",
          "text": [
            "/usr/local/lib/python3.6/dist-packages/ipykernel_launcher.py:22: DeprecationWarning: numpy.npv is deprecated and will be removed from NumPy 1.20. Use numpy_financial.npv instead (https://pypi.org/project/numpy-financial/).\n"
          ],
          "name": "stderr"
        }
      ]
    },
    {
      "cell_type": "code",
      "metadata": {
        "id": "OhXeKurjaTRU",
        "colab_type": "code",
        "colab": {}
      },
      "source": [
        "def a(v1, v2):\n",
        "  return v1+v2\n"
      ],
      "execution_count": null,
      "outputs": []
    },
    {
      "cell_type": "code",
      "metadata": {
        "id": "lFMkWb-ZggKf",
        "colab_type": "code",
        "colab": {
          "base_uri": "https://localhost:8080/",
          "height": 34
        },
        "outputId": "21e7892b-c3bf-4832-85f0-1e743071ea1c"
      },
      "source": [
        "a(v1=2, v2=4)"
      ],
      "execution_count": null,
      "outputs": [
        {
          "output_type": "execute_result",
          "data": {
            "text/plain": [
              "6"
            ]
          },
          "metadata": {
            "tags": []
          },
          "execution_count": 163
        }
      ]
    },
    {
      "cell_type": "code",
      "metadata": {
        "id": "3TXfBEj8givy",
        "colab_type": "code",
        "colab": {}
      },
      "source": [
        ""
      ],
      "execution_count": null,
      "outputs": []
    }
  ]
}