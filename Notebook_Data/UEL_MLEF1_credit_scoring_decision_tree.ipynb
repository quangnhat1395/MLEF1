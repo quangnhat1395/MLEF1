{
  "nbformat": 4,
  "nbformat_minor": 0,
  "metadata": {
    "colab": {
      "name": "UEL_MLEF1_credit_scoring_decision_tree.ipynb",
      "provenance": [],
      "collapsed_sections": [],
      "include_colab_link": true
    },
    "kernelspec": {
      "name": "python3",
      "display_name": "Python 3"
    }
  },
  "cells": [
    {
      "cell_type": "markdown",
      "metadata": {
        "id": "view-in-github",
        "colab_type": "text"
      },
      "source": [
        "<a href=\"https://colab.research.google.com/github/quangnhat1395/MLEF1/blob/master/UEL_MLEF1_credit_scoring_decision_tree.ipynb\" target=\"_parent\"><img src=\"https://colab.research.google.com/assets/colab-badge.svg\" alt=\"Open In Colab\"/></a>"
      ]
    },
    {
      "cell_type": "markdown",
      "metadata": {
        "id": "00IrblVCUHhs",
        "colab_type": "text"
      },
      "source": [
        "## Import libraries\n"
      ]
    },
    {
      "cell_type": "code",
      "metadata": {
        "id": "-gpV6SZP6zPn",
        "colab_type": "code",
        "colab": {
          "base_uri": "https://localhost:8080/",
          "height": 70
        },
        "outputId": "f1f31138-0389-4802-fcdd-f7c4cb3961d3"
      },
      "source": [
        "import numpy as np\n",
        "import pandas as pd\n",
        "import seaborn as sns\n",
        "import matplotlib.pyplot as plt"
      ],
      "execution_count": null,
      "outputs": [
        {
          "output_type": "stream",
          "text": [
            "/usr/local/lib/python3.6/dist-packages/statsmodels/tools/_testing.py:19: FutureWarning: pandas.util.testing is deprecated. Use the functions in the public API at pandas.testing instead.\n",
            "  import pandas.util.testing as tm\n"
          ],
          "name": "stderr"
        }
      ]
    },
    {
      "cell_type": "code",
      "metadata": {
        "id": "2TWI2VA07NfI",
        "colab_type": "code",
        "colab": {}
      },
      "source": [
        "# Download credit dataset\n",
        "dataset_url = 'https://www.engineeringbigdata.com/wp-content/uploads/credit.csv'\n",
        "df = pd.read_csv(dataset_url)"
      ],
      "execution_count": null,
      "outputs": []
    },
    {
      "cell_type": "code",
      "metadata": {
        "id": "t7fG9Ms47aMH",
        "colab_type": "code",
        "colab": {
          "base_uri": "https://localhost:8080/",
          "height": 215
        },
        "outputId": "090659a5-960a-42c2-accd-cab423b127a4"
      },
      "source": [
        "df.head()"
      ],
      "execution_count": null,
      "outputs": [
        {
          "output_type": "execute_result",
          "data": {
            "text/html": [
              "<div>\n",
              "<style scoped>\n",
              "    .dataframe tbody tr th:only-of-type {\n",
              "        vertical-align: middle;\n",
              "    }\n",
              "\n",
              "    .dataframe tbody tr th {\n",
              "        vertical-align: top;\n",
              "    }\n",
              "\n",
              "    .dataframe thead th {\n",
              "        text-align: right;\n",
              "    }\n",
              "</style>\n",
              "<table border=\"1\" class=\"dataframe\">\n",
              "  <thead>\n",
              "    <tr style=\"text-align: right;\">\n",
              "      <th></th>\n",
              "      <th>checking_balance</th>\n",
              "      <th>months_loan_duration</th>\n",
              "      <th>credit_history</th>\n",
              "      <th>purpose</th>\n",
              "      <th>amount</th>\n",
              "      <th>savings_balance</th>\n",
              "      <th>employment_duration</th>\n",
              "      <th>percent_of_income</th>\n",
              "      <th>years_at_residence</th>\n",
              "      <th>age</th>\n",
              "      <th>other_credit</th>\n",
              "      <th>housing</th>\n",
              "      <th>existing_loans_count</th>\n",
              "      <th>job</th>\n",
              "      <th>dependents</th>\n",
              "      <th>phone</th>\n",
              "      <th>default</th>\n",
              "    </tr>\n",
              "  </thead>\n",
              "  <tbody>\n",
              "    <tr>\n",
              "      <th>0</th>\n",
              "      <td>&lt; 0 DM</td>\n",
              "      <td>6</td>\n",
              "      <td>critical</td>\n",
              "      <td>furniture/appliances</td>\n",
              "      <td>1169</td>\n",
              "      <td>unknown</td>\n",
              "      <td>&gt; 7 years</td>\n",
              "      <td>4</td>\n",
              "      <td>4</td>\n",
              "      <td>67</td>\n",
              "      <td>none</td>\n",
              "      <td>own</td>\n",
              "      <td>2</td>\n",
              "      <td>skilled</td>\n",
              "      <td>1</td>\n",
              "      <td>yes</td>\n",
              "      <td>no</td>\n",
              "    </tr>\n",
              "    <tr>\n",
              "      <th>1</th>\n",
              "      <td>1 - 200 DM</td>\n",
              "      <td>48</td>\n",
              "      <td>good</td>\n",
              "      <td>furniture/appliances</td>\n",
              "      <td>5951</td>\n",
              "      <td>&lt; 100 DM</td>\n",
              "      <td>1 - 4 years</td>\n",
              "      <td>2</td>\n",
              "      <td>2</td>\n",
              "      <td>22</td>\n",
              "      <td>none</td>\n",
              "      <td>own</td>\n",
              "      <td>1</td>\n",
              "      <td>skilled</td>\n",
              "      <td>1</td>\n",
              "      <td>no</td>\n",
              "      <td>yes</td>\n",
              "    </tr>\n",
              "    <tr>\n",
              "      <th>2</th>\n",
              "      <td>unknown</td>\n",
              "      <td>12</td>\n",
              "      <td>critical</td>\n",
              "      <td>education</td>\n",
              "      <td>2096</td>\n",
              "      <td>&lt; 100 DM</td>\n",
              "      <td>4 - 7 years</td>\n",
              "      <td>2</td>\n",
              "      <td>3</td>\n",
              "      <td>49</td>\n",
              "      <td>none</td>\n",
              "      <td>own</td>\n",
              "      <td>1</td>\n",
              "      <td>unskilled</td>\n",
              "      <td>2</td>\n",
              "      <td>no</td>\n",
              "      <td>no</td>\n",
              "    </tr>\n",
              "    <tr>\n",
              "      <th>3</th>\n",
              "      <td>&lt; 0 DM</td>\n",
              "      <td>42</td>\n",
              "      <td>good</td>\n",
              "      <td>furniture/appliances</td>\n",
              "      <td>7882</td>\n",
              "      <td>&lt; 100 DM</td>\n",
              "      <td>4 - 7 years</td>\n",
              "      <td>2</td>\n",
              "      <td>4</td>\n",
              "      <td>45</td>\n",
              "      <td>none</td>\n",
              "      <td>other</td>\n",
              "      <td>1</td>\n",
              "      <td>skilled</td>\n",
              "      <td>2</td>\n",
              "      <td>no</td>\n",
              "      <td>no</td>\n",
              "    </tr>\n",
              "    <tr>\n",
              "      <th>4</th>\n",
              "      <td>&lt; 0 DM</td>\n",
              "      <td>24</td>\n",
              "      <td>poor</td>\n",
              "      <td>car</td>\n",
              "      <td>4870</td>\n",
              "      <td>&lt; 100 DM</td>\n",
              "      <td>1 - 4 years</td>\n",
              "      <td>3</td>\n",
              "      <td>4</td>\n",
              "      <td>53</td>\n",
              "      <td>none</td>\n",
              "      <td>other</td>\n",
              "      <td>2</td>\n",
              "      <td>skilled</td>\n",
              "      <td>2</td>\n",
              "      <td>no</td>\n",
              "      <td>yes</td>\n",
              "    </tr>\n",
              "  </tbody>\n",
              "</table>\n",
              "</div>"
            ],
            "text/plain": [
              "  checking_balance  months_loan_duration  ... phone default\n",
              "0           < 0 DM                     6  ...   yes      no\n",
              "1       1 - 200 DM                    48  ...    no     yes\n",
              "2          unknown                    12  ...    no      no\n",
              "3           < 0 DM                    42  ...    no      no\n",
              "4           < 0 DM                    24  ...    no     yes\n",
              "\n",
              "[5 rows x 17 columns]"
            ]
          },
          "metadata": {
            "tags": []
          },
          "execution_count": 3
        }
      ]
    },
    {
      "cell_type": "code",
      "metadata": {
        "id": "fUFXE5fj7bQ5",
        "colab_type": "code",
        "colab": {
          "base_uri": "https://localhost:8080/",
          "height": 420
        },
        "outputId": "58e25414-cdc8-4ce1-8835-8016c7475b96"
      },
      "source": [
        "df.info()"
      ],
      "execution_count": null,
      "outputs": [
        {
          "output_type": "stream",
          "text": [
            "<class 'pandas.core.frame.DataFrame'>\n",
            "RangeIndex: 1000 entries, 0 to 999\n",
            "Data columns (total 17 columns):\n",
            " #   Column                Non-Null Count  Dtype \n",
            "---  ------                --------------  ----- \n",
            " 0   checking_balance      1000 non-null   object\n",
            " 1   months_loan_duration  1000 non-null   int64 \n",
            " 2   credit_history        1000 non-null   object\n",
            " 3   purpose               1000 non-null   object\n",
            " 4   amount                1000 non-null   int64 \n",
            " 5   savings_balance       1000 non-null   object\n",
            " 6   employment_duration   1000 non-null   object\n",
            " 7   percent_of_income     1000 non-null   int64 \n",
            " 8   years_at_residence    1000 non-null   int64 \n",
            " 9   age                   1000 non-null   int64 \n",
            " 10  other_credit          1000 non-null   object\n",
            " 11  housing               1000 non-null   object\n",
            " 12  existing_loans_count  1000 non-null   int64 \n",
            " 13  job                   1000 non-null   object\n",
            " 14  dependents            1000 non-null   int64 \n",
            " 15  phone                 1000 non-null   object\n",
            " 16  default               1000 non-null   object\n",
            "dtypes: int64(7), object(10)\n",
            "memory usage: 132.9+ KB\n"
          ],
          "name": "stdout"
        }
      ]
    },
    {
      "cell_type": "markdown",
      "metadata": {
        "id": "VqXxyzWYUMso",
        "colab_type": "text"
      },
      "source": [
        "## Visualization"
      ]
    },
    {
      "cell_type": "markdown",
      "metadata": {
        "id": "b0Jy5ZHzJEgb",
        "colab_type": "text"
      },
      "source": [
        "### Overall data distribution"
      ]
    },
    {
      "cell_type": "code",
      "metadata": {
        "id": "iwO_0_ru7mGs",
        "colab_type": "code",
        "colab": {
          "base_uri": "https://localhost:8080/",
          "height": 585
        },
        "outputId": "ddae4a53-7b9f-4d14-9d13-1fc025474586"
      },
      "source": [
        "# Investigate columns with categorical type\n",
        "categorical_columns = df.select_dtypes('object').columns\n",
        "nr = -(-len(categorical_columns) // 4)\n",
        "fig, axes = plt.subplots(ncols=4, \n",
        "                         nrows=nr,\n",
        "                         figsize=(len(categorical_columns) * 1.8, 8))\n",
        "\n",
        "for col, ax in zip(categorical_columns, axes.ravel()):\n",
        "  df.groupby(col)\\\n",
        "    .size()\\\n",
        "    .plot\\\n",
        "    .pie(y=col,\n",
        "         ax=ax, \n",
        "         autopct='%1.0f%%')\n",
        "  ax.set_title(col)\n",
        "  ax.set_ylabel('')\n",
        "\n",
        "for ax in axes.ravel()[len(categorical_columns):]:\n",
        "  ax.remove()\n",
        "\n",
        "fig.tight_layout()\n",
        "plt.show()"
      ],
      "execution_count": null,
      "outputs": [
        {
          "output_type": "display_data",
          "data": {
            "image/png": "[encoded data removed]",
            "text/plain": [
              "<Figure size 1296x576 with 10 Axes>"
            ]
          },
          "metadata": {
            "tags": []
          }
        }
      ]
    },
    {
      "cell_type": "code",
      "metadata": {
        "id": "7hY3vkL7HxOv",
        "colab_type": "code",
        "colab": {
          "base_uri": "https://localhost:8080/",
          "height": 408
        },
        "outputId": "63176406-6e30-484c-c7a4-1719a6f5f2e3"
      },
      "source": [
        "# Investigate numerical columns\n",
        "numerical_columns = df.select_dtypes('int64').columns\n",
        "nr = -(-len(categorical_columns) // 4)\n",
        "fig, axes = plt.subplots(ncols=4, \n",
        "                         nrows=nr,\n",
        "                         figsize=(len(numerical_columns) * 2, 8))\n",
        "\n",
        "for col, ax in zip(numerical_columns, axes.ravel()):\n",
        "  df.plot\\\n",
        "    .hist(y=col,\n",
        "          ax=ax,\n",
        "          bins=30)\n",
        "  ax.set_title(col)\n",
        "  ax.set_ylabel('')\n",
        "\n",
        "for ax in axes.ravel()[len(numerical_columns):]:\n",
        "  ax.remove()\n",
        "\n",
        "fig.tight_layout()\n",
        "plt.show()"
      ],
      "execution_count": null,
      "outputs": [
        {
          "output_type": "display_data",
          "data": {
            "image/png": "[encoded data removed]",
            "text/plain": [
              "<Figure size 1008x576 with 7 Axes>"
            ]
          },
          "metadata": {
            "tags": []
          }
        }
      ]
    },
    {
      "cell_type": "markdown",
      "metadata": {
        "id": "AqwwevILJJTs",
        "colab_type": "text"
      },
      "source": [
        "### Attribution of each feature to the label"
      ]
    },
    {
      "cell_type": "markdown",
      "metadata": {
        "id": "pUOKPfNyFNod",
        "colab_type": "text"
      },
      "source": [
        "### Numerical variables"
      ]
    },
    {
      "cell_type": "code",
      "metadata": {
        "id": "QUF40ByQIGtF",
        "colab_type": "code",
        "colab": {}
      },
      "source": [
        "# Let's see how each attributes correlates with the label\n",
        "# Let's convert the label to numerical form first\n",
        "df['default_as_num'] = df['default'].apply(lambda x: 1 if x == 'yes' else 0)"
      ],
      "execution_count": null,
      "outputs": []
    },
    {
      "cell_type": "code",
      "metadata": {
        "id": "EfPkelhkU00J",
        "colab_type": "code",
        "colab": {
          "base_uri": "https://localhost:8080/",
          "height": 297
        },
        "outputId": "106c8d8e-952c-47aa-b410-d90485a07f16"
      },
      "source": [
        "# corr() function only takes into acount numerical attributes\n",
        "correlation_matrix = df.corr()\n",
        "correlation_matrix"
      ],
      "execution_count": null,
      "outputs": [
        {
          "output_type": "execute_result",
          "data": {
            "text/html": [
              "<div>\n",
              "<style scoped>\n",
              "    .dataframe tbody tr th:only-of-type {\n",
              "        vertical-align: middle;\n",
              "    }\n",
              "\n",
              "    .dataframe tbody tr th {\n",
              "        vertical-align: top;\n",
              "    }\n",
              "\n",
              "    .dataframe thead th {\n",
              "        text-align: right;\n",
              "    }\n",
              "</style>\n",
              "<table border=\"1\" class=\"dataframe\">\n",
              "  <thead>\n",
              "    <tr style=\"text-align: right;\">\n",
              "      <th></th>\n",
              "      <th>months_loan_duration</th>\n",
              "      <th>amount</th>\n",
              "      <th>percent_of_income</th>\n",
              "      <th>years_at_residence</th>\n",
              "      <th>age</th>\n",
              "      <th>existing_loans_count</th>\n",
              "      <th>dependents</th>\n",
              "      <th>default_as_num</th>\n",
              "    </tr>\n",
              "  </thead>\n",
              "  <tbody>\n",
              "    <tr>\n",
              "      <th>months_loan_duration</th>\n",
              "      <td>1.000000</td>\n",
              "      <td>0.624984</td>\n",
              "      <td>0.074749</td>\n",
              "      <td>0.034067</td>\n",
              "      <td>-0.036136</td>\n",
              "      <td>-0.011284</td>\n",
              "      <td>-0.023834</td>\n",
              "      <td>0.214927</td>\n",
              "    </tr>\n",
              "    <tr>\n",
              "      <th>amount</th>\n",
              "      <td>0.624984</td>\n",
              "      <td>1.000000</td>\n",
              "      <td>-0.271316</td>\n",
              "      <td>0.028926</td>\n",
              "      <td>0.032716</td>\n",
              "      <td>0.020795</td>\n",
              "      <td>0.017142</td>\n",
              "      <td>0.154739</td>\n",
              "    </tr>\n",
              "    <tr>\n",
              "      <th>percent_of_income</th>\n",
              "      <td>0.074749</td>\n",
              "      <td>-0.271316</td>\n",
              "      <td>1.000000</td>\n",
              "      <td>0.049302</td>\n",
              "      <td>0.058266</td>\n",
              "      <td>0.021669</td>\n",
              "      <td>-0.071207</td>\n",
              "      <td>0.072404</td>\n",
              "    </tr>\n",
              "    <tr>\n",
              "      <th>years_at_residence</th>\n",
              "      <td>0.034067</td>\n",
              "      <td>0.028926</td>\n",
              "      <td>0.049302</td>\n",
              "      <td>1.000000</td>\n",
              "      <td>0.266419</td>\n",
              "      <td>0.089625</td>\n",
              "      <td>0.042643</td>\n",
              "      <td>0.002967</td>\n",
              "    </tr>\n",
              "    <tr>\n",
              "      <th>age</th>\n",
              "      <td>-0.036136</td>\n",
              "      <td>0.032716</td>\n",
              "      <td>0.058266</td>\n",
              "      <td>0.266419</td>\n",
              "      <td>1.000000</td>\n",
              "      <td>0.149254</td>\n",
              "      <td>0.118201</td>\n",
              "      <td>-0.091127</td>\n",
              "    </tr>\n",
              "    <tr>\n",
              "      <th>existing_loans_count</th>\n",
              "      <td>-0.011284</td>\n",
              "      <td>0.020795</td>\n",
              "      <td>0.021669</td>\n",
              "      <td>0.089625</td>\n",
              "      <td>0.149254</td>\n",
              "      <td>1.000000</td>\n",
              "      <td>0.109667</td>\n",
              "      <td>-0.045732</td>\n",
              "    </tr>\n",
              "    <tr>\n",
              "      <th>dependents</th>\n",
              "      <td>-0.023834</td>\n",
              "      <td>0.017142</td>\n",
              "      <td>-0.071207</td>\n",
              "      <td>0.042643</td>\n",
              "      <td>0.118201</td>\n",
              "      <td>0.109667</td>\n",
              "      <td>1.000000</td>\n",
              "      <td>-0.003015</td>\n",
              "    </tr>\n",
              "    <tr>\n",
              "      <th>default_as_num</th>\n",
              "      <td>0.214927</td>\n",
              "      <td>0.154739</td>\n",
              "      <td>0.072404</td>\n",
              "      <td>0.002967</td>\n",
              "      <td>-0.091127</td>\n",
              "      <td>-0.045732</td>\n",
              "      <td>-0.003015</td>\n",
              "      <td>1.000000</td>\n",
              "    </tr>\n",
              "  </tbody>\n",
              "</table>\n",
              "</div>"
            ],
            "text/plain": [
              "                      months_loan_duration  ...  default_as_num\n",
              "months_loan_duration              1.000000  ...        0.214927\n",
              "amount                            0.624984  ...        0.154739\n",
              "percent_of_income                 0.074749  ...        0.072404\n",
              "years_at_residence                0.034067  ...        0.002967\n",
              "age                              -0.036136  ...       -0.091127\n",
              "existing_loans_count             -0.011284  ...       -0.045732\n",
              "dependents                       -0.023834  ...       -0.003015\n",
              "default_as_num                    0.214927  ...        1.000000\n",
              "\n",
              "[8 rows x 8 columns]"
            ]
          },
          "metadata": {
            "tags": []
          },
          "execution_count": 80
        }
      ]
    },
    {
      "cell_type": "code",
      "metadata": {
        "id": "5YNFclaNVFR8",
        "colab_type": "code",
        "colab": {
          "base_uri": "https://localhost:8080/",
          "height": 208
        },
        "outputId": "4d5d490b-8970-4d25-caec-b189fbfe7744"
      },
      "source": [
        "# Visualize it on a grid map\n",
        "# As we can see here, the label has high correlation with 2 variables: months_loan_duration and amount\n",
        "# and yet they are highly correlated themselves (0.62).\n",
        "correlation_matrix.style.background_gradient(cmap='coolwarm').set_precision(2)"
      ],
      "execution_count": null,
      "outputs": [
        {
          "output_type": "execute_result",
          "data": {
            "text/html": [
              "<style  type=\"text/css\" >\n",
              "    #T_78001a26_6627_11ea_8ab3_0242ac1c0002row0_col0 {\n",
              "            background-color:  #b40426;\n",
              "            color:  #f1f1f1;\n",
              "        }    #T_78001a26_6627_11ea_8ab3_0242ac1c0002row0_col1 {\n",
              "            background-color:  #f7aa8c;\n",
              "            color:  #000000;\n",
              "        }    #T_78001a26_6627_11ea_8ab3_0242ac1c0002row0_col2 {\n",
              "            background-color:  #94b6ff;\n",
              "            color:  #000000;\n",
              "        }    #T_78001a26_6627_11ea_8ab3_0242ac1c0002row0_col3 {\n",
              "            background-color:  #4358cb;\n",
              "            color:  #f1f1f1;\n",
              "        }    #T_78001a26_6627_11ea_8ab3_0242ac1c0002row0_col4 {\n",
              "            background-color:  #4961d2;\n",
              "            color:  #f1f1f1;\n",
              "        }    #T_78001a26_6627_11ea_8ab3_0242ac1c0002row0_col5 {\n",
              "            background-color:  #445acc;\n",
              "            color:  #f1f1f1;\n",
              "        }    #T_78001a26_6627_11ea_8ab3_0242ac1c0002row0_col6 {\n",
              "            background-color:  #485fd1;\n",
              "            color:  #f1f1f1;\n",
              "        }    #T_78001a26_6627_11ea_8ab3_0242ac1c0002row0_col7 {\n",
              "            background-color:  #97b8ff;\n",
              "            color:  #000000;\n",
              "        }    #T_78001a26_6627_11ea_8ab3_0242ac1c0002row1_col0 {\n",
              "            background-color:  #f5c0a7;\n",
              "            color:  #000000;\n",
              "        }    #T_78001a26_6627_11ea_8ab3_0242ac1c0002row1_col1 {\n",
              "            background-color:  #b40426;\n",
              "            color:  #f1f1f1;\n",
              "        }    #T_78001a26_6627_11ea_8ab3_0242ac1c0002row1_col2 {\n",
              "            background-color:  #3b4cc0;\n",
              "            color:  #f1f1f1;\n",
              "        }    #T_78001a26_6627_11ea_8ab3_0242ac1c0002row1_col3 {\n",
              "            background-color:  #4257c9;\n",
              "            color:  #f1f1f1;\n",
              "        }    #T_78001a26_6627_11ea_8ab3_0242ac1c0002row1_col4 {\n",
              "            background-color:  #5e7de7;\n",
              "            color:  #000000;\n",
              "        }    #T_78001a26_6627_11ea_8ab3_0242ac1c0002row1_col5 {\n",
              "            background-color:  #4e68d8;\n",
              "            color:  #000000;\n",
              "        }    #T_78001a26_6627_11ea_8ab3_0242ac1c0002row1_col6 {\n",
              "            background-color:  #5470de;\n",
              "            color:  #000000;\n",
              "        }    #T_78001a26_6627_11ea_8ab3_0242ac1c0002row1_col7 {\n",
              "            background-color:  #84a7fc;\n",
              "            color:  #000000;\n",
              "        }    #T_78001a26_6627_11ea_8ab3_0242ac1c0002row2_col0 {\n",
              "            background-color:  #5b7ae5;\n",
              "            color:  #000000;\n",
              "        }    #T_78001a26_6627_11ea_8ab3_0242ac1c0002row2_col1 {\n",
              "            background-color:  #3b4cc0;\n",
              "            color:  #f1f1f1;\n",
              "        }    #T_78001a26_6627_11ea_8ab3_0242ac1c0002row2_col2 {\n",
              "            background-color:  #b40426;\n",
              "            color:  #f1f1f1;\n",
              "        }    #T_78001a26_6627_11ea_8ab3_0242ac1c0002row2_col3 {\n",
              "            background-color:  #485fd1;\n",
              "            color:  #f1f1f1;\n",
              "        }    #T_78001a26_6627_11ea_8ab3_0242ac1c0002row2_col4 {\n",
              "            background-color:  #6687ed;\n",
              "            color:  #000000;\n",
              "        }    #T_78001a26_6627_11ea_8ab3_0242ac1c0002row2_col5 {\n",
              "            background-color:  #4e68d8;\n",
              "            color:  #000000;\n",
              "        }    #T_78001a26_6627_11ea_8ab3_0242ac1c0002row2_col6 {\n",
              "            background-color:  #3b4cc0;\n",
              "            color:  #f1f1f1;\n",
              "        }    #T_78001a26_6627_11ea_8ab3_0242ac1c0002row2_col7 {\n",
              "            background-color:  #6a8bef;\n",
              "            color:  #000000;\n",
              "        }    #T_78001a26_6627_11ea_8ab3_0242ac1c0002row3_col0 {\n",
              "            background-color:  #4f69d9;\n",
              "            color:  #000000;\n",
              "        }    #T_78001a26_6627_11ea_8ab3_0242ac1c0002row3_col1 {\n",
              "            background-color:  #88abfd;\n",
              "            color:  #000000;\n",
              "        }    #T_78001a26_6627_11ea_8ab3_0242ac1c0002row3_col2 {\n",
              "            background-color:  #8db0fe;\n",
              "            color:  #000000;\n",
              "        }    #T_78001a26_6627_11ea_8ab3_0242ac1c0002row3_col3 {\n",
              "            background-color:  #b40426;\n",
              "            color:  #f1f1f1;\n",
              "        }    #T_78001a26_6627_11ea_8ab3_0242ac1c0002row3_col4 {\n",
              "            background-color:  #a7c5fe;\n",
              "            color:  #000000;\n",
              "        }    #T_78001a26_6627_11ea_8ab3_0242ac1c0002row3_col5 {\n",
              "            background-color:  #6384eb;\n",
              "            color:  #000000;\n",
              "        }    #T_78001a26_6627_11ea_8ab3_0242ac1c0002row3_col6 {\n",
              "            background-color:  #5b7ae5;\n",
              "            color:  #000000;\n",
              "        }    #T_78001a26_6627_11ea_8ab3_0242ac1c0002row3_col7 {\n",
              "            background-color:  #5572df;\n",
              "            color:  #000000;\n",
              "        }    #T_78001a26_6627_11ea_8ab3_0242ac1c0002row4_col0 {\n",
              "            background-color:  #3b4cc0;\n",
              "            color:  #f1f1f1;\n",
              "        }    #T_78001a26_6627_11ea_8ab3_0242ac1c0002row4_col1 {\n",
              "            background-color:  #89acfd;\n",
              "            color:  #000000;\n",
              "        }    #T_78001a26_6627_11ea_8ab3_0242ac1c0002row4_col2 {\n",
              "            background-color:  #90b2fe;\n",
              "            color:  #000000;\n",
              "        }    #T_78001a26_6627_11ea_8ab3_0242ac1c0002row4_col3 {\n",
              "            background-color:  #92b4fe;\n",
              "            color:  #000000;\n",
              "        }    #T_78001a26_6627_11ea_8ab3_0242ac1c0002row4_col4 {\n",
              "            background-color:  #b40426;\n",
              "            color:  #f1f1f1;\n",
              "        }    #T_78001a26_6627_11ea_8ab3_0242ac1c0002row4_col5 {\n",
              "            background-color:  #7699f6;\n",
              "            color:  #000000;\n",
              "        }    #T_78001a26_6627_11ea_8ab3_0242ac1c0002row4_col6 {\n",
              "            background-color:  #7396f5;\n",
              "            color:  #000000;\n",
              "        }    #T_78001a26_6627_11ea_8ab3_0242ac1c0002row4_col7 {\n",
              "            background-color:  #3b4cc0;\n",
              "            color:  #f1f1f1;\n",
              "        }    #T_78001a26_6627_11ea_8ab3_0242ac1c0002row5_col0 {\n",
              "            background-color:  #4257c9;\n",
              "            color:  #f1f1f1;\n",
              "        }    #T_78001a26_6627_11ea_8ab3_0242ac1c0002row5_col1 {\n",
              "            background-color:  #85a8fc;\n",
              "            color:  #000000;\n",
              "        }    #T_78001a26_6627_11ea_8ab3_0242ac1c0002row5_col2 {\n",
              "            background-color:  #85a8fc;\n",
              "            color:  #000000;\n",
              "        }    #T_78001a26_6627_11ea_8ab3_0242ac1c0002row5_col3 {\n",
              "            background-color:  #5572df;\n",
              "            color:  #000000;\n",
              "        }    #T_78001a26_6627_11ea_8ab3_0242ac1c0002row5_col4 {\n",
              "            background-color:  #82a6fb;\n",
              "            color:  #000000;\n",
              "        }    #T_78001a26_6627_11ea_8ab3_0242ac1c0002row5_col5 {\n",
              "            background-color:  #b40426;\n",
              "            color:  #f1f1f1;\n",
              "        }    #T_78001a26_6627_11ea_8ab3_0242ac1c0002row5_col6 {\n",
              "            background-color:  #7093f3;\n",
              "            color:  #000000;\n",
              "        }    #T_78001a26_6627_11ea_8ab3_0242ac1c0002row5_col7 {\n",
              "            background-color:  #465ecf;\n",
              "            color:  #f1f1f1;\n",
              "        }    #T_78001a26_6627_11ea_8ab3_0242ac1c0002row6_col0 {\n",
              "            background-color:  #3e51c5;\n",
              "            color:  #f1f1f1;\n",
              "        }    #T_78001a26_6627_11ea_8ab3_0242ac1c0002row6_col1 {\n",
              "            background-color:  #85a8fc;\n",
              "            color:  #000000;\n",
              "        }    #T_78001a26_6627_11ea_8ab3_0242ac1c0002row6_col2 {\n",
              "            background-color:  #6c8ff1;\n",
              "            color:  #000000;\n",
              "        }    #T_78001a26_6627_11ea_8ab3_0242ac1c0002row6_col3 {\n",
              "            background-color:  #465ecf;\n",
              "            color:  #f1f1f1;\n",
              "        }    #T_78001a26_6627_11ea_8ab3_0242ac1c0002row6_col4 {\n",
              "            background-color:  #799cf8;\n",
              "            color:  #000000;\n",
              "        }    #T_78001a26_6627_11ea_8ab3_0242ac1c0002row6_col5 {\n",
              "            background-color:  #6a8bef;\n",
              "            color:  #000000;\n",
              "        }    #T_78001a26_6627_11ea_8ab3_0242ac1c0002row6_col6 {\n",
              "            background-color:  #b40426;\n",
              "            color:  #f1f1f1;\n",
              "        }    #T_78001a26_6627_11ea_8ab3_0242ac1c0002row6_col7 {\n",
              "            background-color:  #536edd;\n",
              "            color:  #000000;\n",
              "        }    #T_78001a26_6627_11ea_8ab3_0242ac1c0002row7_col0 {\n",
              "            background-color:  #8badfd;\n",
              "            color:  #000000;\n",
              "        }    #T_78001a26_6627_11ea_8ab3_0242ac1c0002row7_col1 {\n",
              "            background-color:  #aac7fd;\n",
              "            color:  #000000;\n",
              "        }    #T_78001a26_6627_11ea_8ab3_0242ac1c0002row7_col2 {\n",
              "            background-color:  #94b6ff;\n",
              "            color:  #000000;\n",
              "        }    #T_78001a26_6627_11ea_8ab3_0242ac1c0002row7_col3 {\n",
              "            background-color:  #3b4cc0;\n",
              "            color:  #f1f1f1;\n",
              "        }    #T_78001a26_6627_11ea_8ab3_0242ac1c0002row7_col4 {\n",
              "            background-color:  #3b4cc0;\n",
              "            color:  #f1f1f1;\n",
              "        }    #T_78001a26_6627_11ea_8ab3_0242ac1c0002row7_col5 {\n",
              "            background-color:  #3b4cc0;\n",
              "            color:  #f1f1f1;\n",
              "        }    #T_78001a26_6627_11ea_8ab3_0242ac1c0002row7_col6 {\n",
              "            background-color:  #4e68d8;\n",
              "            color:  #000000;\n",
              "        }    #T_78001a26_6627_11ea_8ab3_0242ac1c0002row7_col7 {\n",
              "            background-color:  #b40426;\n",
              "            color:  #f1f1f1;\n",
              "        }</style><table id=\"T_78001a26_6627_11ea_8ab3_0242ac1c0002\" ><thead>    <tr>        <th class=\"blank level0\" ></th>        <th class=\"col_heading level0 col0\" >months_loan_duration</th>        <th class=\"col_heading level0 col1\" >amount</th>        <th class=\"col_heading level0 col2\" >percent_of_income</th>        <th class=\"col_heading level0 col3\" >years_at_residence</th>        <th class=\"col_heading level0 col4\" >age</th>        <th class=\"col_heading level0 col5\" >existing_loans_count</th>        <th class=\"col_heading level0 col6\" >dependents</th>        <th class=\"col_heading level0 col7\" >default_as_num</th>    </tr></thead><tbody>\n",
              "                <tr>\n",
              "                        <th id=\"T_78001a26_6627_11ea_8ab3_0242ac1c0002level0_row0\" class=\"row_heading level0 row0\" >months_loan_duration</th>\n",
              "                        <td id=\"T_78001a26_6627_11ea_8ab3_0242ac1c0002row0_col0\" class=\"data row0 col0\" >1</td>\n",
              "                        <td id=\"T_78001a26_6627_11ea_8ab3_0242ac1c0002row0_col1\" class=\"data row0 col1\" >0.62</td>\n",
              "                        <td id=\"T_78001a26_6627_11ea_8ab3_0242ac1c0002row0_col2\" class=\"data row0 col2\" >0.075</td>\n",
              "                        <td id=\"T_78001a26_6627_11ea_8ab3_0242ac1c0002row0_col3\" class=\"data row0 col3\" >0.034</td>\n",
              "                        <td id=\"T_78001a26_6627_11ea_8ab3_0242ac1c0002row0_col4\" class=\"data row0 col4\" >-0.036</td>\n",
              "                        <td id=\"T_78001a26_6627_11ea_8ab3_0242ac1c0002row0_col5\" class=\"data row0 col5\" >-0.011</td>\n",
              "                        <td id=\"T_78001a26_6627_11ea_8ab3_0242ac1c0002row0_col6\" class=\"data row0 col6\" >-0.024</td>\n",
              "                        <td id=\"T_78001a26_6627_11ea_8ab3_0242ac1c0002row0_col7\" class=\"data row0 col7\" >0.21</td>\n",
              "            </tr>\n",
              "            <tr>\n",
              "                        <th id=\"T_78001a26_6627_11ea_8ab3_0242ac1c0002level0_row1\" class=\"row_heading level0 row1\" >amount</th>\n",
              "                        <td id=\"T_78001a26_6627_11ea_8ab3_0242ac1c0002row1_col0\" class=\"data row1 col0\" >0.62</td>\n",
              "                        <td id=\"T_78001a26_6627_11ea_8ab3_0242ac1c0002row1_col1\" class=\"data row1 col1\" >1</td>\n",
              "                        <td id=\"T_78001a26_6627_11ea_8ab3_0242ac1c0002row1_col2\" class=\"data row1 col2\" >-0.27</td>\n",
              "                        <td id=\"T_78001a26_6627_11ea_8ab3_0242ac1c0002row1_col3\" class=\"data row1 col3\" >0.029</td>\n",
              "                        <td id=\"T_78001a26_6627_11ea_8ab3_0242ac1c0002row1_col4\" class=\"data row1 col4\" >0.033</td>\n",
              "                        <td id=\"T_78001a26_6627_11ea_8ab3_0242ac1c0002row1_col5\" class=\"data row1 col5\" >0.021</td>\n",
              "                        <td id=\"T_78001a26_6627_11ea_8ab3_0242ac1c0002row1_col6\" class=\"data row1 col6\" >0.017</td>\n",
              "                        <td id=\"T_78001a26_6627_11ea_8ab3_0242ac1c0002row1_col7\" class=\"data row1 col7\" >0.15</td>\n",
              "            </tr>\n",
              "            <tr>\n",
              "                        <th id=\"T_78001a26_6627_11ea_8ab3_0242ac1c0002level0_row2\" class=\"row_heading level0 row2\" >percent_of_income</th>\n",
              "                        <td id=\"T_78001a26_6627_11ea_8ab3_0242ac1c0002row2_col0\" class=\"data row2 col0\" >0.075</td>\n",
              "                        <td id=\"T_78001a26_6627_11ea_8ab3_0242ac1c0002row2_col1\" class=\"data row2 col1\" >-0.27</td>\n",
              "                        <td id=\"T_78001a26_6627_11ea_8ab3_0242ac1c0002row2_col2\" class=\"data row2 col2\" >1</td>\n",
              "                        <td id=\"T_78001a26_6627_11ea_8ab3_0242ac1c0002row2_col3\" class=\"data row2 col3\" >0.049</td>\n",
              "                        <td id=\"T_78001a26_6627_11ea_8ab3_0242ac1c0002row2_col4\" class=\"data row2 col4\" >0.058</td>\n",
              "                        <td id=\"T_78001a26_6627_11ea_8ab3_0242ac1c0002row2_col5\" class=\"data row2 col5\" >0.022</td>\n",
              "                        <td id=\"T_78001a26_6627_11ea_8ab3_0242ac1c0002row2_col6\" class=\"data row2 col6\" >-0.071</td>\n",
              "                        <td id=\"T_78001a26_6627_11ea_8ab3_0242ac1c0002row2_col7\" class=\"data row2 col7\" >0.072</td>\n",
              "            </tr>\n",
              "            <tr>\n",
              "                        <th id=\"T_78001a26_6627_11ea_8ab3_0242ac1c0002level0_row3\" class=\"row_heading level0 row3\" >years_at_residence</th>\n",
              "                        <td id=\"T_78001a26_6627_11ea_8ab3_0242ac1c0002row3_col0\" class=\"data row3 col0\" >0.034</td>\n",
              "                        <td id=\"T_78001a26_6627_11ea_8ab3_0242ac1c0002row3_col1\" class=\"data row3 col1\" >0.029</td>\n",
              "                        <td id=\"T_78001a26_6627_11ea_8ab3_0242ac1c0002row3_col2\" class=\"data row3 col2\" >0.049</td>\n",
              "                        <td id=\"T_78001a26_6627_11ea_8ab3_0242ac1c0002row3_col3\" class=\"data row3 col3\" >1</td>\n",
              "                        <td id=\"T_78001a26_6627_11ea_8ab3_0242ac1c0002row3_col4\" class=\"data row3 col4\" >0.27</td>\n",
              "                        <td id=\"T_78001a26_6627_11ea_8ab3_0242ac1c0002row3_col5\" class=\"data row3 col5\" >0.09</td>\n",
              "                        <td id=\"T_78001a26_6627_11ea_8ab3_0242ac1c0002row3_col6\" class=\"data row3 col6\" >0.043</td>\n",
              "                        <td id=\"T_78001a26_6627_11ea_8ab3_0242ac1c0002row3_col7\" class=\"data row3 col7\" >0.003</td>\n",
              "            </tr>\n",
              "            <tr>\n",
              "                        <th id=\"T_78001a26_6627_11ea_8ab3_0242ac1c0002level0_row4\" class=\"row_heading level0 row4\" >age</th>\n",
              "                        <td id=\"T_78001a26_6627_11ea_8ab3_0242ac1c0002row4_col0\" class=\"data row4 col0\" >-0.036</td>\n",
              "                        <td id=\"T_78001a26_6627_11ea_8ab3_0242ac1c0002row4_col1\" class=\"data row4 col1\" >0.033</td>\n",
              "                        <td id=\"T_78001a26_6627_11ea_8ab3_0242ac1c0002row4_col2\" class=\"data row4 col2\" >0.058</td>\n",
              "                        <td id=\"T_78001a26_6627_11ea_8ab3_0242ac1c0002row4_col3\" class=\"data row4 col3\" >0.27</td>\n",
              "                        <td id=\"T_78001a26_6627_11ea_8ab3_0242ac1c0002row4_col4\" class=\"data row4 col4\" >1</td>\n",
              "                        <td id=\"T_78001a26_6627_11ea_8ab3_0242ac1c0002row4_col5\" class=\"data row4 col5\" >0.15</td>\n",
              "                        <td id=\"T_78001a26_6627_11ea_8ab3_0242ac1c0002row4_col6\" class=\"data row4 col6\" >0.12</td>\n",
              "                        <td id=\"T_78001a26_6627_11ea_8ab3_0242ac1c0002row4_col7\" class=\"data row4 col7\" >-0.091</td>\n",
              "            </tr>\n",
              "            <tr>\n",
              "                        <th id=\"T_78001a26_6627_11ea_8ab3_0242ac1c0002level0_row5\" class=\"row_heading level0 row5\" >existing_loans_count</th>\n",
              "                        <td id=\"T_78001a26_6627_11ea_8ab3_0242ac1c0002row5_col0\" class=\"data row5 col0\" >-0.011</td>\n",
              "                        <td id=\"T_78001a26_6627_11ea_8ab3_0242ac1c0002row5_col1\" class=\"data row5 col1\" >0.021</td>\n",
              "                        <td id=\"T_78001a26_6627_11ea_8ab3_0242ac1c0002row5_col2\" class=\"data row5 col2\" >0.022</td>\n",
              "                        <td id=\"T_78001a26_6627_11ea_8ab3_0242ac1c0002row5_col3\" class=\"data row5 col3\" >0.09</td>\n",
              "                        <td id=\"T_78001a26_6627_11ea_8ab3_0242ac1c0002row5_col4\" class=\"data row5 col4\" >0.15</td>\n",
              "                        <td id=\"T_78001a26_6627_11ea_8ab3_0242ac1c0002row5_col5\" class=\"data row5 col5\" >1</td>\n",
              "                        <td id=\"T_78001a26_6627_11ea_8ab3_0242ac1c0002row5_col6\" class=\"data row5 col6\" >0.11</td>\n",
              "                        <td id=\"T_78001a26_6627_11ea_8ab3_0242ac1c0002row5_col7\" class=\"data row5 col7\" >-0.046</td>\n",
              "            </tr>\n",
              "            <tr>\n",
              "                        <th id=\"T_78001a26_6627_11ea_8ab3_0242ac1c0002level0_row6\" class=\"row_heading level0 row6\" >dependents</th>\n",
              "                        <td id=\"T_78001a26_6627_11ea_8ab3_0242ac1c0002row6_col0\" class=\"data row6 col0\" >-0.024</td>\n",
              "                        <td id=\"T_78001a26_6627_11ea_8ab3_0242ac1c0002row6_col1\" class=\"data row6 col1\" >0.017</td>\n",
              "                        <td id=\"T_78001a26_6627_11ea_8ab3_0242ac1c0002row6_col2\" class=\"data row6 col2\" >-0.071</td>\n",
              "                        <td id=\"T_78001a26_6627_11ea_8ab3_0242ac1c0002row6_col3\" class=\"data row6 col3\" >0.043</td>\n",
              "                        <td id=\"T_78001a26_6627_11ea_8ab3_0242ac1c0002row6_col4\" class=\"data row6 col4\" >0.12</td>\n",
              "                        <td id=\"T_78001a26_6627_11ea_8ab3_0242ac1c0002row6_col5\" class=\"data row6 col5\" >0.11</td>\n",
              "                        <td id=\"T_78001a26_6627_11ea_8ab3_0242ac1c0002row6_col6\" class=\"data row6 col6\" >1</td>\n",
              "                        <td id=\"T_78001a26_6627_11ea_8ab3_0242ac1c0002row6_col7\" class=\"data row6 col7\" >-0.003</td>\n",
              "            </tr>\n",
              "            <tr>\n",
              "                        <th id=\"T_78001a26_6627_11ea_8ab3_0242ac1c0002level0_row7\" class=\"row_heading level0 row7\" >default_as_num</th>\n",
              "                        <td id=\"T_78001a26_6627_11ea_8ab3_0242ac1c0002row7_col0\" class=\"data row7 col0\" >0.21</td>\n",
              "                        <td id=\"T_78001a26_6627_11ea_8ab3_0242ac1c0002row7_col1\" class=\"data row7 col1\" >0.15</td>\n",
              "                        <td id=\"T_78001a26_6627_11ea_8ab3_0242ac1c0002row7_col2\" class=\"data row7 col2\" >0.072</td>\n",
              "                        <td id=\"T_78001a26_6627_11ea_8ab3_0242ac1c0002row7_col3\" class=\"data row7 col3\" >0.003</td>\n",
              "                        <td id=\"T_78001a26_6627_11ea_8ab3_0242ac1c0002row7_col4\" class=\"data row7 col4\" >-0.091</td>\n",
              "                        <td id=\"T_78001a26_6627_11ea_8ab3_0242ac1c0002row7_col5\" class=\"data row7 col5\" >-0.046</td>\n",
              "                        <td id=\"T_78001a26_6627_11ea_8ab3_0242ac1c0002row7_col6\" class=\"data row7 col6\" >-0.003</td>\n",
              "                        <td id=\"T_78001a26_6627_11ea_8ab3_0242ac1c0002row7_col7\" class=\"data row7 col7\" >1</td>\n",
              "            </tr>\n",
              "    </tbody></table>"
            ],
            "text/plain": [
              "<pandas.io.formats.style.Styler at 0x7fbd0af86b00>"
            ]
          },
          "metadata": {
            "tags": []
          },
          "execution_count": 81
        }
      ]
    },
    {
      "cell_type": "markdown",
      "metadata": {
        "id": "Kb4udUn8FQ46",
        "colab_type": "text"
      },
      "source": [
        "### Categorical variables"
      ]
    },
    {
      "cell_type": "code",
      "metadata": {
        "id": "RF3j3DZKvckF",
        "colab_type": "code",
        "colab": {}
      },
      "source": [
        "from scipy.stats import chi2_contingency\n",
        "from scipy.stats import chi2\n",
        "\n",
        "def chi_squared_test(table, critical_or_pvalue='pvalue'):\n",
        "  stat, p, dof, expected = chi2_contingency(table)\n",
        "  # print('dof=%d' % dof)\n",
        "  # print(expected)\n",
        "  # interpret test-statistic\n",
        "  prob = 0.95\n",
        "  alpha = 1.0 - prob\n",
        "  if critical_or_pvalue == 'critical' or critical_or_pvalue == 'both':\n",
        "    critical = chi2.ppf(prob, dof)\n",
        "    print('probability=%.3f, critical=%.3f, stat=%.3f' % (prob, critical, stat))\n",
        "    if abs(stat) >= critical:\n",
        "      print('Dependent (reject H0)')\n",
        "    else:\n",
        "      print('Independent (fail to reject H0)')\n",
        "  elif critical_or_pvalue == 'pvalue' or critical_or_pvalue == 'both':\n",
        "    # interpret p-value\n",
        "    print('significance=%.3f, p=%.3f' % (alpha, p))\n",
        "    if p <= alpha:\n",
        "      print('Dependent (reject H0)')\n",
        "    else:\n",
        "      print('Independent (fail to reject H0)')"
      ],
      "execution_count": null,
      "outputs": []
    },
    {
      "cell_type": "code",
      "metadata": {
        "id": "THdG9IS9eLNt",
        "colab_type": "code",
        "colab": {
          "base_uri": "https://localhost:8080/",
          "height": 1000
        },
        "outputId": "b99c8445-21a4-48a7-9084-3965aa95fc77"
      },
      "source": [
        "# For categorical attributes, we create a contingency table \n",
        "# for each attribute and the label then perform the chi-squared test \n",
        "# to test if each of them are assosiated with the label\n",
        "# => It turns out that purpose/job/phone don't affected the credit\n",
        "for col in categorical_columns[:-1]:\n",
        "  _crtable = pd.DataFrame(pd.crosstab(df[col], df['default']).to_dict()).reset_index()\n",
        "  print('===============================================')\n",
        "  print(col)\n",
        "  chi_squared_test(_crtable.drop(_crtable.columns[0], axis=1).values)\n",
        "  _crtable['pct_good'] = _crtable['yes'] / (_crtable['yes'] + _crtable['no'])\n",
        "  print(_crtable)\n",
        "  print('===============================================')"
      ],
      "execution_count": null,
      "outputs": [
        {
          "output_type": "stream",
          "text": [
            "===============================================\n",
            "checking_balance\n",
            "significance=0.050, p=0.000\n",
            "Dependent (reject H0)\n",
            "        index   no  yes  pct_good\n",
            "0  1 - 200 DM  164  105  0.390335\n",
            "1      < 0 DM  139  135  0.492701\n",
            "2    > 200 DM   49   14  0.222222\n",
            "3     unknown  348   46  0.116751\n",
            "===============================================\n",
            "===============================================\n",
            "credit_history\n",
            "significance=0.050, p=0.000\n",
            "Dependent (reject H0)\n",
            "       index   no  yes  pct_good\n",
            "0   critical  243   50  0.170648\n",
            "1       good  361  169  0.318868\n",
            "2    perfect   15   25  0.625000\n",
            "3       poor   60   28  0.318182\n",
            "4  very good   21   28  0.571429\n",
            "===============================================\n",
            "===============================================\n",
            "purpose\n",
            "significance=0.050, p=0.145\n",
            "Independent (fail to reject H0)\n",
            "                  index   no  yes  pct_good\n",
            "0              business   63   34  0.350515\n",
            "1                   car  231  106  0.314540\n",
            "2                  car0    7    5  0.416667\n",
            "3             education   36   23  0.389831\n",
            "4  furniture/appliances  349  124  0.262156\n",
            "5           renovations   14    8  0.363636\n",
            "===============================================\n",
            "===============================================\n",
            "savings_balance\n",
            "significance=0.050, p=0.000\n",
            "Dependent (reject H0)\n",
            "           index   no  yes  pct_good\n",
            "0   100 - 500 DM   69   34  0.330097\n",
            "1  500 - 1000 DM   52   11  0.174603\n",
            "2       < 100 DM  386  217  0.359867\n",
            "3      > 1000 DM   42    6  0.125000\n",
            "4        unknown  151   32  0.174863\n",
            "===============================================\n",
            "===============================================\n",
            "employment_duration\n",
            "significance=0.050, p=0.001\n",
            "Dependent (reject H0)\n",
            "         index   no  yes  pct_good\n",
            "0  1 - 4 years  235  104  0.306785\n",
            "1  4 - 7 years  135   39  0.224138\n",
            "2     < 1 year  102   70  0.406977\n",
            "3    > 7 years  189   64  0.252964\n",
            "4   unemployed   39   23  0.370968\n",
            "===============================================\n",
            "===============================================\n",
            "other_credit\n",
            "significance=0.050, p=0.002\n",
            "Dependent (reject H0)\n",
            "   index   no  yes  pct_good\n",
            "0   bank   82   57  0.410072\n",
            "1   none  590  224  0.275184\n",
            "2  store   28   19  0.404255\n",
            "===============================================\n",
            "===============================================\n",
            "housing\n",
            "significance=0.050, p=0.000\n",
            "Dependent (reject H0)\n",
            "   index   no  yes  pct_good\n",
            "0  other   64   44  0.407407\n",
            "1    own  527  186  0.260870\n",
            "2   rent  109   70  0.391061\n",
            "===============================================\n",
            "===============================================\n",
            "job\n",
            "significance=0.050, p=0.597\n",
            "Independent (fail to reject H0)\n",
            "        index   no  yes  pct_good\n",
            "0  management   97   51  0.344595\n",
            "1     skilled  444  186  0.295238\n",
            "2  unemployed   15    7  0.318182\n",
            "3   unskilled  144   56  0.280000\n",
            "===============================================\n",
            "===============================================\n",
            "phone\n",
            "significance=0.050, p=0.279\n",
            "Independent (fail to reject H0)\n",
            "  index   no  yes  pct_good\n",
            "0    no  409  187  0.313758\n",
            "1   yes  291  113  0.279703\n",
            "===============================================\n"
          ],
          "name": "stdout"
        }
      ]
    },
    {
      "cell_type": "markdown",
      "metadata": {
        "id": "QvAnO_O5lSap",
        "colab_type": "text"
      },
      "source": [
        "## Prepare data for training"
      ]
    },
    {
      "cell_type": "code",
      "metadata": {
        "id": "PKnyr31of5Jp",
        "colab_type": "code",
        "colab": {}
      },
      "source": [
        "from sklearn.model_selection import train_test_split\n",
        "# We split the original data into 2 parts: training, test\n",
        "X, y = df.drop(['default', 'default_as_num'], axis=1), df['default_as_num']\n",
        "\n",
        "X_train, X_test, y_train, y_test = train_test_split(\n",
        "    X, y, test_size=0.3, random_state=36)"
      ],
      "execution_count": null,
      "outputs": []
    },
    {
      "cell_type": "markdown",
      "metadata": {
        "id": "_XFXrZ_prC71",
        "colab_type": "text"
      },
      "source": [
        "## Variables encoding\n",
        "\n",
        "Although decision tree algirithm, hypothetically can handle categorical variable, we still need to convert them in the dataframe into numerical form."
      ]
    },
    {
      "cell_type": "code",
      "metadata": {
        "id": "rJdgJg6ynf5r",
        "colab_type": "code",
        "colab": {}
      },
      "source": [
        "def one_hot_encoder(df, nan_as_category = False):\n",
        "  original_columns = list(df.columns)\n",
        "  categorical_columns = [col for col in df.columns if df[col].dtype == 'object']\n",
        "  return pd.get_dummies(df, columns= categorical_columns, dummy_na= nan_as_category, drop_first=True)\n",
        "\n",
        "def fill_missing_columns(data_train, data_test):\n",
        "  missing_cols = set(data_train.columns) - set(data_test.columns)\n",
        "  for c in missing_cols:\n",
        "    data_test[c] = 0"
      ],
      "execution_count": null,
      "outputs": []
    },
    {
      "cell_type": "code",
      "metadata": {
        "id": "KRrPsid3oLij",
        "colab_type": "code",
        "colab": {}
      },
      "source": [
        "X_train = one_hot_encoder(X_train)\n",
        "X_test = one_hot_encoder(X_test)\n",
        "\n",
        "# Fill missing columns in case of data test is smaller, we must do this instead\n",
        "# of concatinating train and test dataset to create dummy variables since we can\n",
        "# not see the future\n",
        "fill_missing_columns(X_train, X_test)\n",
        "\n",
        "# You need to have the same order of columns for model training/prediction\n",
        "X_test = X_test[X_train.columns]"
      ],
      "execution_count": null,
      "outputs": []
    },
    {
      "cell_type": "markdown",
      "metadata": {
        "id": "og3HA6t9ssr-",
        "colab_type": "text"
      },
      "source": [
        "## Training and hyper-parameters tunning"
      ]
    },
    {
      "cell_type": "code",
      "metadata": {
        "id": "9dyy5nS5urWY",
        "colab_type": "code",
        "colab": {}
      },
      "source": [
        "import math\n",
        "from sklearn.tree import DecisionTreeClassifier\n",
        "from sklearn.model_selection import GridSearchCV\n",
        "from sklearn.metrics import classification_report, roc_auc_score, plot_roc_curve"
      ],
      "execution_count": null,
      "outputs": []
    },
    {
      "cell_type": "code",
      "metadata": {
        "id": "EMlaSZxF4tWy",
        "colab_type": "code",
        "colab": {}
      },
      "source": [
        "def tunning_procedure(X_train, y_train, \n",
        "                      X_test, y_test):\n",
        "  decision_tree_model = DecisionTreeClassifier(random_state=36)\n",
        "  param_grid = {\n",
        "      'criterion': ['gini', 'entropy'],\n",
        "      'max_depth': range(2, 5),\n",
        "      'min_samples_split': range(2, 5),\n",
        "      'min_samples_leaf': range(2, 5)\n",
        "  }\n",
        "  grid = GridSearchCV(decision_tree_model, \n",
        "                      param_grid, \n",
        "                      cv=5, \n",
        "                      scoring='roc_auc', \n",
        "                      verbose=True, \n",
        "                      n_jobs=-1)\n",
        "  best_tree = grid.fit(X_train, y_train)\n",
        "  y_train_pred = best_tree.predict(X_train)\n",
        "  y_test_pred = best_tree.predict(X_test) \n",
        "  return best_tree"
      ],
      "execution_count": null,
      "outputs": []
    },
    {
      "cell_type": "code",
      "metadata": {
        "id": "4GIuYb0lwzvI",
        "colab_type": "code",
        "colab": {
          "base_uri": "https://localhost:8080/",
          "height": 68
        },
        "outputId": "d1c95de3-0fbe-449a-b0f0-dfc05435442b"
      },
      "source": [
        "best_tree = tunning_procedure(X_train, y_train, X_test, y_test)"
      ],
      "execution_count": null,
      "outputs": [
        {
          "output_type": "stream",
          "text": [
            "Fitting 5 folds for each of 54 candidates, totalling 270 fits\n"
          ],
          "name": "stdout"
        },
        {
          "output_type": "stream",
          "text": [
            "[Parallel(n_jobs=-1)]: Using backend LokyBackend with 2 concurrent workers.\n",
            "[Parallel(n_jobs=-1)]: Done 270 out of 270 | elapsed:    3.2s finished\n"
          ],
          "name": "stderr"
        }
      ]
    },
    {
      "cell_type": "code",
      "metadata": {
        "id": "xEapgSzS-7hu",
        "colab_type": "code",
        "colab": {
          "base_uri": "https://localhost:8080/",
          "height": 85
        },
        "outputId": "04b7955d-b52d-4894-e34d-d9d692c821fa"
      },
      "source": [
        "best_tree.best_params_"
      ],
      "execution_count": null,
      "outputs": [
        {
          "output_type": "execute_result",
          "data": {
            "text/plain": [
              "{'criterion': 'entropy',\n",
              " 'max_depth': 4,\n",
              " 'min_samples_leaf': 2,\n",
              " 'min_samples_split': 2}"
            ]
          },
          "metadata": {
            "tags": []
          },
          "execution_count": 90
        }
      ]
    },
    {
      "cell_type": "code",
      "metadata": {
        "id": "kqpptwW4dPTg",
        "colab_type": "code",
        "colab": {}
      },
      "source": [
        "# Get model's probability prediction (number of positive example divided by \n",
        "# total number of examples in leaf node )\n",
        "y_train_pred_proba = best_tree.predict_proba(X_train)[:, 1]\n",
        "y_test_pred_proba = best_tree.predict_proba(X_test)[:, 1]\n",
        "# Get model's hard prediction (label:0/1 based on probability threshold of 0.5)\n",
        "y_train_pred = best_tree.predict(X_train)\n",
        "y_test_pred = best_tree.predict(X_test)"
      ],
      "execution_count": null,
      "outputs": []
    },
    {
      "cell_type": "code",
      "metadata": {
        "id": "DSlNZBabtSgq",
        "colab_type": "code",
        "colab": {
          "base_uri": "https://localhost:8080/",
          "height": 51
        },
        "outputId": "e9c5b47d-ba36-4c33-c31f-aef46163f258"
      },
      "source": [
        "print('AUC score on training data: {:.2f}'.format(roc_auc_score(y_train, y_train_pred_proba)))\n",
        "print('AUC score on test data: {:.2f}'.format(roc_auc_score(y_test, y_test_pred_proba)))"
      ],
      "execution_count": null,
      "outputs": [
        {
          "output_type": "stream",
          "text": [
            "AUC score on training data: 0.80\n",
            "AUC score on test data: 0.73\n"
          ],
          "name": "stdout"
        }
      ]
    },
    {
      "cell_type": "code",
      "metadata": {
        "id": "FAxnwijddCQe",
        "colab_type": "code",
        "colab": {
          "base_uri": "https://localhost:8080/",
          "height": 357
        },
        "outputId": "3134e942-5356-48f9-c843-c63255e3b87c"
      },
      "source": [
        "print('ON TRAINING SET')\n",
        "print(classification_report(y_train, y_train_pred))\n",
        "print('ON TEST SET')\n",
        "print(classification_report(y_test, y_test_pred))"
      ],
      "execution_count": null,
      "outputs": [
        {
          "output_type": "stream",
          "text": [
            "ON TRAINING SET\n",
            "              precision    recall  f1-score   support\n",
            "\n",
            "           0       0.77      0.95      0.85       487\n",
            "           1       0.77      0.35      0.48       213\n",
            "\n",
            "    accuracy                           0.77       700\n",
            "   macro avg       0.77      0.65      0.67       700\n",
            "weighted avg       0.77      0.77      0.74       700\n",
            "\n",
            "ON TEST SET\n",
            "              precision    recall  f1-score   support\n",
            "\n",
            "           0       0.76      0.94      0.84       213\n",
            "           1       0.65      0.28      0.39        87\n",
            "\n",
            "    accuracy                           0.75       300\n",
            "   macro avg       0.70      0.61      0.61       300\n",
            "weighted avg       0.73      0.75      0.71       300\n",
            "\n"
          ],
          "name": "stdout"
        }
      ]
    },
    {
      "cell_type": "code",
      "metadata": {
        "id": "3mox77qi_tbz",
        "colab_type": "code",
        "colab": {
          "base_uri": "https://localhost:8080/",
          "height": 297
        },
        "outputId": "74c6046f-4e1e-4f6d-f9c1-2128f1bb3ca0"
      },
      "source": [
        "fig, axes = plt.subplots(ncols=2, figsize=(10, 4))\n",
        "plot_roc_curve(best_tree, X_train, y_train, ax=axes[0])\n",
        "plot_roc_curve(best_tree, X_test, y_test, ax=axes[1])\n",
        "\n",
        "fig.tight_layout()\n",
        "plt.show()"
      ],
      "execution_count": null,
      "outputs": [
        {
          "output_type": "display_data",
          "data": {
            "image/png": "[encoded data removed]",
            "text/plain": [
              "<Figure size 720x288 with 2 Axes>"
            ]
          },
          "metadata": {
            "tags": []
          }
        }
      ]
    },
    {
      "cell_type": "markdown",
      "metadata": {
        "id": "0W2aaiQtAUmP",
        "colab_type": "text"
      },
      "source": [
        "## Decision thresholds visualization\n"
      ]
    },
    {
      "cell_type": "code",
      "metadata": {
        "id": "XiQyb_WX-_6o",
        "colab_type": "code",
        "colab": {}
      },
      "source": [
        "from sklearn import tree\n",
        "import graphviz"
      ],
      "execution_count": null,
      "outputs": []
    },
    {
      "cell_type": "code",
      "metadata": {
        "id": "sinICJyMASzE",
        "colab_type": "code",
        "colab": {
          "base_uri": "https://localhost:8080/",
          "height": 34
        },
        "outputId": "92e2c075-ee96-4d18-bb14-ed751afc37c5"
      },
      "source": [
        "dot_data = tree.export_graphviz(best_tree.best_estimator_, \n",
        "                                feature_names=list(X_train.columns))\n",
        "graph = graphviz.Source(dot_data)\n",
        "graph.render('decision_tree') # export decision thresholds to the pdf file named 'decision_tree'"
      ],
      "execution_count": null,
      "outputs": [
        {
          "output_type": "execute_result",
          "data": {
            "text/plain": [
              "'decision_tree.pdf'"
            ]
          },
          "metadata": {
            "tags": []
          },
          "execution_count": 206
        }
      ]
    },
    {
      "cell_type": "code",
      "metadata": {
        "id": "Lu-njsF_HYdp",
        "colab_type": "code",
        "colab": {
          "base_uri": "https://localhost:8080/",
          "height": 677
        },
        "outputId": "a352f1ed-57f7-4a34-f255-248adbec9121"
      },
      "source": [
        "graph"
      ],
      "execution_count": null,
      "outputs": [
        {
          "output_type": "execute_result",
          "data": {
            "text/plain": [
              "<graphviz.files.Source at 0x7f0fb2d5a940>"
            ],
            "image/svg+xml": "<?xml version=\"1.0\" encoding=\"UTF-8\" standalone=\"no\"?>\n<!DOCTYPE svg PUBLIC \"-//W3C//DTD SVG 1.1//EN\"\n \"http://www.w3.org/Graphics/SVG/1.1/DTD/svg11.dtd\">\n<!-- Generated by graphviz version 2.40.1 (20161225.0304)\n -->\n<!-- Title: Tree Pages: 1 -->\n<svg width=\"1973pt\" height=\"477pt\"\n viewBox=\"0.00 0.00 1972.50 477.00\" xmlns=\"http://www.w3.org/2000/svg\" xmlns:xlink=\"http://www.w3.org/1999/xlink\">\n<g id=\"graph0\" class=\"graph\" transform=\"scale(1 1) rotate(0) translate(4 473)\">\n<title>Tree</title>\n<polygon fill=\"#ffffff\" stroke=\"transparent\" points=\"-4,4 -4,-473 1968.5,-473 1968.5,4 -4,4\"/>\n<!-- 0 -->\n<g id=\"node1\" class=\"node\">\n<title>0</title>\n<polygon fill=\"none\" stroke=\"#000000\" points=\"1093,-469 869,-469 869,-401 1093,-401 1093,-469\"/>\n<text text-anchor=\"middle\" x=\"981\" y=\"-453.8\" font-family=\"Times,serif\" font-size=\"14.00\" fill=\"#000000\">checking_balance_unknown &lt;= 0.5</text>\n<text text-anchor=\"middle\" x=\"981\" y=\"-438.8\" font-family=\"Times,serif\" font-size=\"14.00\" fill=\"#000000\">entropy = 0.886</text>\n<text text-anchor=\"middle\" x=\"981\" y=\"-423.8\" font-family=\"Times,serif\" font-size=\"14.00\" fill=\"#000000\">samples = 700</text>\n<text text-anchor=\"middle\" x=\"981\" y=\"-408.8\" font-family=\"Times,serif\" font-size=\"14.00\" fill=\"#000000\">value = [487, 213]</text>\n</g>\n<!-- 1 -->\n<g id=\"node2\" class=\"node\">\n<title>1</title>\n<polygon fill=\"none\" stroke=\"#000000\" points=\"866.5,-365 669.5,-365 669.5,-297 866.5,-297 866.5,-365\"/>\n<text text-anchor=\"middle\" x=\"768\" y=\"-349.8\" font-family=\"Times,serif\" font-size=\"14.00\" fill=\"#000000\">months_loan_duration &lt;= 22.5</text>\n<text text-anchor=\"middle\" x=\"768\" y=\"-334.8\" font-family=\"Times,serif\" font-size=\"14.00\" fill=\"#000000\">entropy = 0.982</text>\n<text text-anchor=\"middle\" x=\"768\" y=\"-319.8\" font-family=\"Times,serif\" font-size=\"14.00\" fill=\"#000000\">samples = 429</text>\n<text text-anchor=\"middle\" x=\"768\" y=\"-304.8\" font-family=\"Times,serif\" font-size=\"14.00\" fill=\"#000000\">value = [248, 181]</text>\n</g>\n<!-- 0&#45;&gt;1 -->\n<g id=\"edge1\" class=\"edge\">\n<title>0&#45;&gt;1</title>\n<path fill=\"none\" stroke=\"#000000\" d=\"M911.2558,-400.9465C890.7524,-390.9354 868.1773,-379.9129 847.1318,-369.6371\"/>\n<polygon fill=\"#000000\" stroke=\"#000000\" points=\"848.4226,-366.3725 837.9009,-365.13 845.3513,-372.6627 848.4226,-366.3725\"/>\n<text text-anchor=\"middle\" x=\"846.0299\" y=\"-385.0714\" font-family=\"Times,serif\" font-size=\"14.00\" fill=\"#000000\">True</text>\n</g>\n<!-- 16 -->\n<g id=\"node17\" class=\"node\">\n<title>16</title>\n<polygon fill=\"none\" stroke=\"#000000\" points=\"1299.5,-365 1174.5,-365 1174.5,-297 1299.5,-297 1299.5,-365\"/>\n<text text-anchor=\"middle\" x=\"1237\" y=\"-349.8\" font-family=\"Times,serif\" font-size=\"14.00\" fill=\"#000000\">amount &lt;= 4158.0</text>\n<text text-anchor=\"middle\" x=\"1237\" y=\"-334.8\" font-family=\"Times,serif\" font-size=\"14.00\" fill=\"#000000\">entropy = 0.524</text>\n<text text-anchor=\"middle\" x=\"1237\" y=\"-319.8\" font-family=\"Times,serif\" font-size=\"14.00\" fill=\"#000000\">samples = 271</text>\n<text text-anchor=\"middle\" x=\"1237\" y=\"-304.8\" font-family=\"Times,serif\" font-size=\"14.00\" fill=\"#000000\">value = [239, 32]</text>\n</g>\n<!-- 0&#45;&gt;16 -->\n<g id=\"edge16\" class=\"edge\">\n<title>0&#45;&gt;16</title>\n<path fill=\"none\" stroke=\"#000000\" d=\"M1064.824,-400.9465C1097.0687,-387.8471 1133.5764,-373.0158 1164.6505,-360.392\"/>\n<polygon fill=\"#000000\" stroke=\"#000000\" points=\"1166.1617,-363.5559 1174.109,-356.5495 1163.527,-357.0707 1166.1617,-363.5559\"/>\n<text text-anchor=\"middle\" x=\"1164.3847\" y=\"-375.8807\" font-family=\"Times,serif\" font-size=\"14.00\" fill=\"#000000\">False</text>\n</g>\n<!-- 2 -->\n<g id=\"node3\" class=\"node\">\n<title>2</title>\n<polygon fill=\"none\" stroke=\"#000000\" points=\"513.5,-261 308.5,-261 308.5,-193 513.5,-193 513.5,-261\"/>\n<text text-anchor=\"middle\" x=\"411\" y=\"-245.8\" font-family=\"Times,serif\" font-size=\"14.00\" fill=\"#000000\">credit_history_very good &lt;= 0.5</text>\n<text text-anchor=\"middle\" x=\"411\" y=\"-230.8\" font-family=\"Times,serif\" font-size=\"14.00\" fill=\"#000000\">entropy = 0.917</text>\n<text text-anchor=\"middle\" x=\"411\" y=\"-215.8\" font-family=\"Times,serif\" font-size=\"14.00\" fill=\"#000000\">samples = 250</text>\n<text text-anchor=\"middle\" x=\"411\" y=\"-200.8\" font-family=\"Times,serif\" font-size=\"14.00\" fill=\"#000000\">value = [167, 83]</text>\n</g>\n<!-- 1&#45;&gt;2 -->\n<g id=\"edge2\" class=\"edge\">\n<title>1&#45;&gt;2</title>\n<path fill=\"none\" stroke=\"#000000\" d=\"M669.0297,-302.1683C623.8535,-289.0077 570.1342,-273.3584 523.4377,-259.755\"/>\n<polygon fill=\"#000000\" stroke=\"#000000\" points=\"524.1652,-256.3215 513.5854,-256.8848 522.2073,-263.0421 524.1652,-256.3215\"/>\n</g>\n<!-- 9 -->\n<g id=\"node10\" class=\"node\">\n<title>9</title>\n<polygon fill=\"none\" stroke=\"#000000\" points=\"866.5,-261 669.5,-261 669.5,-193 866.5,-193 866.5,-261\"/>\n<text text-anchor=\"middle\" x=\"768\" y=\"-245.8\" font-family=\"Times,serif\" font-size=\"14.00\" fill=\"#000000\">months_loan_duration &lt;= 43.5</text>\n<text text-anchor=\"middle\" x=\"768\" y=\"-230.8\" font-family=\"Times,serif\" font-size=\"14.00\" fill=\"#000000\">entropy = 0.993</text>\n<text text-anchor=\"middle\" x=\"768\" y=\"-215.8\" font-family=\"Times,serif\" font-size=\"14.00\" fill=\"#000000\">samples = 179</text>\n<text text-anchor=\"middle\" x=\"768\" y=\"-200.8\" font-family=\"Times,serif\" font-size=\"14.00\" fill=\"#000000\">value = [81, 98]</text>\n</g>\n<!-- 1&#45;&gt;9 -->\n<g id=\"edge9\" class=\"edge\">\n<title>1&#45;&gt;9</title>\n<path fill=\"none\" stroke=\"#000000\" d=\"M768,-296.9465C768,-288.776 768,-279.9318 768,-271.3697\"/>\n<polygon fill=\"#000000\" stroke=\"#000000\" points=\"771.5001,-271.13 768,-261.13 764.5001,-271.13 771.5001,-271.13\"/>\n</g>\n<!-- 3 -->\n<g id=\"node4\" class=\"node\">\n<title>3</title>\n<polygon fill=\"none\" stroke=\"#000000\" points=\"282,-157 92,-157 92,-89 282,-89 282,-157\"/>\n<text text-anchor=\"middle\" x=\"187\" y=\"-141.8\" font-family=\"Times,serif\" font-size=\"14.00\" fill=\"#000000\">months_loan_duration &lt;= 8.5</text>\n<text text-anchor=\"middle\" x=\"187\" y=\"-126.8\" font-family=\"Times,serif\" font-size=\"14.00\" fill=\"#000000\">entropy = 0.882</text>\n<text text-anchor=\"middle\" x=\"187\" y=\"-111.8\" font-family=\"Times,serif\" font-size=\"14.00\" fill=\"#000000\">samples = 233</text>\n<text text-anchor=\"middle\" x=\"187\" y=\"-96.8\" font-family=\"Times,serif\" font-size=\"14.00\" fill=\"#000000\">value = [163, 70]</text>\n</g>\n<!-- 2&#45;&gt;3 -->\n<g id=\"edge3\" class=\"edge\">\n<title>2&#45;&gt;3</title>\n<path fill=\"none\" stroke=\"#000000\" d=\"M337.654,-192.9465C315.8983,-182.8457 291.9248,-171.7151 269.6233,-161.3608\"/>\n<polygon fill=\"#000000\" stroke=\"#000000\" points=\"271.0548,-158.1666 260.5108,-157.13 268.107,-164.5157 271.0548,-158.1666\"/>\n</g>\n<!-- 6 -->\n<g id=\"node7\" class=\"node\">\n<title>6</title>\n<polygon fill=\"none\" stroke=\"#000000\" points=\"493,-157 329,-157 329,-89 493,-89 493,-157\"/>\n<text text-anchor=\"middle\" x=\"411\" y=\"-141.8\" font-family=\"Times,serif\" font-size=\"14.00\" fill=\"#000000\">other_credit_none &lt;= 0.5</text>\n<text text-anchor=\"middle\" x=\"411\" y=\"-126.8\" font-family=\"Times,serif\" font-size=\"14.00\" fill=\"#000000\">entropy = 0.787</text>\n<text text-anchor=\"middle\" x=\"411\" y=\"-111.8\" font-family=\"Times,serif\" font-size=\"14.00\" fill=\"#000000\">samples = 17</text>\n<text text-anchor=\"middle\" x=\"411\" y=\"-96.8\" font-family=\"Times,serif\" font-size=\"14.00\" fill=\"#000000\">value = [4, 13]</text>\n</g>\n<!-- 2&#45;&gt;6 -->\n<g id=\"edge6\" class=\"edge\">\n<title>2&#45;&gt;6</title>\n<path fill=\"none\" stroke=\"#000000\" d=\"M411,-192.9465C411,-184.776 411,-175.9318 411,-167.3697\"/>\n<polygon fill=\"#000000\" stroke=\"#000000\" points=\"414.5001,-167.13 411,-157.13 407.5001,-167.13 414.5001,-167.13\"/>\n</g>\n<!-- 4 -->\n<g id=\"node5\" class=\"node\">\n<title>4</title>\n<polygon fill=\"none\" stroke=\"#000000\" points=\"110,-53 0,-53 0,0 110,0 110,-53\"/>\n<text text-anchor=\"middle\" x=\"55\" y=\"-37.8\" font-family=\"Times,serif\" font-size=\"14.00\" fill=\"#000000\">entropy = 0.406</text>\n<text text-anchor=\"middle\" x=\"55\" y=\"-22.8\" font-family=\"Times,serif\" font-size=\"14.00\" fill=\"#000000\">samples = 37</text>\n<text text-anchor=\"middle\" x=\"55\" y=\"-7.8\" font-family=\"Times,serif\" font-size=\"14.00\" fill=\"#000000\">value = [34, 3]</text>\n</g>\n<!-- 3&#45;&gt;4 -->\n<g id=\"edge4\" class=\"edge\">\n<title>3&#45;&gt;4</title>\n<path fill=\"none\" stroke=\"#000000\" d=\"M140.4617,-88.9777C127.3099,-79.3629 113.0257,-68.9203 99.968,-59.3743\"/>\n<polygon fill=\"#000000\" stroke=\"#000000\" points=\"101.727,-56.3247 91.5886,-53.2485 97.5958,-61.9757 101.727,-56.3247\"/>\n</g>\n<!-- 5 -->\n<g id=\"node6\" class=\"node\">\n<title>5</title>\n<polygon fill=\"none\" stroke=\"#000000\" points=\"245.5,-53 128.5,-53 128.5,0 245.5,0 245.5,-53\"/>\n<text text-anchor=\"middle\" x=\"187\" y=\"-37.8\" font-family=\"Times,serif\" font-size=\"14.00\" fill=\"#000000\">entropy = 0.927</text>\n<text text-anchor=\"middle\" x=\"187\" y=\"-22.8\" font-family=\"Times,serif\" font-size=\"14.00\" fill=\"#000000\">samples = 196</text>\n<text text-anchor=\"middle\" x=\"187\" y=\"-7.8\" font-family=\"Times,serif\" font-size=\"14.00\" fill=\"#000000\">value = [129, 67]</text>\n</g>\n<!-- 3&#45;&gt;5 -->\n<g id=\"edge5\" class=\"edge\">\n<title>3&#45;&gt;5</title>\n<path fill=\"none\" stroke=\"#000000\" d=\"M187,-88.9777C187,-80.7364 187,-71.887 187,-63.5153\"/>\n<polygon fill=\"#000000\" stroke=\"#000000\" points=\"190.5001,-63.2484 187,-53.2485 183.5001,-63.2485 190.5001,-63.2484\"/>\n</g>\n<!-- 7 -->\n<g id=\"node8\" class=\"node\">\n<title>7</title>\n<polygon fill=\"none\" stroke=\"#000000\" points=\"374,-53 264,-53 264,0 374,0 374,-53\"/>\n<text text-anchor=\"middle\" x=\"319\" y=\"-37.8\" font-family=\"Times,serif\" font-size=\"14.00\" fill=\"#000000\">entropy = 0.991</text>\n<text text-anchor=\"middle\" x=\"319\" y=\"-22.8\" font-family=\"Times,serif\" font-size=\"14.00\" fill=\"#000000\">samples = 9</text>\n<text text-anchor=\"middle\" x=\"319\" y=\"-7.8\" font-family=\"Times,serif\" font-size=\"14.00\" fill=\"#000000\">value = [4, 5]</text>\n</g>\n<!-- 6&#45;&gt;7 -->\n<g id=\"edge7\" class=\"edge\">\n<title>6&#45;&gt;7</title>\n<path fill=\"none\" stroke=\"#000000\" d=\"M378.5642,-88.9777C369.8343,-79.8207 360.3885,-69.9129 351.6471,-60.744\"/>\n<polygon fill=\"#000000\" stroke=\"#000000\" points=\"353.9347,-58.0712 344.5011,-53.2485 348.8682,-62.9014 353.9347,-58.0712\"/>\n</g>\n<!-- 8 -->\n<g id=\"node9\" class=\"node\">\n<title>8</title>\n<polygon fill=\"none\" stroke=\"#000000\" points=\"487.5,-53 392.5,-53 392.5,0 487.5,0 487.5,-53\"/>\n<text text-anchor=\"middle\" x=\"440\" y=\"-37.8\" font-family=\"Times,serif\" font-size=\"14.00\" fill=\"#000000\">entropy = 0.0</text>\n<text text-anchor=\"middle\" x=\"440\" y=\"-22.8\" font-family=\"Times,serif\" font-size=\"14.00\" fill=\"#000000\">samples = 8</text>\n<text text-anchor=\"middle\" x=\"440\" y=\"-7.8\" font-family=\"Times,serif\" font-size=\"14.00\" fill=\"#000000\">value = [0, 8]</text>\n</g>\n<!-- 6&#45;&gt;8 -->\n<g id=\"edge8\" class=\"edge\">\n<title>6&#45;&gt;8</title>\n<path fill=\"none\" stroke=\"#000000\" d=\"M421.2243,-88.9777C423.756,-80.5533 426.4787,-71.4934 429.0437,-62.9579\"/>\n<polygon fill=\"#000000\" stroke=\"#000000\" points=\"432.4354,-63.8327 431.9616,-53.2485 425.7316,-61.818 432.4354,-63.8327\"/>\n</g>\n<!-- 10 -->\n<g id=\"node11\" class=\"node\">\n<title>10</title>\n<polygon fill=\"none\" stroke=\"#000000\" points=\"736.5,-157 611.5,-157 611.5,-89 736.5,-89 736.5,-157\"/>\n<text text-anchor=\"middle\" x=\"674\" y=\"-141.8\" font-family=\"Times,serif\" font-size=\"14.00\" fill=\"#000000\">amount &lt;= 2313.0</text>\n<text text-anchor=\"middle\" x=\"674\" y=\"-126.8\" font-family=\"Times,serif\" font-size=\"14.00\" fill=\"#000000\">entropy = 1.0</text>\n<text text-anchor=\"middle\" x=\"674\" y=\"-111.8\" font-family=\"Times,serif\" font-size=\"14.00\" fill=\"#000000\">samples = 142</text>\n<text text-anchor=\"middle\" x=\"674\" y=\"-96.8\" font-family=\"Times,serif\" font-size=\"14.00\" fill=\"#000000\">value = [72, 70]</text>\n</g>\n<!-- 9&#45;&gt;10 -->\n<g id=\"edge10\" class=\"edge\">\n<title>9&#45;&gt;10</title>\n<path fill=\"none\" stroke=\"#000000\" d=\"M737.2209,-192.9465C729.0245,-183.8782 720.078,-173.9799 711.5625,-164.5585\"/>\n<polygon fill=\"#000000\" stroke=\"#000000\" points=\"714.1503,-162.2019 704.8483,-157.13 708.9571,-166.8957 714.1503,-162.2019\"/>\n</g>\n<!-- 13 -->\n<g id=\"node14\" class=\"node\">\n<title>13</title>\n<polygon fill=\"none\" stroke=\"#000000\" points=\"969.5,-157 754.5,-157 754.5,-89 969.5,-89 969.5,-157\"/>\n<text text-anchor=\"middle\" x=\"862\" y=\"-141.8\" font-family=\"Times,serif\" font-size=\"14.00\" fill=\"#000000\">savings_balance_unknown &lt;= 0.5</text>\n<text text-anchor=\"middle\" x=\"862\" y=\"-126.8\" font-family=\"Times,serif\" font-size=\"14.00\" fill=\"#000000\">entropy = 0.8</text>\n<text text-anchor=\"middle\" x=\"862\" y=\"-111.8\" font-family=\"Times,serif\" font-size=\"14.00\" fill=\"#000000\">samples = 37</text>\n<text text-anchor=\"middle\" x=\"862\" y=\"-96.8\" font-family=\"Times,serif\" font-size=\"14.00\" fill=\"#000000\">value = [9, 28]</text>\n</g>\n<!-- 9&#45;&gt;13 -->\n<g id=\"edge13\" class=\"edge\">\n<title>9&#45;&gt;13</title>\n<path fill=\"none\" stroke=\"#000000\" d=\"M798.7791,-192.9465C806.9755,-183.8782 815.922,-173.9799 824.4375,-164.5585\"/>\n<polygon fill=\"#000000\" stroke=\"#000000\" points=\"827.0429,-166.8957 831.1517,-157.13 821.8497,-162.2019 827.0429,-166.8957\"/>\n</g>\n<!-- 11 -->\n<g id=\"node12\" class=\"node\">\n<title>11</title>\n<polygon fill=\"none\" stroke=\"#000000\" points=\"616,-53 506,-53 506,0 616,0 616,-53\"/>\n<text text-anchor=\"middle\" x=\"561\" y=\"-37.8\" font-family=\"Times,serif\" font-size=\"14.00\" fill=\"#000000\">entropy = 0.908</text>\n<text text-anchor=\"middle\" x=\"561\" y=\"-22.8\" font-family=\"Times,serif\" font-size=\"14.00\" fill=\"#000000\">samples = 34</text>\n<text text-anchor=\"middle\" x=\"561\" y=\"-7.8\" font-family=\"Times,serif\" font-size=\"14.00\" fill=\"#000000\">value = [11, 23]</text>\n</g>\n<!-- 10&#45;&gt;11 -->\n<g id=\"edge11\" class=\"edge\">\n<title>10&#45;&gt;11</title>\n<path fill=\"none\" stroke=\"#000000\" d=\"M634.1604,-88.9777C623.1161,-79.546 611.139,-69.3178 600.1352,-59.9208\"/>\n<polygon fill=\"#000000\" stroke=\"#000000\" points=\"602.1994,-57.081 592.3221,-53.2485 597.6536,-62.4041 602.1994,-57.081\"/>\n</g>\n<!-- 12 -->\n<g id=\"node13\" class=\"node\">\n<title>12</title>\n<polygon fill=\"none\" stroke=\"#000000\" points=\"744,-53 634,-53 634,0 744,0 744,-53\"/>\n<text text-anchor=\"middle\" x=\"689\" y=\"-37.8\" font-family=\"Times,serif\" font-size=\"14.00\" fill=\"#000000\">entropy = 0.988</text>\n<text text-anchor=\"middle\" x=\"689\" y=\"-22.8\" font-family=\"Times,serif\" font-size=\"14.00\" fill=\"#000000\">samples = 108</text>\n<text text-anchor=\"middle\" x=\"689\" y=\"-7.8\" font-family=\"Times,serif\" font-size=\"14.00\" fill=\"#000000\">value = [61, 47]</text>\n</g>\n<!-- 10&#45;&gt;12 -->\n<g id=\"edge12\" class=\"edge\">\n<title>10&#45;&gt;12</title>\n<path fill=\"none\" stroke=\"#000000\" d=\"M679.2884,-88.9777C680.5837,-80.6449 681.9756,-71.6903 683.2897,-63.2364\"/>\n<polygon fill=\"#000000\" stroke=\"#000000\" points=\"686.7646,-63.6674 684.8422,-53.2485 679.8477,-62.5922 686.7646,-63.6674\"/>\n</g>\n<!-- 14 -->\n<g id=\"node15\" class=\"node\">\n<title>14</title>\n<polygon fill=\"none\" stroke=\"#000000\" points=\"872,-53 762,-53 762,0 872,0 872,-53\"/>\n<text text-anchor=\"middle\" x=\"817\" y=\"-37.8\" font-family=\"Times,serif\" font-size=\"14.00\" fill=\"#000000\">entropy = 0.672</text>\n<text text-anchor=\"middle\" x=\"817\" y=\"-22.8\" font-family=\"Times,serif\" font-size=\"14.00\" fill=\"#000000\">samples = 34</text>\n<text text-anchor=\"middle\" x=\"817\" y=\"-7.8\" font-family=\"Times,serif\" font-size=\"14.00\" fill=\"#000000\">value = [6, 28]</text>\n</g>\n<!-- 13&#45;&gt;14 -->\n<g id=\"edge14\" class=\"edge\">\n<title>13&#45;&gt;14</title>\n<path fill=\"none\" stroke=\"#000000\" d=\"M846.1347,-88.9777C842.1208,-80.3702 837.7975,-71.0992 833.7419,-62.402\"/>\n<polygon fill=\"#000000\" stroke=\"#000000\" points=\"836.8718,-60.8323 829.4734,-53.2485 830.5277,-63.7907 836.8718,-60.8323\"/>\n</g>\n<!-- 15 -->\n<g id=\"node16\" class=\"node\">\n<title>15</title>\n<polygon fill=\"none\" stroke=\"#000000\" points=\"985.5,-53 890.5,-53 890.5,0 985.5,0 985.5,-53\"/>\n<text text-anchor=\"middle\" x=\"938\" y=\"-37.8\" font-family=\"Times,serif\" font-size=\"14.00\" fill=\"#000000\">entropy = 0.0</text>\n<text text-anchor=\"middle\" x=\"938\" y=\"-22.8\" font-family=\"Times,serif\" font-size=\"14.00\" fill=\"#000000\">samples = 3</text>\n<text text-anchor=\"middle\" x=\"938\" y=\"-7.8\" font-family=\"Times,serif\" font-size=\"14.00\" fill=\"#000000\">value = [3, 0]</text>\n</g>\n<!-- 13&#45;&gt;15 -->\n<g id=\"edge15\" class=\"edge\">\n<title>13&#45;&gt;15</title>\n<path fill=\"none\" stroke=\"#000000\" d=\"M888.7948,-88.9777C895.8622,-80.0039 903.4976,-70.3089 910.5967,-61.295\"/>\n<polygon fill=\"#000000\" stroke=\"#000000\" points=\"913.4963,-63.2701 916.9338,-53.2485 907.997,-58.9391 913.4963,-63.2701\"/>\n</g>\n<!-- 17 -->\n<g id=\"node18\" class=\"node\">\n<title>17</title>\n<polygon fill=\"none\" stroke=\"#000000\" points=\"1295.5,-261 1178.5,-261 1178.5,-193 1295.5,-193 1295.5,-261\"/>\n<text text-anchor=\"middle\" x=\"1237\" y=\"-245.8\" font-family=\"Times,serif\" font-size=\"14.00\" fill=\"#000000\">age &lt;= 22.5</text>\n<text text-anchor=\"middle\" x=\"1237\" y=\"-230.8\" font-family=\"Times,serif\" font-size=\"14.00\" fill=\"#000000\">entropy = 0.395</text>\n<text text-anchor=\"middle\" x=\"1237\" y=\"-215.8\" font-family=\"Times,serif\" font-size=\"14.00\" fill=\"#000000\">samples = 205</text>\n<text text-anchor=\"middle\" x=\"1237\" y=\"-200.8\" font-family=\"Times,serif\" font-size=\"14.00\" fill=\"#000000\">value = [189, 16]</text>\n</g>\n<!-- 16&#45;&gt;17 -->\n<g id=\"edge17\" class=\"edge\">\n<title>16&#45;&gt;17</title>\n<path fill=\"none\" stroke=\"#000000\" d=\"M1237,-296.9465C1237,-288.776 1237,-279.9318 1237,-271.3697\"/>\n<polygon fill=\"#000000\" stroke=\"#000000\" points=\"1240.5001,-271.13 1237,-261.13 1233.5001,-271.13 1240.5001,-271.13\"/>\n</g>\n<!-- 24 -->\n<g id=\"node25\" class=\"node\">\n<title>24</title>\n<polygon fill=\"none\" stroke=\"#000000\" points=\"1625,-261 1515,-261 1515,-193 1625,-193 1625,-261\"/>\n<text text-anchor=\"middle\" x=\"1570\" y=\"-245.8\" font-family=\"Times,serif\" font-size=\"14.00\" fill=\"#000000\">age &lt;= 29.5</text>\n<text text-anchor=\"middle\" x=\"1570\" y=\"-230.8\" font-family=\"Times,serif\" font-size=\"14.00\" fill=\"#000000\">entropy = 0.799</text>\n<text text-anchor=\"middle\" x=\"1570\" y=\"-215.8\" font-family=\"Times,serif\" font-size=\"14.00\" fill=\"#000000\">samples = 66</text>\n<text text-anchor=\"middle\" x=\"1570\" y=\"-200.8\" font-family=\"Times,serif\" font-size=\"14.00\" fill=\"#000000\">value = [50, 16]</text>\n</g>\n<!-- 16&#45;&gt;24 -->\n<g id=\"edge24\" class=\"edge\">\n<title>16&#45;&gt;24</title>\n<path fill=\"none\" stroke=\"#000000\" d=\"M1299.6348,-311.4384C1358.3504,-293.1008 1445.7585,-265.8021 1505.1748,-247.2457\"/>\n<polygon fill=\"#000000\" stroke=\"#000000\" points=\"1506.3261,-250.553 1514.828,-244.2309 1504.2392,-243.8712 1506.3261,-250.553\"/>\n</g>\n<!-- 18 -->\n<g id=\"node19\" class=\"node\">\n<title>18</title>\n<polygon fill=\"none\" stroke=\"#000000\" points=\"1235.5,-157 1014.5,-157 1014.5,-89 1235.5,-89 1235.5,-157\"/>\n<text text-anchor=\"middle\" x=\"1125\" y=\"-141.8\" font-family=\"Times,serif\" font-size=\"14.00\" fill=\"#000000\">savings_balance_&lt; 100 DM &lt;= 0.5</text>\n<text text-anchor=\"middle\" x=\"1125\" y=\"-126.8\" font-family=\"Times,serif\" font-size=\"14.00\" fill=\"#000000\">entropy = 0.954</text>\n<text text-anchor=\"middle\" x=\"1125\" y=\"-111.8\" font-family=\"Times,serif\" font-size=\"14.00\" fill=\"#000000\">samples = 8</text>\n<text text-anchor=\"middle\" x=\"1125\" y=\"-96.8\" font-family=\"Times,serif\" font-size=\"14.00\" fill=\"#000000\">value = [5, 3]</text>\n</g>\n<!-- 17&#45;&gt;18 -->\n<g id=\"edge18\" class=\"edge\">\n<title>17&#45;&gt;18</title>\n<path fill=\"none\" stroke=\"#000000\" d=\"M1200.327,-192.9465C1190.3677,-183.6986 1179.4789,-173.5876 1169.1532,-163.9994\"/>\n<polygon fill=\"#000000\" stroke=\"#000000\" points=\"1171.4649,-161.3698 1161.7554,-157.13 1166.7018,-166.4993 1171.4649,-161.3698\"/>\n</g>\n<!-- 21 -->\n<g id=\"node22\" class=\"node\">\n<title>21</title>\n<polygon fill=\"none\" stroke=\"#000000\" points=\"1444,-157 1254,-157 1254,-89 1444,-89 1444,-157\"/>\n<text text-anchor=\"middle\" x=\"1349\" y=\"-141.8\" font-family=\"Times,serif\" font-size=\"14.00\" fill=\"#000000\">months_loan_duration &lt;= 9.5</text>\n<text text-anchor=\"middle\" x=\"1349\" y=\"-126.8\" font-family=\"Times,serif\" font-size=\"14.00\" fill=\"#000000\">entropy = 0.351</text>\n<text text-anchor=\"middle\" x=\"1349\" y=\"-111.8\" font-family=\"Times,serif\" font-size=\"14.00\" fill=\"#000000\">samples = 197</text>\n<text text-anchor=\"middle\" x=\"1349\" y=\"-96.8\" font-family=\"Times,serif\" font-size=\"14.00\" fill=\"#000000\">value = [184, 13]</text>\n</g>\n<!-- 17&#45;&gt;21 -->\n<g id=\"edge21\" class=\"edge\">\n<title>17&#45;&gt;21</title>\n<path fill=\"none\" stroke=\"#000000\" d=\"M1273.673,-192.9465C1283.6323,-183.6986 1294.5211,-173.5876 1304.8468,-163.9994\"/>\n<polygon fill=\"#000000\" stroke=\"#000000\" points=\"1307.2982,-166.4993 1312.2446,-157.13 1302.5351,-161.3698 1307.2982,-166.4993\"/>\n</g>\n<!-- 19 -->\n<g id=\"node20\" class=\"node\">\n<title>19</title>\n<polygon fill=\"none\" stroke=\"#000000\" points=\"1098.5,-53 1003.5,-53 1003.5,0 1098.5,0 1098.5,-53\"/>\n<text text-anchor=\"middle\" x=\"1051\" y=\"-37.8\" font-family=\"Times,serif\" font-size=\"14.00\" fill=\"#000000\">entropy = 0.0</text>\n<text text-anchor=\"middle\" x=\"1051\" y=\"-22.8\" font-family=\"Times,serif\" font-size=\"14.00\" fill=\"#000000\">samples = 4</text>\n<text text-anchor=\"middle\" x=\"1051\" y=\"-7.8\" font-family=\"Times,serif\" font-size=\"14.00\" fill=\"#000000\">value = [4, 0]</text>\n</g>\n<!-- 18&#45;&gt;19 -->\n<g id=\"edge19\" class=\"edge\">\n<title>18&#45;&gt;19</title>\n<path fill=\"none\" stroke=\"#000000\" d=\"M1098.9104,-88.9777C1092.0289,-80.0039 1084.5944,-70.3089 1077.6822,-61.295\"/>\n<polygon fill=\"#000000\" stroke=\"#000000\" points=\"1080.3744,-59.0541 1071.5118,-53.2485 1074.8196,-63.3137 1080.3744,-59.0541\"/>\n</g>\n<!-- 20 -->\n<g id=\"node21\" class=\"node\">\n<title>20</title>\n<polygon fill=\"none\" stroke=\"#000000\" points=\"1227,-53 1117,-53 1117,0 1227,0 1227,-53\"/>\n<text text-anchor=\"middle\" x=\"1172\" y=\"-37.8\" font-family=\"Times,serif\" font-size=\"14.00\" fill=\"#000000\">entropy = 0.811</text>\n<text text-anchor=\"middle\" x=\"1172\" y=\"-22.8\" font-family=\"Times,serif\" font-size=\"14.00\" fill=\"#000000\">samples = 4</text>\n<text text-anchor=\"middle\" x=\"1172\" y=\"-7.8\" font-family=\"Times,serif\" font-size=\"14.00\" fill=\"#000000\">value = [1, 3]</text>\n</g>\n<!-- 18&#45;&gt;20 -->\n<g id=\"edge20\" class=\"edge\">\n<title>18&#45;&gt;20</title>\n<path fill=\"none\" stroke=\"#000000\" d=\"M1141.5704,-88.9777C1145.7627,-80.3702 1150.2781,-71.0992 1154.514,-62.402\"/>\n<polygon fill=\"#000000\" stroke=\"#000000\" points=\"1157.7401,-63.7714 1158.9722,-53.2485 1151.4468,-60.7063 1157.7401,-63.7714\"/>\n</g>\n<!-- 22 -->\n<g id=\"node23\" class=\"node\">\n<title>22</title>\n<polygon fill=\"none\" stroke=\"#000000\" points=\"1347,-53 1245,-53 1245,0 1347,0 1347,-53\"/>\n<text text-anchor=\"middle\" x=\"1296\" y=\"-37.8\" font-family=\"Times,serif\" font-size=\"14.00\" fill=\"#000000\">entropy = 0.0</text>\n<text text-anchor=\"middle\" x=\"1296\" y=\"-22.8\" font-family=\"Times,serif\" font-size=\"14.00\" fill=\"#000000\">samples = 40</text>\n<text text-anchor=\"middle\" x=\"1296\" y=\"-7.8\" font-family=\"Times,serif\" font-size=\"14.00\" fill=\"#000000\">value = [40, 0]</text>\n</g>\n<!-- 21&#45;&gt;22 -->\n<g id=\"edge22\" class=\"edge\">\n<title>21&#45;&gt;22</title>\n<path fill=\"none\" stroke=\"#000000\" d=\"M1330.3142,-88.9777C1325.5364,-80.2786 1320.3865,-70.9018 1315.5659,-62.1247\"/>\n<polygon fill=\"#000000\" stroke=\"#000000\" points=\"1318.5726,-60.3286 1310.6909,-53.2485 1312.4371,-63.6984 1318.5726,-60.3286\"/>\n</g>\n<!-- 23 -->\n<g id=\"node24\" class=\"node\">\n<title>23</title>\n<polygon fill=\"none\" stroke=\"#000000\" points=\"1482.5,-53 1365.5,-53 1365.5,0 1482.5,0 1482.5,-53\"/>\n<text text-anchor=\"middle\" x=\"1424\" y=\"-37.8\" font-family=\"Times,serif\" font-size=\"14.00\" fill=\"#000000\">entropy = 0.412</text>\n<text text-anchor=\"middle\" x=\"1424\" y=\"-22.8\" font-family=\"Times,serif\" font-size=\"14.00\" fill=\"#000000\">samples = 157</text>\n<text text-anchor=\"middle\" x=\"1424\" y=\"-7.8\" font-family=\"Times,serif\" font-size=\"14.00\" fill=\"#000000\">value = [144, 13]</text>\n</g>\n<!-- 21&#45;&gt;23 -->\n<g id=\"edge23\" class=\"edge\">\n<title>21&#45;&gt;23</title>\n<path fill=\"none\" stroke=\"#000000\" d=\"M1375.4422,-88.9777C1382.4167,-80.0039 1389.9516,-70.3089 1396.9573,-61.295\"/>\n<polygon fill=\"#000000\" stroke=\"#000000\" points=\"1399.8379,-63.292 1403.211,-53.2485 1394.3109,-58.9964 1399.8379,-63.292\"/>\n</g>\n<!-- 25 -->\n<g id=\"node26\" class=\"node\">\n<title>25</title>\n<polygon fill=\"none\" stroke=\"#000000\" points=\"1668.5,-157 1471.5,-157 1471.5,-89 1668.5,-89 1668.5,-157\"/>\n<text text-anchor=\"middle\" x=\"1570\" y=\"-141.8\" font-family=\"Times,serif\" font-size=\"14.00\" fill=\"#000000\">months_loan_duration &lt;= 33.0</text>\n<text text-anchor=\"middle\" x=\"1570\" y=\"-126.8\" font-family=\"Times,serif\" font-size=\"14.00\" fill=\"#000000\">entropy = 0.998</text>\n<text text-anchor=\"middle\" x=\"1570\" y=\"-111.8\" font-family=\"Times,serif\" font-size=\"14.00\" fill=\"#000000\">samples = 19</text>\n<text text-anchor=\"middle\" x=\"1570\" y=\"-96.8\" font-family=\"Times,serif\" font-size=\"14.00\" fill=\"#000000\">value = [10, 9]</text>\n</g>\n<!-- 24&#45;&gt;25 -->\n<g id=\"edge25\" class=\"edge\">\n<title>24&#45;&gt;25</title>\n<path fill=\"none\" stroke=\"#000000\" d=\"M1570,-192.9465C1570,-184.776 1570,-175.9318 1570,-167.3697\"/>\n<polygon fill=\"#000000\" stroke=\"#000000\" points=\"1573.5001,-167.13 1570,-157.13 1566.5001,-167.13 1573.5001,-167.13\"/>\n</g>\n<!-- 28 -->\n<g id=\"node29\" class=\"node\">\n<title>28</title>\n<polygon fill=\"none\" stroke=\"#000000\" points=\"1875,-157 1705,-157 1705,-89 1875,-89 1875,-157\"/>\n<text text-anchor=\"middle\" x=\"1790\" y=\"-141.8\" font-family=\"Times,serif\" font-size=\"14.00\" fill=\"#000000\">percent_of_income &lt;= 3.5</text>\n<text text-anchor=\"middle\" x=\"1790\" y=\"-126.8\" font-family=\"Times,serif\" font-size=\"14.00\" fill=\"#000000\">entropy = 0.607</text>\n<text text-anchor=\"middle\" x=\"1790\" y=\"-111.8\" font-family=\"Times,serif\" font-size=\"14.00\" fill=\"#000000\">samples = 47</text>\n<text text-anchor=\"middle\" x=\"1790\" y=\"-96.8\" font-family=\"Times,serif\" font-size=\"14.00\" fill=\"#000000\">value = [40, 7]</text>\n</g>\n<!-- 24&#45;&gt;28 -->\n<g id=\"edge28\" class=\"edge\">\n<title>24&#45;&gt;28</title>\n<path fill=\"none\" stroke=\"#000000\" d=\"M1625.2313,-200.8906C1650.3894,-188.9978 1680.6789,-174.6791 1708.3886,-161.5799\"/>\n<polygon fill=\"#000000\" stroke=\"#000000\" points=\"1710.1308,-164.6278 1717.6757,-157.1897 1707.1392,-158.2992 1710.1308,-164.6278\"/>\n</g>\n<!-- 26 -->\n<g id=\"node27\" class=\"node\">\n<title>26</title>\n<polygon fill=\"none\" stroke=\"#000000\" points=\"1603.5,-53 1500.5,-53 1500.5,0 1603.5,0 1603.5,-53\"/>\n<text text-anchor=\"middle\" x=\"1552\" y=\"-37.8\" font-family=\"Times,serif\" font-size=\"14.00\" fill=\"#000000\">entropy = 0.65</text>\n<text text-anchor=\"middle\" x=\"1552\" y=\"-22.8\" font-family=\"Times,serif\" font-size=\"14.00\" fill=\"#000000\">samples = 12</text>\n<text text-anchor=\"middle\" x=\"1552\" y=\"-7.8\" font-family=\"Times,serif\" font-size=\"14.00\" fill=\"#000000\">value = [10, 2]</text>\n</g>\n<!-- 25&#45;&gt;26 -->\n<g id=\"edge26\" class=\"edge\">\n<title>25&#45;&gt;26</title>\n<path fill=\"none\" stroke=\"#000000\" d=\"M1563.6539,-88.9777C1562.0996,-80.6449 1560.4293,-71.6903 1558.8524,-63.2364\"/>\n<polygon fill=\"#000000\" stroke=\"#000000\" points=\"1562.2637,-62.4371 1556.9894,-53.2485 1555.3824,-63.7207 1562.2637,-62.4371\"/>\n</g>\n<!-- 27 -->\n<g id=\"node28\" class=\"node\">\n<title>27</title>\n<polygon fill=\"none\" stroke=\"#000000\" points=\"1716.5,-53 1621.5,-53 1621.5,0 1716.5,0 1716.5,-53\"/>\n<text text-anchor=\"middle\" x=\"1669\" y=\"-37.8\" font-family=\"Times,serif\" font-size=\"14.00\" fill=\"#000000\">entropy = 0.0</text>\n<text text-anchor=\"middle\" x=\"1669\" y=\"-22.8\" font-family=\"Times,serif\" font-size=\"14.00\" fill=\"#000000\">samples = 7</text>\n<text text-anchor=\"middle\" x=\"1669\" y=\"-7.8\" font-family=\"Times,serif\" font-size=\"14.00\" fill=\"#000000\">value = [0, 7]</text>\n</g>\n<!-- 25&#45;&gt;27 -->\n<g id=\"edge27\" class=\"edge\">\n<title>25&#45;&gt;27</title>\n<path fill=\"none\" stroke=\"#000000\" d=\"M1604.9037,-88.9777C1614.3918,-79.7292 1624.6657,-69.7147 1634.1509,-60.4691\"/>\n<polygon fill=\"#000000\" stroke=\"#000000\" points=\"1636.8407,-62.7349 1641.5586,-53.2485 1631.9546,-57.7223 1636.8407,-62.7349\"/>\n</g>\n<!-- 29 -->\n<g id=\"node30\" class=\"node\">\n<title>29</title>\n<polygon fill=\"none\" stroke=\"#000000\" points=\"1845,-53 1735,-53 1735,0 1845,0 1845,-53\"/>\n<text text-anchor=\"middle\" x=\"1790\" y=\"-37.8\" font-family=\"Times,serif\" font-size=\"14.00\" fill=\"#000000\">entropy = 0.711</text>\n<text text-anchor=\"middle\" x=\"1790\" y=\"-22.8\" font-family=\"Times,serif\" font-size=\"14.00\" fill=\"#000000\">samples = 36</text>\n<text text-anchor=\"middle\" x=\"1790\" y=\"-7.8\" font-family=\"Times,serif\" font-size=\"14.00\" fill=\"#000000\">value = [29, 7]</text>\n</g>\n<!-- 28&#45;&gt;29 -->\n<g id=\"edge29\" class=\"edge\">\n<title>28&#45;&gt;29</title>\n<path fill=\"none\" stroke=\"#000000\" d=\"M1790,-88.9777C1790,-80.7364 1790,-71.887 1790,-63.5153\"/>\n<polygon fill=\"#000000\" stroke=\"#000000\" points=\"1793.5001,-63.2484 1790,-53.2485 1786.5001,-63.2485 1793.5001,-63.2484\"/>\n</g>\n<!-- 30 -->\n<g id=\"node31\" class=\"node\">\n<title>30</title>\n<polygon fill=\"none\" stroke=\"#000000\" points=\"1964.5,-53 1863.5,-53 1863.5,0 1964.5,0 1964.5,-53\"/>\n<text text-anchor=\"middle\" x=\"1914\" y=\"-37.8\" font-family=\"Times,serif\" font-size=\"14.00\" fill=\"#000000\">entropy = 0.0</text>\n<text text-anchor=\"middle\" x=\"1914\" y=\"-22.8\" font-family=\"Times,serif\" font-size=\"14.00\" fill=\"#000000\">samples = 11</text>\n<text text-anchor=\"middle\" x=\"1914\" y=\"-7.8\" font-family=\"Times,serif\" font-size=\"14.00\" fill=\"#000000\">value = [11, 0]</text>\n</g>\n<!-- 28&#45;&gt;30 -->\n<g id=\"edge30\" class=\"edge\">\n<title>28&#45;&gt;30</title>\n<path fill=\"none\" stroke=\"#000000\" d=\"M1833.7178,-88.9777C1845.9549,-79.4545 1859.2355,-69.1191 1871.4066,-59.6473\"/>\n<polygon fill=\"#000000\" stroke=\"#000000\" points=\"1873.8866,-62.1523 1879.6289,-53.2485 1869.5875,-56.628 1873.8866,-62.1523\"/>\n</g>\n</g>\n</svg>\n"
          },
          "metadata": {
            "tags": []
          },
          "execution_count": 207
        }
      ]
    }
  ]
}