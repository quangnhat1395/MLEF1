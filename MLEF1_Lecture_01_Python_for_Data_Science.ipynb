{
  "nbformat": 4,
  "nbformat_minor": 0,
  "metadata": {
    "colab": {
      "name": "MLEF1_Lecture_01_Python_for_Data_Science.ipynb",
      "provenance": [],
      "collapsed_sections": [
        "ibeHylnSmH-Y",
        "r4QCmwEmnOcV",
        "-Hdb-imnKuPx",
        "2ERWI3TrK0Dp",
        "ifeUs7xiKym8",
        "1kv-Lr9lLByT",
        "A2-PnXofoCWr"
      ],
      "include_colab_link": true
    },
    "kernelspec": {
      "name": "python3",
      "display_name": "Python 3"
    }
  },
  "cells": [
    {
      "cell_type": "markdown",
      "metadata": {
        "id": "view-in-github",
        "colab_type": "text"
      },
      "source": [
        "<a href=\"https://colab.research.google.com/github/quangnhat1395/MLEF1/blob/master/MLEF1_Lecture_01_Python_for_Data_Science.ipynb\" target=\"_parent\"><img src=\"https://colab.research.google.com/assets/colab-badge.svg\" alt=\"Open In Colab\"/></a>"
      ]
    },
    {
      "cell_type": "markdown",
      "metadata": {
        "id": "C8rBsqf_tnP0",
        "colab_type": "text"
      },
      "source": [
        "# Identifiers, Objects, and the Assignment Statement"
      ]
    },
    {
      "cell_type": "code",
      "metadata": {
        "id": "tY_Q4c9LWtzv",
        "colab_type": "code",
        "colab": {
          "base_uri": "https://localhost:8080/",
          "height": 34
        },
        "outputId": "8f26a494-6137-49f8-af56-451a584c36af"
      },
      "source": [
        "print(\"Welcome to MLEF1\")"
      ],
      "execution_count": null,
      "outputs": [
        {
          "output_type": "stream",
          "text": [
            "Welcome to MLEF1\n"
          ],
          "name": "stdout"
        }
      ]
    },
    {
      "cell_type": "code",
      "metadata": {
        "id": "VDK6rrAktkAb",
        "colab_type": "code",
        "colab": {}
      },
      "source": [
        "temperature = 98.6"
      ],
      "execution_count": null,
      "outputs": []
    },
    {
      "cell_type": "code",
      "metadata": {
        "id": "XkIjSDM1XboI",
        "colab_type": "code",
        "colab": {}
      },
      "source": [
        "temperature = \"Too hot\""
      ],
      "execution_count": null,
      "outputs": []
    },
    {
      "cell_type": "code",
      "metadata": {
        "id": "wBLtjLXwkR8u",
        "colab_type": "code",
        "colab": {
          "base_uri": "https://localhost:8080/",
          "height": 35
        },
        "outputId": "c8ee966b-0cbe-44b1-b7b2-2308a5f222f7"
      },
      "source": [
        "temperature"
      ],
      "execution_count": null,
      "outputs": [
        {
          "output_type": "execute_result",
          "data": {
            "application/vnd.google.colaboratory.intrinsic": {
              "type": "string"
            },
            "text/plain": [
              "'Too hot'"
            ]
          },
          "metadata": {
            "tags": []
          },
          "execution_count": 4
        }
      ]
    },
    {
      "cell_type": "code",
      "metadata": {
        "id": "Bch1IKZaujBV",
        "colab_type": "code",
        "colab": {}
      },
      "source": [
        "original = temperature # original is a new alias"
      ],
      "execution_count": null,
      "outputs": []
    },
    {
      "cell_type": "code",
      "metadata": {
        "id": "JgRcqeReupkO",
        "colab_type": "code",
        "colab": {
          "base_uri": "https://localhost:8080/",
          "height": 34
        },
        "outputId": "74c41666-9798-4f68-b37c-ef234ec0928f"
      },
      "source": [
        "print(original)"
      ],
      "execution_count": null,
      "outputs": [
        {
          "output_type": "stream",
          "text": [
            "98.6\n"
          ],
          "name": "stdout"
        }
      ]
    },
    {
      "cell_type": "code",
      "metadata": {
        "id": "mtPUEx9y34wT",
        "colab_type": "code",
        "colab": {}
      },
      "source": [
        "temperature = 98.6"
      ],
      "execution_count": null,
      "outputs": []
    },
    {
      "cell_type": "code",
      "metadata": {
        "id": "7ncUwRDdu4uO",
        "colab_type": "code",
        "colab": {}
      },
      "source": [
        "temperature = temperature + 5.0"
      ],
      "execution_count": null,
      "outputs": []
    },
    {
      "cell_type": "code",
      "metadata": {
        "id": "FC3mM42hu-6P",
        "colab_type": "code",
        "colab": {
          "base_uri": "https://localhost:8080/",
          "height": 34
        },
        "outputId": "72ef7f81-c545-4a8a-ff3f-8af6ea56e696"
      },
      "source": [
        "temperature"
      ],
      "execution_count": null,
      "outputs": [
        {
          "output_type": "execute_result",
          "data": {
            "text/plain": [
              "103.6"
            ]
          },
          "metadata": {
            "tags": []
          },
          "execution_count": 16
        }
      ]
    },
    {
      "cell_type": "code",
      "metadata": {
        "id": "S4FqUjclvCFe",
        "colab_type": "code",
        "colab": {
          "base_uri": "https://localhost:8080/",
          "height": 34
        },
        "outputId": "d58ecc02-bb89-4daf-f426-a511af224415"
      },
      "source": [
        "original"
      ],
      "execution_count": null,
      "outputs": [
        {
          "output_type": "execute_result",
          "data": {
            "text/plain": [
              "98.6"
            ]
          },
          "metadata": {
            "tags": []
          },
          "execution_count": 17
        }
      ]
    },
    {
      "cell_type": "code",
      "metadata": {
        "id": "AMYDQ4VavLX2",
        "colab_type": "code",
        "colab": {}
      },
      "source": [
        "group = ['An', 'Binh', 'Cuong', 'Dai']"
      ],
      "execution_count": null,
      "outputs": []
    },
    {
      "cell_type": "code",
      "metadata": {
        "id": "GgSgpuDwk1F8",
        "colab_type": "code",
        "colab": {
          "base_uri": "https://localhost:8080/",
          "height": 34
        },
        "outputId": "671f4da6-5814-4832-af1f-0948fea73606"
      },
      "source": [
        "group"
      ],
      "execution_count": null,
      "outputs": [
        {
          "output_type": "execute_result",
          "data": {
            "text/plain": [
              "['An', 'Binh', 'Cuong', 'Dai']"
            ]
          },
          "metadata": {
            "tags": []
          },
          "execution_count": 9
        }
      ]
    },
    {
      "cell_type": "code",
      "metadata": {
        "id": "I2s8fZEbk3U7",
        "colab_type": "code",
        "colab": {
          "base_uri": "https://localhost:8080/",
          "height": 34
        },
        "outputId": "7346e778-3fee-4206-926b-03bf5c147215"
      },
      "source": [
        "len(group)"
      ],
      "execution_count": null,
      "outputs": [
        {
          "output_type": "execute_result",
          "data": {
            "text/plain": [
              "4"
            ]
          },
          "metadata": {
            "tags": []
          },
          "execution_count": 10
        }
      ]
    },
    {
      "cell_type": "code",
      "metadata": {
        "id": "E31v_DKjk6Ni",
        "colab_type": "code",
        "colab": {}
      },
      "source": [
        "my_strange_group = ['An', 28, 1.67]"
      ],
      "execution_count": null,
      "outputs": []
    },
    {
      "cell_type": "code",
      "metadata": {
        "id": "XEjSP_KQlLFD",
        "colab_type": "code",
        "colab": {
          "base_uri": "https://localhost:8080/",
          "height": 34
        },
        "outputId": "131d4c4f-2fcf-44ad-8c0c-f0b3790bb16c"
      },
      "source": [
        "type(my_strange_group[0])"
      ],
      "execution_count": null,
      "outputs": [
        {
          "output_type": "execute_result",
          "data": {
            "text/plain": [
              "str"
            ]
          },
          "metadata": {
            "tags": []
          },
          "execution_count": 12
        }
      ]
    },
    {
      "cell_type": "code",
      "metadata": {
        "id": "ZfOEbPCwlRcN",
        "colab_type": "code",
        "colab": {
          "base_uri": "https://localhost:8080/",
          "height": 34
        },
        "outputId": "3fe683f8-0a69-4247-cac6-f3051809c9b7"
      },
      "source": [
        "type(my_strange_group[1])"
      ],
      "execution_count": null,
      "outputs": [
        {
          "output_type": "execute_result",
          "data": {
            "text/plain": [
              "int"
            ]
          },
          "metadata": {
            "tags": []
          },
          "execution_count": 13
        }
      ]
    },
    {
      "cell_type": "code",
      "metadata": {
        "id": "gBHqKVfcla3k",
        "colab_type": "code",
        "colab": {}
      },
      "source": [
        "int age = 25;"
      ],
      "execution_count": null,
      "outputs": []
    },
    {
      "cell_type": "code",
      "metadata": {
        "id": "wknOBzXUlqc7",
        "colab_type": "code",
        "colab": {}
      },
      "source": [
        "age = 25"
      ],
      "execution_count": null,
      "outputs": []
    },
    {
      "cell_type": "code",
      "metadata": {
        "id": "G_S5e4NNlsiJ",
        "colab_type": "code",
        "colab": {}
      },
      "source": [
        "age = float(25)\n"
      ],
      "execution_count": null,
      "outputs": []
    },
    {
      "cell_type": "code",
      "metadata": {
        "id": "awBCKXgyl5JJ",
        "colab_type": "code",
        "colab": {}
      },
      "source": [
        "age = 25.0"
      ],
      "execution_count": null,
      "outputs": []
    },
    {
      "cell_type": "code",
      "metadata": {
        "id": "JR7kq9ONl9ll",
        "colab_type": "code",
        "colab": {
          "base_uri": "https://localhost:8080/",
          "height": 34
        },
        "outputId": "0bcb376f-d9e1-48f4-a6dd-cb8e162e2e5c"
      },
      "source": [
        "type(age)"
      ],
      "execution_count": null,
      "outputs": [
        {
          "output_type": "execute_result",
          "data": {
            "text/plain": [
              "float"
            ]
          },
          "metadata": {
            "tags": []
          },
          "execution_count": 17
        }
      ]
    },
    {
      "cell_type": "code",
      "metadata": {
        "id": "seG1Jx7JmA_D",
        "colab_type": "code",
        "colab": {}
      },
      "source": [
        "age = int(25.7)"
      ],
      "execution_count": null,
      "outputs": []
    },
    {
      "cell_type": "code",
      "metadata": {
        "id": "MIoyJeoVmK0x",
        "colab_type": "code",
        "colab": {
          "base_uri": "https://localhost:8080/",
          "height": 34
        },
        "outputId": "66c3be12-e285-4534-afd3-a13098f5e921"
      },
      "source": [
        "age"
      ],
      "execution_count": null,
      "outputs": [
        {
          "output_type": "execute_result",
          "data": {
            "text/plain": [
              "25"
            ]
          },
          "metadata": {
            "tags": []
          },
          "execution_count": 22
        }
      ]
    },
    {
      "cell_type": "code",
      "metadata": {
        "id": "EbQqeLQ6NckY",
        "colab_type": "code",
        "colab": {}
      },
      "source": [
        "my_name = str(\"An\")"
      ],
      "execution_count": null,
      "outputs": []
    },
    {
      "cell_type": "code",
      "metadata": {
        "id": "2DMBeV4XNhld",
        "colab_type": "code",
        "colab": {
          "base_uri": "https://localhost:8080/",
          "height": 35
        },
        "outputId": "e7b42d92-c6ee-480c-94c2-8493ece52bc0"
      },
      "source": [
        "my_name"
      ],
      "execution_count": null,
      "outputs": [
        {
          "output_type": "execute_result",
          "data": {
            "application/vnd.google.colaboratory.intrinsic": {
              "type": "string"
            },
            "text/plain": [
              "'An'"
            ]
          },
          "metadata": {
            "tags": []
          },
          "execution_count": 4
        }
      ]
    },
    {
      "cell_type": "code",
      "metadata": {
        "id": "TVbuo2U_vYLF",
        "colab_type": "code",
        "colab": {}
      },
      "source": [
        "group_2 = group"
      ],
      "execution_count": null,
      "outputs": []
    },
    {
      "cell_type": "code",
      "metadata": {
        "id": "4PKJtK64vdPm",
        "colab_type": "code",
        "colab": {
          "base_uri": "https://localhost:8080/",
          "height": 34
        },
        "outputId": "cdf4a52f-14e6-4e8f-e9c2-4b36ac7eddbf"
      },
      "source": [
        "group_2"
      ],
      "execution_count": null,
      "outputs": [
        {
          "output_type": "execute_result",
          "data": {
            "text/plain": [
              "['An', 'Binh', 'Cuong', 'Dai']"
            ]
          },
          "metadata": {
            "tags": []
          },
          "execution_count": 24
        }
      ]
    },
    {
      "cell_type": "code",
      "metadata": {
        "id": "BrZG5ENrvfZm",
        "colab_type": "code",
        "colab": {}
      },
      "source": [
        "group_2.append('En')"
      ],
      "execution_count": null,
      "outputs": []
    },
    {
      "cell_type": "code",
      "metadata": {
        "id": "nI5qkVusv4bl",
        "colab_type": "code",
        "colab": {
          "base_uri": "https://localhost:8080/",
          "height": 34
        },
        "outputId": "ad3f0de4-5542-4b29-e839-32d0da16c5e6"
      },
      "source": [
        "group_2"
      ],
      "execution_count": null,
      "outputs": [
        {
          "output_type": "execute_result",
          "data": {
            "text/plain": [
              "['An', 'Binh', 'Cuong', 'Dai', 'En']"
            ]
          },
          "metadata": {
            "tags": []
          },
          "execution_count": 26
        }
      ]
    },
    {
      "cell_type": "code",
      "metadata": {
        "id": "c5LiTlIEv7U4",
        "colab_type": "code",
        "colab": {
          "base_uri": "https://localhost:8080/",
          "height": 34
        },
        "outputId": "6ed6df6f-e104-44e6-8c8d-671fc61f5c5e"
      },
      "source": [
        "group"
      ],
      "execution_count": null,
      "outputs": [
        {
          "output_type": "execute_result",
          "data": {
            "text/plain": [
              "['An', 'Binh', 'Cuong', 'Dai', 'En']"
            ]
          },
          "metadata": {
            "tags": []
          },
          "execution_count": 28
        }
      ]
    },
    {
      "cell_type": "code",
      "metadata": {
        "id": "NAXYgdRL5SGv",
        "colab_type": "code",
        "colab": {}
      },
      "source": [
        "group_2 = [\"Fiona\"]"
      ],
      "execution_count": null,
      "outputs": []
    },
    {
      "cell_type": "code",
      "metadata": {
        "id": "HVYBzDer5ZKV",
        "colab_type": "code",
        "colab": {
          "base_uri": "https://localhost:8080/",
          "height": 34
        },
        "outputId": "f4931222-1380-4a8e-e848-50add7221432"
      },
      "source": [
        "group"
      ],
      "execution_count": null,
      "outputs": [
        {
          "output_type": "execute_result",
          "data": {
            "text/plain": [
              "['An', 'Binh', 'Cuong', 'Dai', 'En']"
            ]
          },
          "metadata": {
            "tags": []
          },
          "execution_count": 15
        }
      ]
    },
    {
      "cell_type": "markdown",
      "metadata": {
        "id": "QLYsNO55MOt5",
        "colab_type": "text"
      },
      "source": [
        "# A Python function"
      ]
    },
    {
      "cell_type": "code",
      "metadata": {
        "id": "VNjdfz90MMSf",
        "colab_type": "code",
        "colab": {
          "base_uri": "https://localhost:8080/",
          "height": 34
        },
        "outputId": "b0c77728-288c-4fb5-a6c3-ffc2ad2e2de8"
      },
      "source": [
        "def calc_mean(f_list):\n",
        "   l_len = len(f_list)\n",
        "   # Calculate the mean\n",
        "   l_sum = 0\n",
        "   for e in f_list:\n",
        "       l_sum += e\n",
        "   l_mean = float(l_sum) / l_len\n",
        "   return l_mean\n",
        "\n",
        "my_list = [4, 5, 20]\n",
        "calc_mean(my_list)   "
      ],
      "execution_count": null,
      "outputs": [
        {
          "output_type": "execute_result",
          "data": {
            "text/plain": [
              "9.666666666666666"
            ]
          },
          "metadata": {
            "tags": []
          },
          "execution_count": 29
        }
      ]
    },
    {
      "cell_type": "code",
      "metadata": {
        "id": "3j4kDzF1MNub",
        "colab_type": "code",
        "colab": {
          "base_uri": "https://localhost:8080/",
          "height": 34
        },
        "outputId": "b2435962-1938-4bba-a625-25b98d9af375"
      },
      "source": [
        "(4+5+20)/3.0"
      ],
      "execution_count": null,
      "outputs": [
        {
          "output_type": "execute_result",
          "data": {
            "text/plain": [
              "9.666666666666666"
            ]
          },
          "metadata": {
            "tags": []
          },
          "execution_count": 30
        }
      ]
    },
    {
      "cell_type": "markdown",
      "metadata": {
        "id": "4DR1m52JajAV",
        "colab_type": "text"
      },
      "source": [
        "# A Python class"
      ]
    },
    {
      "cell_type": "code",
      "metadata": {
        "id": "YPSdB2WPafm-",
        "colab_type": "code",
        "colab": {
          "base_uri": "https://localhost:8080/",
          "height": 34
        },
        "outputId": "642135a1-c3ea-4061-d841-43d65845de5e"
      },
      "source": [
        "class MyList():\n",
        "    def __init__(self, in_list):\n",
        "    \t  # Data members (attributes)\n",
        "        self._list = in_list\n",
        "\n",
        "\t  # Member functions (methods)\n",
        "    def calculate_mean(self):\n",
        "    \t\t# Here we use the independent function \n",
        "    \t\t# calc_mean() provided earlier\n",
        "        return calc_mean(self._list)\n",
        "\n",
        "scores = MyList([4, 5, 10])\n",
        "scores.calculate_mean()\n"
      ],
      "execution_count": null,
      "outputs": [
        {
          "output_type": "stream",
          "text": [
            "6.333333333333333\n"
          ],
          "name": "stdout"
        }
      ]
    },
    {
      "cell_type": "code",
      "metadata": {
        "id": "Af4ZkRDCjab_",
        "colab_type": "code",
        "colab": {}
      },
      "source": [
        "class Person():\n",
        "  def __init__(self, first_name, last_name, yob):\n",
        "    # Data members (attributes)\n",
        "    self._first_name = first_name\n",
        "    self._last_name = last_name  \n",
        "    self._yob = yob\n",
        "\n",
        "  # accessors / getters  \n",
        "  def get_name(self):\n",
        "    return self._last_name + \" \" + self._first_name\n",
        "  # mutators / setters\n",
        "  def set_first_name(fname):\n",
        "    self._first_name = fname  \n",
        "  \n",
        "  def set_last_name(lname):\n",
        "    self._last_name = lname  "
      ],
      "execution_count": null,
      "outputs": []
    },
    {
      "cell_type": "code",
      "metadata": {
        "id": "-axpB6V4mKdP",
        "colab_type": "code",
        "colab": {
          "base_uri": "https://localhost:8080/",
          "height": 34
        },
        "outputId": "b63cbd2f-1ad1-485c-b264-c452ae71949c"
      },
      "source": [
        "ha = Person(\"Ha\", \"Nguyen\", 1962)\n",
        "print(\"Ha's full name is: %s\" % ha.get_name())"
      ],
      "execution_count": null,
      "outputs": [
        {
          "output_type": "stream",
          "text": [
            "Ha's full name is: Nguyen Ha\n"
          ],
          "name": "stdout"
        }
      ]
    },
    {
      "cell_type": "code",
      "metadata": {
        "id": "uFr7Xg2-mryJ",
        "colab_type": "code",
        "colab": {}
      },
      "source": [
        "class AmericanPerson(Person):\n",
        "  # accessors / getters  \n",
        "  def get_name(self):\n",
        "    return self._first_name + \" \" + self._last_name \n"
      ],
      "execution_count": null,
      "outputs": []
    },
    {
      "cell_type": "code",
      "metadata": {
        "id": "SeDnFxEwseA7",
        "colab_type": "code",
        "colab": {
          "base_uri": "https://localhost:8080/",
          "height": 34
        },
        "outputId": "22f81150-356e-4501-e7d9-371b75c62e8a"
      },
      "source": [
        "tom = Person(\"Tom\", \"Cruise\", 1962)\n",
        "print(\"Tom's full name is: %s\" % tom.get_name())"
      ],
      "execution_count": null,
      "outputs": [
        {
          "output_type": "stream",
          "text": [
            "Tom's full name is: Cruise Tom\n"
          ],
          "name": "stdout"
        }
      ]
    },
    {
      "cell_type": "code",
      "metadata": {
        "id": "_vEL9X1Am64X",
        "colab_type": "code",
        "colab": {
          "base_uri": "https://localhost:8080/",
          "height": 34
        },
        "outputId": "8f8dec8f-ff9e-40f0-dc0f-b6ded336859f"
      },
      "source": [
        "tom = AmericanPerson(\"Tom\", \"Cruise\", 1962)\n",
        "print(\"Tom's full name is: %s\" % tom.get_name())"
      ],
      "execution_count": null,
      "outputs": [
        {
          "output_type": "stream",
          "text": [
            "Tom's full name is: Tom Cruise\n"
          ],
          "name": "stdout"
        }
      ]
    },
    {
      "cell_type": "markdown",
      "metadata": {
        "id": "qrmVjyydkAEL",
        "colab_type": "text"
      },
      "source": [
        "# Use Python as a Calculator"
      ]
    },
    {
      "cell_type": "code",
      "metadata": {
        "id": "8PhM2ApakHuK",
        "colab_type": "code",
        "colab": {
          "base_uri": "https://localhost:8080/",
          "height": 34
        },
        "outputId": "e1dbb4ef-a5da-4350-f686-266d7d21df22"
      },
      "source": [
        "1 + 3"
      ],
      "execution_count": null,
      "outputs": [
        {
          "output_type": "execute_result",
          "data": {
            "text/plain": [
              "4"
            ]
          },
          "metadata": {
            "tags": []
          },
          "execution_count": 1
        }
      ]
    },
    {
      "cell_type": "code",
      "metadata": {
        "id": "xlQNxm_xCrof",
        "colab_type": "code",
        "colab": {}
      },
      "source": [
        "from scipy import stats\n",
        "import numpy as np"
      ],
      "execution_count": null,
      "outputs": []
    },
    {
      "cell_type": "code",
      "metadata": {
        "id": "kGaGaM75CxMC",
        "colab_type": "code",
        "colab": {}
      },
      "source": [
        "a = [1, 2, 2, 2, 3]"
      ],
      "execution_count": null,
      "outputs": []
    },
    {
      "cell_type": "code",
      "metadata": {
        "id": "-mz3mdj-x_w5",
        "colab_type": "code",
        "colab": {
          "base_uri": "https://localhost:8080/",
          "height": 34
        },
        "outputId": "e08c44fb-5149-488a-a238-72f47baad577"
      },
      "source": [
        "print(a)"
      ],
      "execution_count": null,
      "outputs": [
        {
          "output_type": "stream",
          "text": [
            "[1, 2, 2, 2, 3]\n"
          ],
          "name": "stdout"
        }
      ]
    },
    {
      "cell_type": "code",
      "metadata": {
        "id": "q1yF8_rpC0Ys",
        "colab_type": "code",
        "colab": {
          "base_uri": "https://localhost:8080/",
          "height": 34
        },
        "outputId": "f7acb89f-aaf6-42b8-90a0-ce13886fc736"
      },
      "source": [
        "stats.mode(a)"
      ],
      "execution_count": null,
      "outputs": [
        {
          "output_type": "execute_result",
          "data": {
            "text/plain": [
              "ModeResult(mode=array([2]), count=array([3]))"
            ]
          },
          "metadata": {
            "tags": []
          },
          "execution_count": 5
        }
      ]
    },
    {
      "cell_type": "code",
      "metadata": {
        "id": "Mq2c0ctUyMJd",
        "colab_type": "code",
        "colab": {}
      },
      "source": [
        "s = 0 \n",
        "for e in a:\n",
        "  s += e\n",
        "\n",
        "mean = s / len(a)  "
      ],
      "execution_count": null,
      "outputs": []
    },
    {
      "cell_type": "code",
      "metadata": {
        "id": "XLspIBFiyt8G",
        "colab_type": "code",
        "colab": {
          "base_uri": "https://localhost:8080/",
          "height": 34
        },
        "outputId": "58e2a008-c6da-43d9-8935-7f025386bcf6"
      },
      "source": [
        "mean"
      ],
      "execution_count": null,
      "outputs": [
        {
          "output_type": "execute_result",
          "data": {
            "text/plain": [
              "2.0"
            ]
          },
          "metadata": {
            "tags": []
          },
          "execution_count": 7
        }
      ]
    },
    {
      "cell_type": "code",
      "metadata": {
        "id": "Qh9p8S-jyx_H",
        "colab_type": "code",
        "colab": {
          "base_uri": "https://localhost:8080/",
          "height": 34
        },
        "outputId": "78981fc7-869c-4ef2-d10c-742af7004c96"
      },
      "source": [
        "np.mean(a)"
      ],
      "execution_count": null,
      "outputs": [
        {
          "output_type": "execute_result",
          "data": {
            "text/plain": [
              "2.0"
            ]
          },
          "metadata": {
            "tags": []
          },
          "execution_count": 8
        }
      ]
    },
    {
      "cell_type": "code",
      "metadata": {
        "id": "qWytZa5oy6WV",
        "colab_type": "code",
        "colab": {
          "base_uri": "https://localhost:8080/",
          "height": 34
        },
        "outputId": "4067fde3-75ad-4bdf-be07-46c04c2986da"
      },
      "source": [
        "import statistics\n",
        "statistics.median(a)"
      ],
      "execution_count": null,
      "outputs": [
        {
          "output_type": "execute_result",
          "data": {
            "text/plain": [
              "2"
            ]
          },
          "metadata": {
            "tags": []
          },
          "execution_count": 12
        }
      ]
    },
    {
      "cell_type": "code",
      "metadata": {
        "id": "AyPZHnCYkcv3",
        "colab_type": "code",
        "colab": {
          "base_uri": "https://localhost:8080/",
          "height": 34
        },
        "outputId": "65d21a37-a309-4084-fe1f-14b21c99a29f"
      },
      "source": [
        "(10 + 5) * 3"
      ],
      "execution_count": null,
      "outputs": [
        {
          "output_type": "execute_result",
          "data": {
            "text/plain": [
              "45"
            ]
          },
          "metadata": {
            "tags": []
          },
          "execution_count": 9
        }
      ]
    },
    {
      "cell_type": "code",
      "metadata": {
        "id": "RlLS8Ypckcoy",
        "colab_type": "code",
        "colab": {
          "base_uri": "https://localhost:8080/",
          "height": 34
        },
        "outputId": "d1957ba0-6d54-453b-e869-6c0eb8561a4a"
      },
      "source": [
        "15 / 9"
      ],
      "execution_count": null,
      "outputs": [
        {
          "output_type": "execute_result",
          "data": {
            "text/plain": [
              "1.6666666666666667"
            ]
          },
          "metadata": {
            "tags": []
          },
          "execution_count": 4
        }
      ]
    },
    {
      "cell_type": "markdown",
      "metadata": {
        "id": "xXDKULl9TngM",
        "colab_type": "text"
      },
      "source": [
        "Equality Operators"
      ]
    },
    {
      "cell_type": "code",
      "metadata": {
        "id": "MvDQ1FzKeBpM",
        "colab_type": "code",
        "colab": {}
      },
      "source": [
        "a = 1000"
      ],
      "execution_count": null,
      "outputs": []
    },
    {
      "cell_type": "code",
      "metadata": {
        "id": "39A11UnEeE82",
        "colab_type": "code",
        "colab": {}
      },
      "source": [
        "b = 1000"
      ],
      "execution_count": null,
      "outputs": []
    },
    {
      "cell_type": "code",
      "metadata": {
        "id": "92Y66jc7eGZz",
        "colab_type": "code",
        "colab": {
          "base_uri": "https://localhost:8080/",
          "height": 34
        },
        "outputId": "caddf811-0333-4ab9-a712-02f6ae19f740"
      },
      "source": [
        "a == b"
      ],
      "execution_count": null,
      "outputs": [
        {
          "output_type": "execute_result",
          "data": {
            "text/plain": [
              "True"
            ]
          },
          "metadata": {
            "tags": []
          },
          "execution_count": 20
        }
      ]
    },
    {
      "cell_type": "code",
      "metadata": {
        "id": "bGfHWiVSGnFE",
        "colab_type": "code",
        "colab": {
          "base_uri": "https://localhost:8080/",
          "height": 34
        },
        "outputId": "aed81baa-8cbe-4730-a2d2-934ce3f11047"
      },
      "source": [
        "a is b"
      ],
      "execution_count": null,
      "outputs": [
        {
          "output_type": "execute_result",
          "data": {
            "text/plain": [
              "False"
            ]
          },
          "metadata": {
            "tags": []
          },
          "execution_count": 21
        }
      ]
    },
    {
      "cell_type": "code",
      "metadata": {
        "id": "DOhiBhDxGtVv",
        "colab_type": "code",
        "colab": {}
      },
      "source": [
        "b = 1500"
      ],
      "execution_count": null,
      "outputs": []
    },
    {
      "cell_type": "code",
      "metadata": {
        "id": "JrXi_BP5GzJ9",
        "colab_type": "code",
        "colab": {}
      },
      "source": [
        "c = b"
      ],
      "execution_count": null,
      "outputs": []
    },
    {
      "cell_type": "code",
      "metadata": {
        "id": "LTn1IbA1G04P",
        "colab_type": "code",
        "colab": {
          "base_uri": "https://localhost:8080/",
          "height": 34
        },
        "outputId": "6d953ab0-120b-4d2d-c92e-a20231caa666"
      },
      "source": [
        "b == c"
      ],
      "execution_count": null,
      "outputs": [
        {
          "output_type": "execute_result",
          "data": {
            "text/plain": [
              "True"
            ]
          },
          "metadata": {
            "tags": []
          },
          "execution_count": 24
        }
      ]
    },
    {
      "cell_type": "code",
      "metadata": {
        "id": "Fk-nXfVBG6Sk",
        "colab_type": "code",
        "colab": {
          "base_uri": "https://localhost:8080/",
          "height": 34
        },
        "outputId": "3cef53e2-335d-46a7-8410-e526ebb5f438"
      },
      "source": [
        "b is c"
      ],
      "execution_count": null,
      "outputs": [
        {
          "output_type": "execute_result",
          "data": {
            "text/plain": [
              "True"
            ]
          },
          "metadata": {
            "tags": []
          },
          "execution_count": 25
        }
      ]
    },
    {
      "cell_type": "code",
      "metadata": {
        "id": "qqUtcuXWeQkt",
        "colab_type": "code",
        "colab": {
          "base_uri": "https://localhost:8080/",
          "height": 34
        },
        "outputId": "f72d6415-0feb-4e58-b7e8-23023a2f3165"
      },
      "source": [
        "c = 257\n",
        "d = 257\n",
        "c is d"
      ],
      "execution_count": null,
      "outputs": [
        {
          "output_type": "execute_result",
          "data": {
            "text/plain": [
              "False"
            ]
          },
          "metadata": {
            "tags": []
          },
          "execution_count": 29
        }
      ]
    },
    {
      "cell_type": "code",
      "metadata": {
        "id": "r1S5MahQeTu5",
        "colab_type": "code",
        "colab": {}
      },
      "source": [
        "d = 10"
      ],
      "execution_count": null,
      "outputs": []
    },
    {
      "cell_type": "code",
      "metadata": {
        "id": "z2dB2uQDeVcu",
        "colab_type": "code",
        "colab": {
          "base_uri": "https://localhost:8080/",
          "height": 34
        },
        "outputId": "430e4fa1-9954-4a64-caa4-69cf9c3fe319"
      },
      "source": [
        "c is d"
      ],
      "execution_count": null,
      "outputs": [
        {
          "output_type": "execute_result",
          "data": {
            "text/plain": [
              "True"
            ]
          },
          "metadata": {
            "tags": []
          },
          "execution_count": 11
        }
      ]
    },
    {
      "cell_type": "code",
      "metadata": {
        "id": "TxdUID4DeKLM",
        "colab_type": "code",
        "colab": {
          "base_uri": "https://localhost:8080/",
          "height": 34
        },
        "outputId": "b368540c-1c31-43de-f698-45b6a0527043"
      },
      "source": [
        "a is b"
      ],
      "execution_count": null,
      "outputs": [
        {
          "output_type": "execute_result",
          "data": {
            "text/plain": [
              "False"
            ]
          },
          "metadata": {
            "tags": []
          },
          "execution_count": 8
        }
      ]
    },
    {
      "cell_type": "code",
      "metadata": {
        "id": "7UwzD2nSkcf3",
        "colab_type": "code",
        "colab": {
          "base_uri": "https://localhost:8080/",
          "height": 34
        },
        "outputId": "9ae2efa3-69b8-4987-9f23-d1493d3b1f7c"
      },
      "source": [
        "2**3"
      ],
      "execution_count": null,
      "outputs": [
        {
          "output_type": "execute_result",
          "data": {
            "text/plain": [
              "8"
            ]
          },
          "metadata": {
            "tags": []
          },
          "execution_count": 5
        }
      ]
    },
    {
      "cell_type": "code",
      "metadata": {
        "id": "7CCOQR_DIw1L",
        "colab_type": "code",
        "colab": {
          "base_uri": "https://localhost:8080/",
          "height": 85
        },
        "outputId": "3a3fe3c3-e5ca-4bb8-9fb5-f5d5a2fca722"
      },
      "source": [
        "my_list = [\"Kien\", \"Vinh\", \"Trung\", \"Huy\"]\n",
        "for name in my_list:\n",
        "  print(\"%s is a great guy!\" % name)"
      ],
      "execution_count": null,
      "outputs": [
        {
          "output_type": "stream",
          "text": [
            "Kien is a great guy!\n",
            "Vinh is a great guy!\n",
            "Trung is a great guy!\n",
            "Huy is a great guy!\n"
          ],
          "name": "stdout"
        }
      ]
    },
    {
      "cell_type": "code",
      "metadata": {
        "id": "OEB3m_l0JM78",
        "colab_type": "code",
        "colab": {}
      },
      "source": [
        "my_class = {\"Kien\": 7, \"Vinh\": 9, \"Trung\": 10, \"Huy\": 7}"
      ],
      "execution_count": null,
      "outputs": []
    },
    {
      "cell_type": "code",
      "metadata": {
        "id": "C3zYmT9LJb5B",
        "colab_type": "code",
        "colab": {
          "base_uri": "https://localhost:8080/",
          "height": 34
        },
        "outputId": "008fb38d-bc11-4e88-8530-f06cc0cf9203"
      },
      "source": [
        "my_class[\"Kien\"]"
      ],
      "execution_count": null,
      "outputs": [
        {
          "output_type": "execute_result",
          "data": {
            "text/plain": [
              "7"
            ]
          },
          "metadata": {
            "tags": []
          },
          "execution_count": 32
        }
      ]
    },
    {
      "cell_type": "markdown",
      "metadata": {
        "id": "ibeHylnSmH-Y",
        "colab_type": "text"
      },
      "source": [
        "### Practice\n",
        "* $(50-5*6)/4$\n",
        "* $\\frac{1+\\sqrt{5}}{2}$\n"
      ]
    },
    {
      "cell_type": "code",
      "metadata": {
        "id": "ylurYnRukbkZ",
        "colab_type": "code",
        "colab": {
          "base_uri": "https://localhost:8080/",
          "height": 34
        },
        "outputId": "f1c89d19-701b-4700-dc2d-bc35e68d2f29"
      },
      "source": [
        "## YOUR CODE HERE ##\n",
        "(50 - 5*6)/4\n",
        "## YOUR CODE HERE ##"
      ],
      "execution_count": null,
      "outputs": [
        {
          "output_type": "execute_result",
          "data": {
            "text/plain": [
              "5.0"
            ]
          },
          "metadata": {
            "tags": []
          },
          "execution_count": 2
        }
      ]
    },
    {
      "cell_type": "code",
      "metadata": {
        "id": "rKWMODCIm0dr",
        "colab_type": "code",
        "colab": {
          "base_uri": "https://localhost:8080/",
          "height": 34
        },
        "outputId": "95e7bddb-3f88-4700-dea1-fd649490f889"
      },
      "source": [
        "## YOUR CODE HERE ##\n",
        "(1+5**(1/2))/2\n",
        "#/2# YOUR CODE HERE ##"
      ],
      "execution_count": null,
      "outputs": [
        {
          "output_type": "execute_result",
          "data": {
            "text/plain": [
              "1.618033988749895"
            ]
          },
          "metadata": {
            "tags": []
          },
          "execution_count": 4
        }
      ]
    },
    {
      "cell_type": "markdown",
      "metadata": {
        "id": "DMqFgWm4m8aD",
        "colab_type": "text"
      },
      "source": [
        "You can define variables using the equals (=) sign:"
      ]
    },
    {
      "cell_type": "code",
      "metadata": {
        "id": "dmHqOT5mm8Ci",
        "colab_type": "code",
        "colab": {}
      },
      "source": [
        "radius = 5\n",
        "pi = 3.14\n",
        "area = radius * radius * pi"
      ],
      "execution_count": null,
      "outputs": []
    },
    {
      "cell_type": "code",
      "metadata": {
        "id": "lgZktYELnJXp",
        "colab_type": "code",
        "colab": {
          "base_uri": "https://localhost:8080/",
          "height": 34
        },
        "outputId": "a46bdb66-f67f-4c29-f91c-9e18c2f20150"
      },
      "source": [
        "area"
      ],
      "execution_count": null,
      "outputs": [
        {
          "output_type": "execute_result",
          "data": {
            "text/plain": [
              "78.5"
            ]
          },
          "metadata": {
            "tags": []
          },
          "execution_count": 9
        }
      ]
    },
    {
      "cell_type": "markdown",
      "metadata": {
        "id": "r4QCmwEmnOcV",
        "colab_type": "text"
      },
      "source": [
        "### Practice\n",
        "* Define a variable side = 5\n",
        "* Calculate the area of square of that side and assign to variable area_of_square\n",
        "* Display the result"
      ]
    },
    {
      "cell_type": "code",
      "metadata": {
        "id": "cN5s5MkhnyxB",
        "colab_type": "code",
        "colab": {
          "base_uri": "https://localhost:8080/",
          "height": 34
        },
        "outputId": "d27c3d8a-50ed-4d86-d720-c49d045cc8b8"
      },
      "source": [
        "## YOUR CODE HERE ##\n",
        "side = 5\n",
        "area_of_square = side * side\n",
        "print(area_of_square)\n",
        "## YOUR CODE HERE ##"
      ],
      "execution_count": null,
      "outputs": [
        {
          "output_type": "stream",
          "text": [
            "25\n"
          ],
          "name": "stdout"
        }
      ]
    },
    {
      "cell_type": "markdown",
      "metadata": {
        "id": "HZLkwyhjkdMz",
        "colab_type": "text"
      },
      "source": [
        "# Basic data types"
      ]
    },
    {
      "cell_type": "markdown",
      "metadata": {
        "id": "-Hdb-imnKuPx",
        "colab_type": "text"
      },
      "source": [
        "### Number"
      ]
    },
    {
      "cell_type": "markdown",
      "metadata": {
        "id": "2ERWI3TrK0Dp",
        "colab_type": "text"
      },
      "source": [
        "#### Integer"
      ]
    },
    {
      "cell_type": "code",
      "metadata": {
        "id": "A7Hg09Ydkh-h",
        "colab_type": "code",
        "colab": {
          "base_uri": "https://localhost:8080/",
          "height": 34
        },
        "outputId": "1bab23e2-2267-4db2-8db4-ba9084fe9ced"
      },
      "source": [
        "my_int = 5\n",
        "print(my_int)"
      ],
      "execution_count": null,
      "outputs": [
        {
          "output_type": "stream",
          "text": [
            "5\n"
          ],
          "name": "stdout"
        }
      ]
    },
    {
      "cell_type": "markdown",
      "metadata": {
        "id": "ifeUs7xiKym8",
        "colab_type": "text"
      },
      "source": [
        "#### Float"
      ]
    },
    {
      "cell_type": "code",
      "metadata": {
        "id": "DN_EvLbkK8_x",
        "colab_type": "code",
        "colab": {
          "base_uri": "https://localhost:8080/",
          "height": 34
        },
        "outputId": "844b8876-a3fe-4f7e-c8c3-222b6b8fc022"
      },
      "source": [
        "my_float = 6.7\n",
        "print(my_float)"
      ],
      "execution_count": null,
      "outputs": [
        {
          "output_type": "stream",
          "text": [
            "6.7\n"
          ],
          "name": "stdout"
        }
      ]
    },
    {
      "cell_type": "markdown",
      "metadata": {
        "id": "xFesKXTGLz1T",
        "colab_type": "text"
      },
      "source": [
        "The normal division (/) of int return float"
      ]
    },
    {
      "cell_type": "code",
      "metadata": {
        "id": "yYthEGQCLvWM",
        "colab_type": "code",
        "colab": {
          "base_uri": "https://localhost:8080/",
          "height": 52
        },
        "outputId": "57381284-cd63-49db-cb15-3d1071647299"
      },
      "source": [
        "print(1/2)\n",
        "print(1//2)"
      ],
      "execution_count": null,
      "outputs": [
        {
          "output_type": "stream",
          "text": [
            "0.5\n",
            "0\n"
          ],
          "name": "stdout"
        }
      ]
    },
    {
      "cell_type": "markdown",
      "metadata": {
        "id": "1kv-Lr9lLByT",
        "colab_type": "text"
      },
      "source": [
        "#### Converting"
      ]
    },
    {
      "cell_type": "code",
      "metadata": {
        "id": "G-xBoC0MLI36",
        "colab_type": "code",
        "colab": {
          "base_uri": "https://localhost:8080/",
          "height": 52
        },
        "outputId": "e1ca8390-33e7-4446-873f-264b402bf588"
      },
      "source": [
        "new_int = int(2**0.5)\n",
        "new_float = float(10)\n",
        "print(new_int)\n",
        "print(new_float)"
      ],
      "execution_count": null,
      "outputs": [
        {
          "output_type": "stream",
          "text": [
            "1\n",
            "10.0\n"
          ],
          "name": "stdout"
        }
      ]
    },
    {
      "cell_type": "markdown",
      "metadata": {
        "id": "A2-PnXofoCWr",
        "colab_type": "text"
      },
      "source": [
        "### String\n",
        "\n",
        "In Python, the string can be defined using either single quotes or or double quotes"
      ]
    },
    {
      "cell_type": "code",
      "metadata": {
        "id": "8NjMKo0dkh7n",
        "colab_type": "code",
        "colab": {}
      },
      "source": [
        "s1 = 'Hello, World!'\n",
        "s2 = \"Hello, World!\"\n",
        "s3 = \"I'm programmer\"\n",
        "s4 = 'She asked, \"How are you today?\"'"
      ],
      "execution_count": null,
      "outputs": []
    },
    {
      "cell_type": "markdown",
      "metadata": {
        "id": "jl9hHSRCop6j",
        "colab_type": "text"
      },
      "source": [
        "Concatenate the string by operator +"
      ]
    },
    {
      "cell_type": "code",
      "metadata": {
        "id": "7TtAQ7jbo2xM",
        "colab_type": "code",
        "colab": {
          "base_uri": "https://localhost:8080/",
          "height": 34
        },
        "outputId": "eaed4c07-f3bb-4ea9-bbf2-ff86eda34b7f"
      },
      "source": [
        "'Hello, ' + 'World!'"
      ],
      "execution_count": null,
      "outputs": [
        {
          "output_type": "execute_result",
          "data": {
            "text/plain": [
              "'Hello, World!'"
            ]
          },
          "metadata": {
            "tags": []
          },
          "execution_count": 14
        }
      ]
    },
    {
      "cell_type": "code",
      "metadata": {
        "id": "QXtCYpLxkh5P",
        "colab_type": "code",
        "colab": {
          "base_uri": "https://localhost:8080/",
          "height": 34
        },
        "outputId": "27543c7d-886c-400d-aeb3-6db10115c937"
      },
      "source": [
        "s1 + s3"
      ],
      "execution_count": null,
      "outputs": [
        {
          "output_type": "execute_result",
          "data": {
            "text/plain": [
              "\"Hello, World!I'm programmer\""
            ]
          },
          "metadata": {
            "tags": []
          },
          "execution_count": 13
        }
      ]
    },
    {
      "cell_type": "code",
      "metadata": {
        "id": "M5Sx6ajwkh2f",
        "colab_type": "code",
        "colab": {}
      },
      "source": [
        "# The below code returns error\n",
        "# 'The area is ' + area"
      ],
      "execution_count": null,
      "outputs": []
    },
    {
      "cell_type": "code",
      "metadata": {
        "id": "pH889KzGkhz0",
        "colab_type": "code",
        "colab": {
          "base_uri": "https://localhost:8080/",
          "height": 34
        },
        "outputId": "2d1a9dd2-ed88-4a00-86fa-c6e8719747c2"
      },
      "source": [
        "'The area is ' + str(area)"
      ],
      "execution_count": null,
      "outputs": [
        {
          "output_type": "execute_result",
          "data": {
            "text/plain": [
              "'The area is 78.5'"
            ]
          },
          "metadata": {
            "tags": []
          },
          "execution_count": 17
        }
      ]
    },
    {
      "cell_type": "markdown",
      "metadata": {
        "id": "mZXDHSwxQ3k6",
        "colab_type": "text"
      },
      "source": [
        "### List\n",
        "\n"
      ]
    },
    {
      "cell_type": "markdown",
      "metadata": {
        "id": "19W0sAwHOXeC",
        "colab_type": "text"
      },
      "source": [
        "In Python, list is a type of container in Data Structures, which is used to store multiple data at the same time. The data in list is ordered and "
      ]
    },
    {
      "cell_type": "code",
      "metadata": {
        "id": "PdYctHXoOMs7",
        "colab_type": "code",
        "colab": {}
      },
      "source": [
        "my_empty_list = []\n",
        "list_of_ints = [1, 2, 6, 7]\n",
        "list_of_misc = [0.2, 5, 'Python', 'is', 'still fun', '!']"
      ],
      "execution_count": null,
      "outputs": []
    },
    {
      "cell_type": "code",
      "metadata": {
        "id": "4DI4zneYQFY5",
        "colab_type": "code",
        "colab": {
          "base_uri": "https://localhost:8080/",
          "height": 34
        },
        "outputId": "d9d01790-01f4-42f4-d6ff-b9cebe828ce3"
      },
      "source": [
        "list_of_ints"
      ],
      "execution_count": null,
      "outputs": [
        {
          "output_type": "execute_result",
          "data": {
            "text/plain": [
              "[1, 2, 6, 7]"
            ]
          },
          "metadata": {
            "tags": []
          },
          "execution_count": 12
        }
      ]
    },
    {
      "cell_type": "markdown",
      "metadata": {
        "id": "DvQHeRKzP_t3",
        "colab_type": "text"
      },
      "source": [
        "#### Length of a list"
      ]
    },
    {
      "cell_type": "code",
      "metadata": {
        "id": "Kd7yX-zFQEP1",
        "colab_type": "code",
        "colab": {
          "base_uri": "https://localhost:8080/",
          "height": 34
        },
        "outputId": "c1504e4d-e46c-4c5a-ae99-2d25cd14941f"
      },
      "source": [
        "len(my_empty_list)"
      ],
      "execution_count": null,
      "outputs": [
        {
          "output_type": "execute_result",
          "data": {
            "text/plain": [
              "0"
            ]
          },
          "metadata": {
            "tags": []
          },
          "execution_count": 13
        }
      ]
    },
    {
      "cell_type": "code",
      "metadata": {
        "id": "s-vF2iOjQKmf",
        "colab_type": "code",
        "colab": {
          "base_uri": "https://localhost:8080/",
          "height": 34
        },
        "outputId": "4c3542ba-91f9-4d66-b7ca-a7877d5e30f6"
      },
      "source": [
        "len(list_of_misc)"
      ],
      "execution_count": null,
      "outputs": [
        {
          "output_type": "execute_result",
          "data": {
            "text/plain": [
              "6"
            ]
          },
          "metadata": {
            "tags": []
          },
          "execution_count": 14
        }
      ]
    },
    {
      "cell_type": "markdown",
      "metadata": {
        "id": "-DFLrG0pQOUb",
        "colab_type": "text"
      },
      "source": [
        "#### Accessing the items"
      ]
    },
    {
      "cell_type": "code",
      "metadata": {
        "id": "mPxssKtLQRM1",
        "colab_type": "code",
        "colab": {
          "base_uri": "https://localhost:8080/",
          "height": 51
        },
        "outputId": "c345ea27-9c3e-407f-d46d-294c7fa0d349"
      },
      "source": [
        "print(list_of_ints[0])\n",
        "print(list_of_ints[3])"
      ],
      "execution_count": null,
      "outputs": [
        {
          "output_type": "stream",
          "text": [
            "1\n",
            "7\n"
          ],
          "name": "stdout"
        }
      ]
    },
    {
      "cell_type": "markdown",
      "metadata": {
        "id": "2vxsW3egQpSX",
        "colab_type": "text"
      },
      "source": [
        "#### Updating the values"
      ]
    },
    {
      "cell_type": "code",
      "metadata": {
        "id": "A1u4ycDfQogf",
        "colab_type": "code",
        "colab": {
          "base_uri": "https://localhost:8080/",
          "height": 68
        },
        "outputId": "69315c99-dcb8-45a7-eddd-09b3717df092"
      },
      "source": [
        "my_list = [0, 1, 2, 3, 4, 5]\n",
        "print('Original list,  my_list:', my_list)\n",
        "my_list[0] = 99\n",
        "print('After updating, my_list:', my_list)\n",
        "del my_list[-1]\n",
        "print('After deleting, my_list:', my_list)"
      ],
      "execution_count": null,
      "outputs": [
        {
          "output_type": "stream",
          "text": [
            "Original list,  my_list: [0, 1, 2, 3, 4, 5]\n",
            "After updating, my_list: [99, 1, 2, 3, 4, 5]\n",
            "After deleting, my_list: [99, 1, 2, 3, 4]\n"
          ],
          "name": "stdout"
        }
      ]
    },
    {
      "cell_type": "markdown",
      "metadata": {
        "id": "YPGLTl3oRVPN",
        "colab_type": "text"
      },
      "source": [
        "#### Checking if certain value is present in list"
      ]
    },
    {
      "cell_type": "code",
      "metadata": {
        "id": "_tDEigjqRWrN",
        "colab_type": "code",
        "colab": {
          "base_uri": "https://localhost:8080/",
          "height": 34
        },
        "outputId": "36a38f3b-9a24-4f7a-a77c-db8b77ccccbd"
      },
      "source": [
        "key = 100\n",
        "\n",
        "if key in my_list:\n",
        "    print(key, 'in my_list')\n",
        "else:\n",
        "    print(key, 'not in my_list')"
      ],
      "execution_count": null,
      "outputs": [
        {
          "output_type": "stream",
          "text": [
            "100 not in my_list\n"
          ],
          "name": "stdout"
        }
      ]
    },
    {
      "cell_type": "markdown",
      "metadata": {
        "id": "Y5uh8RUIR1CM",
        "colab_type": "text"
      },
      "source": [
        "#### Append to the list"
      ]
    },
    {
      "cell_type": "code",
      "metadata": {
        "id": "tWgzkW4NR3nF",
        "colab_type": "code",
        "colab": {
          "base_uri": "https://localhost:8080/",
          "height": 34
        },
        "outputId": "235ad05d-6b35-417d-ceac-95405459b477"
      },
      "source": [
        "my_list = [1]\n",
        "my_list.append('ham')\n",
        "print(my_list)"
      ],
      "execution_count": null,
      "outputs": [
        {
          "output_type": "stream",
          "text": [
            "[1, 'ham']\n"
          ],
          "name": "stdout"
        }
      ]
    },
    {
      "cell_type": "markdown",
      "metadata": {
        "id": "-mrWBac4R5Yz",
        "colab_type": "text"
      },
      "source": [
        "#### Remove an item from list"
      ]
    },
    {
      "cell_type": "code",
      "metadata": {
        "id": "EkVTFbztR560",
        "colab_type": "code",
        "colab": {
          "base_uri": "https://localhost:8080/",
          "height": 51
        },
        "outputId": "8c9fe6f2-8c8a-45f7-a5de-471d16a53c2c"
      },
      "source": [
        "my_list = ['Python', 'is', 'sometimes', 'fun']\n",
        "my_list.remove('sometimes')\n",
        "print(my_list)\n",
        "\n",
        "# If you are not sure that the value is in list, better to check first:\n",
        "if 'Java' in my_list:\n",
        "    my_list.remove('Java')\n",
        "else:\n",
        "    print('Java is not part of this story.')"
      ],
      "execution_count": null,
      "outputs": [
        {
          "output_type": "stream",
          "text": [
            "['Python', 'is', 'fun']\n",
            "Java is not part of this story.\n"
          ],
          "name": "stdout"
        }
      ]
    },
    {
      "cell_type": "markdown",
      "metadata": {
        "id": "dMSjO_hLShCx",
        "colab_type": "text"
      },
      "source": [
        "#### Sort the list"
      ]
    },
    {
      "cell_type": "code",
      "metadata": {
        "id": "I7DT2mwpSgfF",
        "colab_type": "code",
        "colab": {
          "base_uri": "https://localhost:8080/",
          "height": 34
        },
        "outputId": "bb8c86b5-1a38-4e9b-e116-7f2be2015fbd"
      },
      "source": [
        "numbers = [8, 1, 6, 5, 10]\n",
        "numbers.sort() # Modified the original list\n",
        "print(numbers)"
      ],
      "execution_count": null,
      "outputs": [
        {
          "output_type": "stream",
          "text": [
            "[1, 5, 6, 8, 10]\n"
          ],
          "name": "stdout"
        }
      ]
    },
    {
      "cell_type": "code",
      "metadata": {
        "id": "Qus8U-WMSnEf",
        "colab_type": "code",
        "colab": {
          "base_uri": "https://localhost:8080/",
          "height": 51
        },
        "outputId": "61a913b8-c15c-4297-e7b9-99361cb7e9c1"
      },
      "source": [
        "numbers = [8, 1, 6, 5, 10]\n",
        "print(sorted(numbers)) # Do not modify the original list\n",
        "print(numbers)"
      ],
      "execution_count": null,
      "outputs": [
        {
          "output_type": "stream",
          "text": [
            "[1, 5, 6, 8, 10]\n",
            "[8, 1, 6, 5, 10]\n"
          ],
          "name": "stdout"
        }
      ]
    },
    {
      "cell_type": "code",
      "metadata": {
        "id": "r9NgAtkh7HvG",
        "colab_type": "code",
        "colab": {}
      },
      "source": [
        "num_list = [1, 3, 4, 5]"
      ],
      "execution_count": null,
      "outputs": []
    },
    {
      "cell_type": "code",
      "metadata": {
        "id": "S1zjO-4z7PS5",
        "colab_type": "code",
        "colab": {
          "base_uri": "https://localhost:8080/",
          "height": 35
        },
        "outputId": "42d9ccf0-ebd3-4720-9d80-de3c094732b3"
      },
      "source": [
        "new_list = []\n",
        "for num in num_list:\n",
        "  new_list.append(num*2)\n",
        "print(new_list)  "
      ],
      "execution_count": null,
      "outputs": [
        {
          "output_type": "stream",
          "text": [
            "[2, 6, 8, 10]\n"
          ],
          "name": "stdout"
        }
      ]
    },
    {
      "cell_type": "code",
      "metadata": {
        "id": "u4dOULYO7q8L",
        "colab_type": "code",
        "colab": {}
      },
      "source": [
        "new_list_2 = [2*num for num in num_list]"
      ],
      "execution_count": null,
      "outputs": []
    },
    {
      "cell_type": "code",
      "metadata": {
        "id": "QFwEjvoQ7wwl",
        "colab_type": "code",
        "colab": {
          "base_uri": "https://localhost:8080/",
          "height": 35
        },
        "outputId": "0fd2cc79-dccc-46f2-c469-9506832a99ca"
      },
      "source": [
        "new_list_2"
      ],
      "execution_count": null,
      "outputs": [
        {
          "output_type": "execute_result",
          "data": {
            "text/plain": [
              "[2, 6, 8, 10]"
            ]
          },
          "metadata": {
            "tags": []
          },
          "execution_count": 17
        }
      ]
    },
    {
      "cell_type": "markdown",
      "metadata": {
        "id": "aN7SHe0CkjBS",
        "colab_type": "text"
      },
      "source": [
        "# Conditionals"
      ]
    },
    {
      "cell_type": "markdown",
      "metadata": {
        "id": "L1tmMDq6M2ix",
        "colab_type": "text"
      },
      "source": [
        "## Boolean and Comparisons"
      ]
    },
    {
      "cell_type": "code",
      "metadata": {
        "id": "qekSqiezM15c",
        "colab_type": "code",
        "colab": {
          "base_uri": "https://localhost:8080/",
          "height": 34
        },
        "outputId": "5f4431c1-ce16-46db-b60b-a2f854da9d87"
      },
      "source": [
        "1 == 0 # Equal"
      ],
      "execution_count": null,
      "outputs": [
        {
          "output_type": "execute_result",
          "data": {
            "text/plain": [
              "False"
            ]
          },
          "metadata": {
            "tags": []
          },
          "execution_count": 22
        }
      ]
    },
    {
      "cell_type": "code",
      "metadata": {
        "id": "iXQkyTNZkl3e",
        "colab_type": "code",
        "colab": {
          "base_uri": "https://localhost:8080/",
          "height": 34
        },
        "outputId": "1b9add72-f5e0-4016-9f5e-cdfb6b00a48b"
      },
      "source": [
        "1 != 0 # Not equal"
      ],
      "execution_count": null,
      "outputs": [
        {
          "output_type": "execute_result",
          "data": {
            "text/plain": [
              "True"
            ]
          },
          "metadata": {
            "tags": []
          },
          "execution_count": 23
        }
      ]
    },
    {
      "cell_type": "code",
      "metadata": {
        "id": "Uf1ZZcIANWS7",
        "colab_type": "code",
        "colab": {
          "base_uri": "https://localhost:8080/",
          "height": 34
        },
        "outputId": "e7694fd7-980f-4649-a884-d6c8a2e23fe9"
      },
      "source": [
        "1 > 0 # Greater than"
      ],
      "execution_count": null,
      "outputs": [
        {
          "output_type": "execute_result",
          "data": {
            "text/plain": [
              "True"
            ]
          },
          "metadata": {
            "tags": []
          },
          "execution_count": 24
        }
      ]
    },
    {
      "cell_type": "code",
      "metadata": {
        "id": "nOjLS-crNWQZ",
        "colab_type": "code",
        "colab": {
          "base_uri": "https://localhost:8080/",
          "height": 34
        },
        "outputId": "15bd7395-07f9-4ff7-cbb1-f3004ee1d2e5"
      },
      "source": [
        "1 < 0 # Less than"
      ],
      "execution_count": null,
      "outputs": [
        {
          "output_type": "execute_result",
          "data": {
            "text/plain": [
              "False"
            ]
          },
          "metadata": {
            "tags": []
          },
          "execution_count": 25
        }
      ]
    },
    {
      "cell_type": "code",
      "metadata": {
        "id": "Lv0xMwhoNWNx",
        "colab_type": "code",
        "colab": {
          "base_uri": "https://localhost:8080/",
          "height": 34
        },
        "outputId": "e6ed5550-7b3f-4eac-848b-08dfab0c7ad4"
      },
      "source": [
        "1 >= 0 # Greater than or equal to"
      ],
      "execution_count": null,
      "outputs": [
        {
          "output_type": "execute_result",
          "data": {
            "text/plain": [
              "True"
            ]
          },
          "metadata": {
            "tags": []
          },
          "execution_count": 26
        }
      ]
    },
    {
      "cell_type": "code",
      "metadata": {
        "id": "i60eoO2QNWLU",
        "colab_type": "code",
        "colab": {
          "base_uri": "https://localhost:8080/",
          "height": 34
        },
        "outputId": "e752fb65-3e2f-4a9d-9b98-5276b7136694"
      },
      "source": [
        "1 <= 0 # Less than or equal to"
      ],
      "execution_count": null,
      "outputs": [
        {
          "output_type": "execute_result",
          "data": {
            "text/plain": [
              "False"
            ]
          },
          "metadata": {
            "tags": []
          },
          "execution_count": 12
        }
      ]
    },
    {
      "cell_type": "code",
      "metadata": {
        "id": "2Z2xxu3QNWIc",
        "colab_type": "code",
        "colab": {
          "base_uri": "https://localhost:8080/",
          "height": 34
        },
        "outputId": "c1a9e2e1-71e0-440a-aa4f-90d42dc886fa"
      },
      "source": [
        "1 <= 2 <= 3 # Combine"
      ],
      "execution_count": null,
      "outputs": [
        {
          "output_type": "execute_result",
          "data": {
            "text/plain": [
              "True"
            ]
          },
          "metadata": {
            "tags": []
          },
          "execution_count": 27
        }
      ]
    },
    {
      "cell_type": "markdown",
      "metadata": {
        "id": "L8ut4KkxN78o",
        "colab_type": "text"
      },
      "source": [
        "## Logical Operators"
      ]
    },
    {
      "cell_type": "code",
      "metadata": {
        "id": "3GZDWVmON7A9",
        "colab_type": "code",
        "colab": {}
      },
      "source": [
        "height = 170\n",
        "weight = 60"
      ],
      "execution_count": null,
      "outputs": []
    },
    {
      "cell_type": "code",
      "metadata": {
        "id": "NdRc7F7NNV-h",
        "colab_type": "code",
        "colab": {
          "base_uri": "https://localhost:8080/",
          "height": 34
        },
        "outputId": "0e4b8324-1673-4bc8-df71-183903475c21"
      },
      "source": [
        "# Test if height > 165 cm AND weight < 75 kg\n",
        "(height > 165) and (weight < 75)"
      ],
      "execution_count": null,
      "outputs": [
        {
          "output_type": "execute_result",
          "data": {
            "text/plain": [
              "True"
            ]
          },
          "metadata": {
            "tags": []
          },
          "execution_count": 6
        }
      ]
    },
    {
      "cell_type": "code",
      "metadata": {
        "id": "fO16ZqKjObBn",
        "colab_type": "code",
        "colab": {
          "base_uri": "https://localhost:8080/",
          "height": 34
        },
        "outputId": "90a3a75f-eca8-4de5-d0d1-98e07394fa37"
      },
      "source": [
        "# Test if height > 175 cm OR weight >= 75 kg\n",
        "(height > 175) or (weight >= 75)"
      ],
      "execution_count": null,
      "outputs": [
        {
          "output_type": "execute_result",
          "data": {
            "text/plain": [
              "False"
            ]
          },
          "metadata": {
            "tags": []
          },
          "execution_count": 7
        }
      ]
    },
    {
      "cell_type": "code",
      "metadata": {
        "id": "7OvKe40COevy",
        "colab_type": "code",
        "colab": {
          "base_uri": "https://localhost:8080/",
          "height": 34
        },
        "outputId": "100af152-9686-4aed-ad1f-4c8f4faee573"
      },
      "source": [
        "not (height > 175)"
      ],
      "execution_count": null,
      "outputs": [
        {
          "output_type": "execute_result",
          "data": {
            "text/plain": [
              "True"
            ]
          },
          "metadata": {
            "tags": []
          },
          "execution_count": 8
        }
      ]
    },
    {
      "cell_type": "markdown",
      "metadata": {
        "id": "eU4Wj6sHO_t4",
        "colab_type": "text"
      },
      "source": [
        "## if"
      ]
    },
    {
      "cell_type": "code",
      "metadata": {
        "id": "GVYcXOhAO_EJ",
        "colab_type": "code",
        "colab": {
          "base_uri": "https://localhost:8080/",
          "height": 34
        },
        "outputId": "4b73eb95-ad51-460f-a237-9e441a2b4312"
      },
      "source": [
        "weight = 60\n",
        "\n",
        "if weight > 50:\n",
        "    print('overweight')"
      ],
      "execution_count": null,
      "outputs": [
        {
          "output_type": "stream",
          "text": [
            "overweight\n"
          ],
          "name": "stdout"
        }
      ]
    },
    {
      "cell_type": "markdown",
      "metadata": {
        "id": "YbVX6tC4P5pP",
        "colab_type": "text"
      },
      "source": [
        "## if - else"
      ]
    },
    {
      "cell_type": "code",
      "metadata": {
        "id": "upWKGFA5P7bM",
        "colab_type": "code",
        "colab": {
          "base_uri": "https://localhost:8080/",
          "height": 34
        },
        "outputId": "99c12bb2-1a9f-415c-f94e-cd3c8816fee2"
      },
      "source": [
        "weight = 40\n",
        "\n",
        "if weight > 50:\n",
        "    print('overweight')\n",
        "else:\n",
        "    print('normal')"
      ],
      "execution_count": null,
      "outputs": [
        {
          "output_type": "stream",
          "text": [
            "normal\n"
          ],
          "name": "stdout"
        }
      ]
    },
    {
      "cell_type": "markdown",
      "metadata": {
        "id": "XeKCKCiUQDQy",
        "colab_type": "text"
      },
      "source": [
        "## if - elif - else"
      ]
    },
    {
      "cell_type": "code",
      "metadata": {
        "id": "xFu0ey3dQGkO",
        "colab_type": "code",
        "colab": {
          "base_uri": "https://localhost:8080/",
          "height": 34
        },
        "outputId": "ca33e706-ed0d-467a-e2d5-39bb1bf29ea9"
      },
      "source": [
        "weight = 40\n",
        "\n",
        "if weight > 50:\n",
        "    print('overweight')\n",
        "elif weight < 45:\n",
        "    print('lightweight')\n",
        "else:\n",
        "    print('normal')"
      ],
      "execution_count": null,
      "outputs": [
        {
          "output_type": "stream",
          "text": [
            "lightweight\n"
          ],
          "name": "stdout"
        }
      ]
    },
    {
      "cell_type": "markdown",
      "metadata": {
        "id": "mXt-tUxWQo1M",
        "colab_type": "text"
      },
      "source": [
        "## Practice\n",
        "\n",
        "Change the variable value in the above piece of code to see the different \n",
        "behavior"
      ]
    },
    {
      "cell_type": "markdown",
      "metadata": {
        "id": "qOr6MdDKkmfk",
        "colab_type": "text"
      },
      "source": [
        "# Loop"
      ]
    },
    {
      "cell_type": "markdown",
      "metadata": {
        "id": "H9FfhrwPTXUc",
        "colab_type": "text"
      },
      "source": [
        "## Loop in a list"
      ]
    },
    {
      "cell_type": "code",
      "metadata": {
        "id": "zZUQEiz5TXAc",
        "colab_type": "code",
        "colab": {
          "base_uri": "https://localhost:8080/",
          "height": 139
        },
        "outputId": "ecc86407-fb1b-4fc1-9d60-30fbd977893f"
      },
      "source": [
        "my_list = [1, 2, 3, 4, 'Python', 'is', 'neat']\n",
        "for item in my_list:\n",
        "    print(item)"
      ],
      "execution_count": null,
      "outputs": [
        {
          "output_type": "stream",
          "text": [
            "1\n",
            "2\n",
            "3\n",
            "4\n",
            "Python\n",
            "is\n",
            "neat\n"
          ],
          "name": "stdout"
        }
      ]
    },
    {
      "cell_type": "markdown",
      "metadata": {
        "id": "bo3OdMojTmFG",
        "colab_type": "text"
      },
      "source": [
        "## Loop in range()\n",
        "\n",
        "range(start, stop, step) :\n",
        "* start: An integer number specifying at which position to start. Default is 0\n",
        "* stop: An integer number specifying at which position to end.\n",
        "* step: An integer number specifying the incrementation. Default is 1"
      ]
    },
    {
      "cell_type": "code",
      "metadata": {
        "id": "x7n04cytTikW",
        "colab_type": "code",
        "colab": {
          "base_uri": "https://localhost:8080/",
          "height": 102
        },
        "outputId": "7da892e0-45a7-4604-8e74-f00adc65f737"
      },
      "source": [
        "for i in range(5):\n",
        "    print(i)"
      ],
      "execution_count": null,
      "outputs": [
        {
          "output_type": "stream",
          "text": [
            "0\n",
            "1\n",
            "2\n",
            "3\n",
            "4\n"
          ],
          "name": "stdout"
        }
      ]
    },
    {
      "cell_type": "code",
      "metadata": {
        "id": "VatMxnoNkn9T",
        "colab_type": "code",
        "colab": {
          "base_uri": "https://localhost:8080/",
          "height": 68
        },
        "outputId": "65968195-0527-4d8a-d6fa-2a87be7df380"
      },
      "source": [
        "for i in range(2,5):\n",
        "    print(i)"
      ],
      "execution_count": null,
      "outputs": [
        {
          "output_type": "stream",
          "text": [
            "2\n",
            "3\n",
            "4\n"
          ],
          "name": "stdout"
        }
      ]
    },
    {
      "cell_type": "code",
      "metadata": {
        "id": "o90FJMr-TxVx",
        "colab_type": "code",
        "colab": {
          "base_uri": "https://localhost:8080/",
          "height": 102
        },
        "outputId": "e4742405-b84a-4b91-ca91-8a03064b7598"
      },
      "source": [
        "for i in range(1, 10, 2):\n",
        "    print(i)"
      ],
      "execution_count": null,
      "outputs": [
        {
          "output_type": "stream",
          "text": [
            "1\n",
            "3\n",
            "5\n",
            "7\n",
            "9\n"
          ],
          "name": "stdout"
        }
      ]
    },
    {
      "cell_type": "markdown",
      "metadata": {
        "id": "kkyQXdtmUczy",
        "colab_type": "text"
      },
      "source": [
        "## Practice\n",
        "\n",
        "Using for-loops and range, print out all item in my_list"
      ]
    },
    {
      "cell_type": "code",
      "metadata": {
        "id": "UVeDdey0Uj4A",
        "colab_type": "code",
        "colab": {}
      },
      "source": [
        "#### YOUR CODE HERE ####\n",
        "\n",
        "#### YOUR CODE HERE ####"
      ],
      "execution_count": null,
      "outputs": []
    },
    {
      "cell_type": "markdown",
      "metadata": {
        "id": "1Aegw9iRkook",
        "colab_type": "text"
      },
      "source": [
        "# Function"
      ]
    },
    {
      "cell_type": "markdown",
      "metadata": {
        "id": "JIQWRY3wUz5e",
        "colab_type": "text"
      },
      "source": [
        "## Create a fuction"
      ]
    },
    {
      "cell_type": "code",
      "metadata": {
        "id": "j_7L5a9RUzLm",
        "colab_type": "code",
        "colab": {}
      },
      "source": [
        "def my_function():\n",
        "    print(\"Hello world!\")"
      ],
      "execution_count": null,
      "outputs": []
    },
    {
      "cell_type": "markdown",
      "metadata": {
        "id": "TdWF4vBvU56L",
        "colab_type": "text"
      },
      "source": [
        "## Call the function"
      ]
    },
    {
      "cell_type": "code",
      "metadata": {
        "id": "JL_L2f97ksQL",
        "colab_type": "code",
        "colab": {
          "base_uri": "https://localhost:8080/",
          "height": 164
        },
        "outputId": "533834b0-9efd-477f-fafd-251ad2128653"
      },
      "source": [
        "my_function()"
      ],
      "execution_count": null,
      "outputs": [
        {
          "output_type": "error",
          "ename": "NameError",
          "evalue": "ignored",
          "traceback": [
            "\u001b[0;31m---------------------------------------------------------------------------\u001b[0m",
            "\u001b[0;31mNameError\u001b[0m                                 Traceback (most recent call last)",
            "\u001b[0;32m<ipython-input-34-7bebf01be998>\u001b[0m in \u001b[0;36m<module>\u001b[0;34m()\u001b[0m\n\u001b[0;32m----> 1\u001b[0;31m \u001b[0mmy_function\u001b[0m\u001b[0;34m(\u001b[0m\u001b[0;34m)\u001b[0m\u001b[0;34m\u001b[0m\u001b[0;34m\u001b[0m\u001b[0m\n\u001b[0m",
            "\u001b[0;31mNameError\u001b[0m: name 'my_function' is not defined"
          ]
        }
      ]
    },
    {
      "cell_type": "markdown",
      "metadata": {
        "id": "dYOMlQ8pVB1s",
        "colab_type": "text"
      },
      "source": [
        "## Pass the parameters"
      ]
    },
    {
      "cell_type": "code",
      "metadata": {
        "id": "ZNtbFTOVKTp4",
        "colab_type": "code",
        "colab": {
          "base_uri": "https://localhost:8080/",
          "height": 34
        },
        "outputId": "38e0ecd3-0c2c-4dd0-fda3-6e81f484fd5c"
      },
      "source": [
        "def hello(name):\n",
        "    print(\"Hello\", name)\n",
        "    \n",
        "hello('HUY')"
      ],
      "execution_count": null,
      "outputs": [
        {
          "output_type": "stream",
          "text": [
            "Hello HUY\n"
          ],
          "name": "stdout"
        }
      ]
    },
    {
      "cell_type": "markdown",
      "metadata": {
        "id": "7RP2oHSBYt_Y",
        "colab_type": "text"
      },
      "source": [
        "## Return value"
      ]
    },
    {
      "cell_type": "code",
      "metadata": {
        "id": "fHLrAp8uYJMT",
        "colab_type": "code",
        "colab": {
          "base_uri": "https://localhost:8080/",
          "height": 34
        },
        "outputId": "3d8628f7-bee8-44ca-c629-bf7fa732b19c"
      },
      "source": [
        "def factorial(n):\n",
        "  if n == 0:\n",
        "    return 1\n",
        "  else:\n",
        "    return n*factorial(n-1)\n",
        "  \n",
        "  \n",
        "print(factorial(5))\n",
        "    "
      ],
      "execution_count": null,
      "outputs": [
        {
          "output_type": "stream",
          "text": [
            "120\n"
          ],
          "name": "stdout"
        }
      ]
    },
    {
      "cell_type": "markdown",
      "metadata": {
        "id": "ukMuxlUiX7Cm",
        "colab_type": "text"
      },
      "source": [
        "## Practice\n",
        "Develop a function which return the n*th* Fibonanci of an integer"
      ]
    },
    {
      "cell_type": "code",
      "metadata": {
        "id": "BlhDucRCVKDn",
        "colab_type": "code",
        "colab": {}
      },
      "source": [
        "def fibonacci(n):\n",
        "  #### YOUR CODE HERE ####\n",
        "  \n",
        "  #### YOUR CODE HERE ####\n",
        "  pass"
      ],
      "execution_count": null,
      "outputs": []
    },
    {
      "cell_type": "code",
      "metadata": {
        "id": "Y4H1rHy2YTsy",
        "colab_type": "code",
        "colab": {
          "base_uri": "https://localhost:8080/",
          "height": 34
        },
        "outputId": "f4ebf123-81aa-4888-9de6-db4cf01c75fa"
      },
      "source": [
        "print(fibonacci(10))"
      ],
      "execution_count": null,
      "outputs": [
        {
          "output_type": "stream",
          "text": [
            "None\n"
          ],
          "name": "stdout"
        }
      ]
    },
    {
      "cell_type": "markdown",
      "metadata": {
        "id": "lID5AwrrZJBt",
        "colab_type": "text"
      },
      "source": [
        "# Library"
      ]
    },
    {
      "cell_type": "markdown",
      "metadata": {
        "id": "ir_-aPoKZLN0",
        "colab_type": "text"
      },
      "source": [
        "## Import library"
      ]
    },
    {
      "cell_type": "code",
      "metadata": {
        "id": "qMpXwgbEZK82",
        "colab_type": "code",
        "colab": {}
      },
      "source": [
        "import math\n",
        "import numpy as np\n",
        "from random import randint"
      ],
      "execution_count": null,
      "outputs": []
    },
    {
      "cell_type": "markdown",
      "metadata": {
        "id": "rRLCmPKEaxrV",
        "colab_type": "text"
      },
      "source": [
        "## Using library"
      ]
    },
    {
      "cell_type": "code",
      "metadata": {
        "id": "DGBCuAV6ZHu4",
        "colab_type": "code",
        "colab": {
          "base_uri": "https://localhost:8080/",
          "height": 68
        },
        "outputId": "4b0c391b-c840-410b-d14b-d8a1ad8f3aa3"
      },
      "source": [
        "# Using square root function (sqrt) in library math\n",
        "print(math.sqrt(4))\n",
        "# Using mean of numpy library\n",
        "print(np.mean([1,2,3,4,5]))\n",
        "# Return random integer in range 1 to 10\n",
        "print(randint(1,10))"
      ],
      "execution_count": null,
      "outputs": [
        {
          "output_type": "stream",
          "text": [
            "2.0\n",
            "3.0\n",
            "9\n"
          ],
          "name": "stdout"
        }
      ]
    },
    {
      "cell_type": "code",
      "metadata": {
        "id": "0Y5E7sKHf_cH",
        "colab_type": "code",
        "colab": {}
      },
      "source": [
        "class_roster = {\"kien\": 5, \"hoang\": 7}"
      ],
      "execution_count": null,
      "outputs": []
    },
    {
      "cell_type": "code",
      "metadata": {
        "id": "4wa7u-D0gHuN",
        "colab_type": "code",
        "colab": {
          "base_uri": "https://localhost:8080/",
          "height": 34
        },
        "outputId": "1b88341a-d46e-4235-89dd-250c9e5e97db"
      },
      "source": [
        "class_roster[\"kien\"]"
      ],
      "execution_count": null,
      "outputs": [
        {
          "output_type": "execute_result",
          "data": {
            "text/plain": [
              "5"
            ]
          },
          "metadata": {
            "tags": []
          },
          "execution_count": 16
        }
      ]
    },
    {
      "cell_type": "markdown",
      "metadata": {
        "id": "VRn9V2robrNk",
        "colab_type": "text"
      },
      "source": [
        "# Reference\n",
        "\n",
        "* https://github.com/jerry-git/learn-python3\n",
        "* http://cs231n.github.io/python-numpy-tutorial/"
      ]
    }
  ]
}